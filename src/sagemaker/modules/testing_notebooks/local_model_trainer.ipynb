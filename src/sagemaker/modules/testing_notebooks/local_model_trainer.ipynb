{
 "cells": [
  {
   "cell_type": "code",
   "execution_count": null,
   "metadata": {},
   "outputs": [],
   "source": [
    "import sys, os\n",
    "from sagemaker import image_uris\n",
    "\n",
    "# Get the absolute path of the root directory\n",
    "root_dir = os.path.abspath(os.path.join(os.getcwd(), \"../../..\"))\n",
    "sys.path.insert(0, root_dir)"
   ]
  },
  {
   "cell_type": "markdown",
   "metadata": {},
   "source": [
    "## Local Mode ModelTrainer\n",
    "\n",
    "In local mode training, user will train their model in a container that runs in their local machine.\n",
    "You don't need to access any AWS resources unless you want to use data from S3 as input, or pull images from ECR."
   ]
  },
  {
   "cell_type": "markdown",
   "metadata": {},
   "source": [
    "## Simple Case Minimally Setup Local ModelTrainer and Execute Commands\n",
    "When running model trainer in local mode, you need to have docker engine running in your environment.\n",
    "When you run the following cell for the first time, a SageMaker session will be initiated to pull the image from ECR.\n",
    "Once the image has been pulled, there won't be any AWS API call."
   ]
  },
  {
   "cell_type": "code",
   "execution_count": null,
   "metadata": {},
   "outputs": [],
   "source": [
    "from sagemaker.modules.train.model_trainer import ModelTrainer, Mode\n",
    "from sagemaker.modules.configs import SourceCode\n",
    "from sagemaker.modules.constants import DEFAULT_INSTANCE_TYPE\n",
    "\n",
    "hugging_face_image = \"763104351884.dkr.ecr.us-west-2.amazonaws.com/huggingface-pytorch-training:2.0.0-transformers4.28.1-gpu-py310-cu118-ubuntu20.04\"\n",
    "\n",
    "source_code = SourceCode(\n",
    "    command=\"echo 'Hello World' && env\",\n",
    ")\n",
    "model_trainer = ModelTrainer(\n",
    "    training_image=hugging_face_image,\n",
    "    source_code=source_code,\n",
    "    training_mode=Mode.LOCAL_CONTAINER,\n",
    ")"
   ]
  },
  {
   "cell_type": "code",
   "execution_count": null,
   "metadata": {},
   "outputs": [],
   "source": [
    "model_trainer.train()"
   ]
  },
  {
   "cell_type": "markdown",
   "metadata": {},
   "source": [
    "## Simple Script Mode Case - 1: Training with Local Data\n",
    "In this example, everything (input, output, training resource) will be in your local environment. You don't need to use your AWS account at all for this."
   ]
  },
  {
   "cell_type": "code",
   "execution_count": null,
   "metadata": {},
   "outputs": [],
   "source": [
    "from sagemaker.modules.configs import Compute, InputData, SourceCode\n",
    "\n",
    "source_code = SourceCode(\n",
    "    source_dir=\"basic-script-mode\",\n",
    "    entry_script=\"local_training_script.py\",\n",
    ")\n",
    "\n",
    "compute = Compute(\n",
    "    instance_type=\"local_cpu\",\n",
    "    instance_count=1,\n",
    ")\n",
    "\n",
    "train_data = InputData(\n",
    "    channel_name=\"train\",\n",
    "    data_source=\"basic-script-mode/data/train/\",\n",
    ")\n",
    "\n",
    "test_data = InputData(\n",
    "    channel_name=\"test\",\n",
    "    data_source=\"basic-script-mode/data/test/\",\n",
    ")\n",
    "\n",
    "model_trainer = ModelTrainer(\n",
    "    training_image=hugging_face_image,\n",
    "    source_code=source_code,\n",
    "    compute=compute,\n",
    "    input_data_config=[train_data, test_data],\n",
    "    base_job_name=\"local_mode_single_container_case_1\",\n",
    "    training_mode=Mode.LOCAL_CONTAINER,\n",
    ")"
   ]
  },
  {
   "cell_type": "code",
   "execution_count": null,
   "metadata": {},
   "outputs": [],
   "source": [
    "model_trainer.train()"
   ]
  },
  {
   "cell_type": "markdown",
   "metadata": {},
   "source": [
    "## Simple Script Mode Case - 2: Training with Input Data from S3\n",
    "In this example, the input data is read from S3. You will have to configure your AWS credentials before running this."
   ]
  },
  {
   "cell_type": "code",
   "execution_count": null,
   "metadata": {},
   "outputs": [],
   "source": [
    "train_data = InputData(\n",
    "    channel_name=\"train\", data_source=\"s3://morpheus-bugbash/basic-script-mode/data/train/\"\n",
    ")\n",
    "\n",
    "test_data = InputData(\n",
    "    channel_name=\"test\", data_source=\"s3://morpheus-bugbash/basic-script-mode/data/test/\"\n",
    ")\n",
    "\n",
    "model_trainer = ModelTrainer(\n",
    "    training_image=hugging_face_image,\n",
    "    source_code=source_code,\n",
    "    compute=compute,\n",
    "    input_data_config=[train_data, test_data],\n",
    "    base_job_name=\"local_mode_single_container_case_2\",\n",
    "    training_mode=Mode.LOCAL_CONTAINER,\n",
    ")"
   ]
  },
  {
   "cell_type": "code",
   "execution_count": null,
   "metadata": {},
   "outputs": [],
   "source": [
    "model_trainer.train()"
   ]
  }
 ],
 "metadata": {
  "kernelspec": {
   "display_name": "py3.10",
   "language": "python",
   "name": "python3"
  },
  "language_info": {
   "codemirror_mode": {
    "name": "ipython",
    "version": 3
   },
   "file_extension": ".py",
   "mimetype": "text/x-python",
   "name": "python",
   "nbconvert_exporter": "python",
   "pygments_lexer": "ipython3",
   "version": "3.10.14"
  }
 },
 "nbformat": 4,
 "nbformat_minor": 2
}
