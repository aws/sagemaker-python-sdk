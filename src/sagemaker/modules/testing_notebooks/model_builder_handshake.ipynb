{
 "cells": [
  {
   "cell_type": "code",
   "id": "initial_id",
   "metadata": {
    "collapsed": true
   },
   "source": [
    "from sagemaker_core.main.shapes import TrainingJob\n",
    "\n",
    "from sagemaker import Session, get_execution_role\n",
    "\n",
    "sagemaker_session = Session()\n",
    "role = get_execution_role()\n",
    "region = sagemaker_session.boto_region_name\n",
    "bucket = sagemaker_session.default_bucket()"
   ],
   "outputs": [],
   "execution_count": null
  },
  {
   "metadata": {},
   "cell_type": "code",
   "source": [
    "\n",
    "from sagemaker.modules.configs import SourceCode\n",
    "from sagemaker.modules.train.model_trainer import ModelTrainer\n",
    "\n",
    "xgboost_image = \"433757028032.dkr.ecr.us-west-2.amazonaws.com/xgboost:latest\"\n",
    "\n",
    "source_code = SourceCode(\n",
    "    command=\"echo 'Hello World' && env\",\n",
    ")\n",
    "model_trainer = ModelTrainer(\n",
    "    training_image=xgboost_image,\n",
    "    source_code=source_code,\n",
    ")\n",
    "\n",
    "model_trainer.train()"
   ],
   "id": "4b3a4f7d1713685f",
   "outputs": [],
   "execution_count": null
  },
  {
   "metadata": {},
   "cell_type": "code",
   "source": [
    "import numpy as np\n",
    "from sagemaker.serve.builder.schema_builder import SchemaBuilder\n",
    "import pandas as pd\n",
    "from xgboost import XGBClassifier\n",
    "from sagemaker.serve.spec.inference_spec import InferenceSpec\n",
    "from sagemaker.serve import ModelBuilder\n",
    "\n",
    "data = {\n",
    "    'Name': ['Alice', 'Bob', 'Charlie']\n",
    "}\n",
    "df = pd.DataFrame(data)\n",
    "schema_builder = SchemaBuilder(sample_input=df, sample_output=df)\n",
    "\n",
    "\n",
    "class XGBoostSpec(InferenceSpec):\n",
    "    def load(self, model_dir: str):\n",
    "        print(model_dir)\n",
    "        model = XGBClassifier()\n",
    "        model.load_model(model_dir + \"/xgboost-model\")\n",
    "        return model\n",
    "\n",
    "    def invoke(self, input_object: object, model: object):\n",
    "        prediction_probabilities = model.predict_proba(input_object)\n",
    "        predictions = np.argmax(prediction_probabilities, axis=1)\n",
    "        return predictions\n",
    "\n",
    "model_builder = ModelBuilder(\n",
    "    model=model_trainer, # ModelTrainer object passed onto ModelBuilder directly \n",
    "    role_arn=role,\n",
    "    image_uri=xgboost_image,\n",
    "    inference_spec=XGBoostSpec(),\n",
    "    schema_builder=schema_builder,\n",
    "    instance_type=\"ml.c6i.xlarge\"\n",
    ")\n",
    "model=model_builder.build()\n",
    "predictor=model_builder.deploy()\n",
    "\n",
    "predictor\n",
    "assert model.model_data == model_trainer._latest_training_job.model_artifacts.s3_model_artifacts\n",
    "\n",
    "print(model.model_data)"
   ],
   "id": "295a16ef277257a0",
   "outputs": [],
   "execution_count": null
  },
  {
   "metadata": {},
   "cell_type": "code",
   "source": [
    "training_job: TrainingJob = model_trainer._latest_training_job\n",
    "\n",
    "model_builder = ModelBuilder(\n",
    "    model=training_job, # Sagemaker core's TrainingJob object passed onto ModelBuilder directly \n",
    "    role_arn=role,\n",
    "    image_uri=xgboost_image,\n",
    "    schema_builder=schema_builder,\n",
    "    inference_spec=XGBoostSpec(),\n",
    "    instance_type=\"ml.c6i.xlarge\"\n",
    ")\n",
    "model=model_builder.build()\n",
    "\n",
    "assert model.model_data == training_job.model_artifacts.s3_model_artifacts\n",
    "\n",
    "print(model.model_data)"
   ],
   "id": "935ea8486278d7b1",
   "outputs": [],
   "execution_count": null
  },
  {
   "metadata": {},
   "cell_type": "code",
   "source": "",
   "id": "757180da84407a1a",
   "outputs": [],
   "execution_count": null
  }
 ],
 "metadata": {
  "kernelspec": {
   "display_name": "Python 3",
   "language": "python",
   "name": "python3"
  },
  "language_info": {
   "codemirror_mode": {
    "name": "ipython",
    "version": 2
   },
   "file_extension": ".py",
   "mimetype": "text/x-python",
   "name": "python",
   "nbconvert_exporter": "python",
   "pygments_lexer": "ipython2",
   "version": "2.7.6"
  }
 },
 "nbformat": 4,
 "nbformat_minor": 5
}
