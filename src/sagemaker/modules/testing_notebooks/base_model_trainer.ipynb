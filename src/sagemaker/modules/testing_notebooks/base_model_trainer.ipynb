{
 "cells": [
  {
   "cell_type": "code",
   "execution_count": null,
   "metadata": {},
   "outputs": [],
   "source": [
    "import sys, os\n",
    "# Get the absolute path of the root directory\n",
    "root_dir = os.path.abspath(os.path.join(os.getcwd(), '../../..'))\n",
    "sys.path.insert(0, root_dir)"
   ]
  },
  {
   "cell_type": "code",
   "execution_count": null,
   "metadata": {},
   "outputs": [],
   "source": [
    "from sagemaker.modules.train.model_trainer import ModelTrainer\n",
    "from sagemaker.modules.image_spec import ImageSpec\n",
    "\n",
    "pytorch_image = ImageSpec(\n",
    "    framework_name=\"pytorch\",\n",
    "    version=\"1.13.1\",\n",
    "    py_version=\"py39\"\n",
    ")\n",
    "\n",
    "python_ecr_image = \"public.ecr.aws/docker/library/python:3.10.15-slim\"\n",
    "python_docker_image = \"python:3.10.15-slim\"\n",
    "\n",
    "model_trainer = ModelTrainer(training_image=pytorch_image)\n"
   ]
  },
  {
   "cell_type": "code",
   "execution_count": null,
   "metadata": {},
   "outputs": [],
   "source": [
    "from sagemaker.modules.configs import SourceCodeConfig\n",
    "\n",
    "source_code_config = SourceCodeConfig(\n",
    "    command=\"echo 'Hello World' && env\",\n",
    ")\n",
    "model_trainer.train(source_code_config=source_code_config)"
   ]
  },
  {
   "cell_type": "code",
   "execution_count": null,
   "metadata": {},
   "outputs": [],
   "source": []
  }
 ],
 "metadata": {
  "kernelspec": {
   "display_name": "Python 3",
   "language": "python",
   "name": "python3"
  },
  "language_info": {
   "codemirror_mode": {
    "name": "ipython",
    "version": 3
   },
   "file_extension": ".py",
   "mimetype": "text/x-python",
   "name": "python",
   "nbconvert_exporter": "python",
   "pygments_lexer": "ipython3",
   "version": "3.10.14"
  }
 },
 "nbformat": 4,
 "nbformat_minor": 2
}
