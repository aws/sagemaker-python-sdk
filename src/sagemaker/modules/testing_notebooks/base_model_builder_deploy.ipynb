{
 "cells": [
  {
   "cell_type": "markdown",
   "id": "270525e009204918",
   "metadata": {},
   "source": [
    "## This Notebook is to showcase the deploy function of ModelBuilder. \n",
    "\n",
    "As ModelBuilder becomes the main interface for all inference related changes, this deploy function is one step further to provide an enhanced experience over Model.deploy(). \n",
    "The deploy function mainly provides 2 advantages:\n",
    "1. Simplification of parameters - Reducing the total parameters required from 22 to 7. \n",
    "2. Validation/Error Handling with enum to make sure the deployment mode related parameters are provided in the call"
   ]
  },
  {
   "cell_type": "markdown",
   "id": "bb8a9608ba668104",
   "metadata": {},
   "source": [
    "### Basic Setup"
   ]
  },
  {
   "cell_type": "code",
   "execution_count": null,
   "id": "80089403",
   "metadata": {},
   "outputs": [],
   "source": [
    "! pip install \"pydantic>=2.0.0\" sagemaker-core"
   ]
  },
  {
   "cell_type": "code",
   "execution_count": null,
   "id": "e094f5f0",
   "metadata": {},
   "outputs": [],
   "source": [
    "! pip install sagemaker-2.232.4.dev0.tar.gz"
   ]
  },
  {
   "cell_type": "code",
   "execution_count": null,
   "id": "a8fdb05f0164a7b6",
   "metadata": {
    "ExecuteTime": {
     "end_time": "2024-10-30T20:10:08.460832Z",
     "start_time": "2024-10-30T20:10:03.204079Z"
    }
   },
   "outputs": [],
   "source": [
    "from sagemaker import Session, get_execution_role\n",
    "\n",
    "sagemaker_session = Session()\n",
    "role = get_execution_role()\n",
    "region = sagemaker_session.boto_region_name\n",
    "bucket = sagemaker_session.default_bucket()\n"
   ]
  },
  {
   "cell_type": "markdown",
   "id": "75baff9492b9c9a6",
   "metadata": {},
   "source": [
    "### Create Training Job and Model Builder"
   ]
  },
  {
   "cell_type": "code",
   "execution_count": null,
   "id": "2d4ade0d9d11b649",
   "metadata": {
    "ExecuteTime": {
     "end_time": "2024-10-30T20:10:09.506486Z",
     "start_time": "2024-10-30T20:10:08.468687Z"
    }
   },
   "outputs": [],
   "source": [
    "from sklearn.datasets import load_iris\n",
    "from sklearn.model_selection import train_test_split\n",
    "\n",
    "import pandas as pd\n",
    "\n",
    "# Get IRIS Data\n",
    "\n",
    "iris = load_iris()\n",
    "iris_df = pd.DataFrame(iris.data, columns=iris.feature_names)\n",
    "iris_df['target'] = iris.target\n",
    "\n",
    "import os\n",
    "\n",
    "# Prepare Data\n",
    "\n",
    "os.makedirs('./data', exist_ok=True)\n",
    "\n",
    "iris_df = iris_df[['target'] + [col for col in iris_df.columns if col != 'target']]\n",
    "\n",
    "train_data, test_data = train_test_split(iris_df, test_size=0.2, random_state=42)\n",
    "\n",
    "train_data.to_csv('./data/train.csv', index=False, header=False)\n",
    "test_data.to_csv('./data/test.csv', index=False, header=False)\n",
    "\n",
    "# Remove the target column from the testing data. We will use this to call invoke_endpoint later\n",
    "test_data_no_target = test_data.drop('target', axis=1)\n",
    "\n",
    "prefix = \"DEMO-scikit-iris\"\n",
    "TRAIN_DATA = \"train.csv\"\n",
    "DATA_DIRECTORY = \"data\"\n",
    "\n",
    "train_input = sagemaker_session.upload_data(\n",
    "    DATA_DIRECTORY, bucket=bucket, key_prefix=\"{}/{}\".format(prefix, DATA_DIRECTORY)\n",
    ")\n",
    "\n",
    "s3_input_path = \"s3://{}/{}/data/{}\".format(bucket, prefix, TRAIN_DATA)\n",
    "s3_output_path = \"s3://{}/{}/output\".format(bucket, prefix)\n",
    "\n",
    "print(s3_input_path)\n",
    "print(s3_output_path)"
   ]
  },
  {
   "cell_type": "code",
   "execution_count": null,
   "id": "cdda06c2b848ce94",
   "metadata": {
    "ExecuteTime": {
     "end_time": "2024-10-30T20:12:53.241670Z",
     "start_time": "2024-10-30T20:10:09.640599Z"
    }
   },
   "outputs": [],
   "source": [
    "from sagemaker_core.main.shapes import AlgorithmSpecification, Channel, DataSource, S3DataSource,OutputDataConfig, ResourceConfig, StoppingCondition\n",
    "import uuid\n",
    "from sagemaker.serve.builder.model_builder import  ModelBuilder, BatchTransformInferenceConfig\n",
    "import pandas as pd\n",
    "import numpy as np\n",
    "from sagemaker.serve import InferenceSpec, SchemaBuilder\n",
    "from sagemaker_core.main.resources import TrainingJob\n",
    "from xgboost import XGBClassifier\n",
    "\n",
    "image = \"433757028032.dkr.ecr.us-west-2.amazonaws.com/xgboost:latest\"\n",
    "\n",
    "class XGBoostSpec(InferenceSpec):\n",
    "    def load(self, model_dir: str):\n",
    "        print(model_dir)\n",
    "        model = XGBClassifier()\n",
    "        model.load_model(model_dir + \"/xgboost-model\")\n",
    "        return model\n",
    "\n",
    "    def invoke(self, input_object: object, model: object):\n",
    "        prediction_probabilities = model.predict_proba(input_object)\n",
    "        predictions = np.argmax(prediction_probabilities, axis=1)\n",
    "        return predictions\n",
    "    \n",
    "data = {\n",
    "    'Name': ['Alice', 'Bob', 'Charlie']\n",
    "}\n",
    "df = pd.DataFrame(data)\n",
    "training_job_name  = str(uuid.uuid4())\n",
    "schema_builder = SchemaBuilder(sample_input=df, sample_output=df)\n",
    "\n",
    "training_job = TrainingJob.create(\n",
    "    training_job_name=training_job_name,\n",
    "    hyper_parameters={\n",
    "        'objective': 'multi:softmax',\n",
    "        'num_class': '3',\n",
    "        'num_round': '10',\n",
    "        'eval_metric': 'merror'\n",
    "    },\n",
    "    algorithm_specification=AlgorithmSpecification(\n",
    "        training_image=image,\n",
    "        training_input_mode='File'\n",
    "    ),\n",
    "    role_arn=role,\n",
    "    input_data_config=[\n",
    "        Channel(\n",
    "            channel_name='train',\n",
    "            content_type='csv',\n",
    "            compression_type='None',\n",
    "            record_wrapper_type='None',\n",
    "            data_source=DataSource(\n",
    "                s3_data_source=S3DataSource(\n",
    "                    s3_data_type='S3Prefix',\n",
    "                    s3_uri=s3_input_path,\n",
    "                    s3_data_distribution_type='FullyReplicated'\n",
    "                )\n",
    "            )\n",
    "        )\n",
    "    ],\n",
    "    output_data_config=OutputDataConfig(\n",
    "        s3_output_path=s3_output_path\n",
    "    ),\n",
    "    resource_config=ResourceConfig(\n",
    "        instance_type='ml.m4.xlarge',\n",
    "        instance_count=1,\n",
    "        volume_size_in_gb=30\n",
    "    ),\n",
    "    stopping_condition=StoppingCondition(\n",
    "        max_runtime_in_seconds=600\n",
    "    )\n",
    ")\n",
    "training_job.wait()\n",
    "\n",
    "model_builder = ModelBuilder(\n",
    "    model_path=training_job.model_artifacts.s3_model_artifacts,\n",
    "    role_arn=role,\n",
    "    inference_spec=XGBoostSpec(),\n",
    "    image_uri=image,\n",
    "    schema_builder=schema_builder,\n",
    "    instance_type=\"ml.c6i.xlarge\"\n",
    ")\n",
    "model_builder.build()\n"
   ]
  },
  {
   "cell_type": "markdown",
   "id": "b0d045e8f64e3787",
   "metadata": {},
   "source": [
    "#### Real Time Deployment"
   ]
  },
  {
   "cell_type": "code",
   "execution_count": null,
   "id": "96bb41b4146549dd",
   "metadata": {
    "ExecuteTime": {
     "end_time": "2024-10-30T20:16:00.777140Z",
     "start_time": "2024-10-30T20:12:53.258703Z"
    }
   },
   "outputs": [],
   "source": [
    "real_time_predictor = model_builder.deploy(\n",
    "    initial_instance_count=1)"
   ]
  },
  {
   "cell_type": "markdown",
   "id": "5104c00db40527fd",
   "metadata": {},
   "source": [
    "#### Serverless Deployment"
   ]
  },
  {
   "cell_type": "code",
   "execution_count": null,
   "id": "9a5de6c58da465f9",
   "metadata": {
    "ExecuteTime": {
     "end_time": "2024-10-30T20:18:15.929714Z",
     "start_time": "2024-10-30T20:16:00.806356Z"
    }
   },
   "outputs": [],
   "source": [
    "from sagemaker.serverless.serverless_inference_config import ServerlessInferenceConfig\n",
    "\n",
    "serverless_predictor = model_builder.deploy(\n",
    "    inference_config=ServerlessInferenceConfig())"
   ]
  },
  {
   "cell_type": "markdown",
   "id": "6462fe2d8f85dba7",
   "metadata": {},
   "source": [
    "#### Async Deployment"
   ]
  },
  {
   "cell_type": "code",
   "execution_count": null,
   "id": "271e8dcfb015d69a",
   "metadata": {
    "ExecuteTime": {
     "end_time": "2024-10-30T20:21:27.809852Z",
     "start_time": "2024-10-30T20:18:15.955152Z"
    }
   },
   "outputs": [],
   "source": [
    "from sagemaker.s3_utils import s3_path_join\n",
    "from sagemaker.async_inference import AsyncInferenceConfig\n",
    "\n",
    "async_predictor = model_builder.deploy(\n",
    "    inference_config=AsyncInferenceConfig(\n",
    "        output_path=s3_path_join(\"s3://\", bucket, \"async_inference/output\")),\n",
    ")"
   ]
  },
  {
   "cell_type": "markdown",
   "id": "f8458db5bfb1a0c5",
   "metadata": {},
   "source": [
    "#### Batch Deployment"
   ]
  },
  {
   "cell_type": "code",
   "execution_count": null,
   "id": "5a80ccf640a5dca9",
   "metadata": {},
   "outputs": [],
   "source": [
    "from sagemaker.s3_utils import s3_path_join\n",
    "\n",
    "\n",
    "batch_predictor = model_builder.deploy(\n",
    "    initial_instance_count=1,\n",
    "    inference_config=BatchTransformInferenceConfig(\n",
    "        instance_count=1,\n",
    "        instance_type='ml.m5.large',\n",
    "        output_path=s3_path_join(\"s3://\", bucket, \"async_inference/output\"),\n",
    "    )\n",
    ")"
   ]
  },
  {
   "cell_type": "markdown",
   "id": "d97c14830180dd4",
   "metadata": {},
   "source": [
    "#### MultiModel Deployment\n",
    "\n",
    "Similar syntax applies for Multi-Container Endpoint as well"
   ]
  },
  {
   "cell_type": "code",
   "execution_count": null,
   "id": "9788d4f7fab3b7ca",
   "metadata": {
    "ExecuteTime": {
     "start_time": "2024-10-30T20:30:57.436543Z"
    },
    "jupyter": {
     "is_executing": true
    }
   },
   "outputs": [],
   "source": [
    "from sagemaker.compute_resource_requirements import ResourceRequirements\n",
    "\n",
    "multi_model_predictor = model_builder.deploy(\n",
    "    inference_config = ResourceRequirements(\n",
    "        requests={\n",
    "            \"num_cpus\": 0.5,\n",
    "            \"memory\": 512,\n",
    "            \"copies\": 2,\n",
    "        },\n",
    "        limits={},\n",
    "    ),\n",
    "    initial_instance_count=1)"
   ]
  },
  {
   "cell_type": "code",
   "execution_count": null,
   "id": "724aec7045fd80f1",
   "metadata": {},
   "outputs": [],
   "source": []
  }
 ],
 "metadata": {
  "kernelspec": {
   "display_name": "Python 3",
   "language": "python",
   "name": "python3"
  },
  "language_info": {
   "codemirror_mode": {
    "name": "ipython",
    "version": 2
   },
   "file_extension": ".py",
   "mimetype": "text/x-python",
   "name": "python",
   "nbconvert_exporter": "python",
   "pygments_lexer": "ipython2",
   "version": "2.7.6"
  }
 },
 "nbformat": 4,
 "nbformat_minor": 5
}
