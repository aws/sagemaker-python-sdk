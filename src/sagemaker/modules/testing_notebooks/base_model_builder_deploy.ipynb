{
 "cells": [
  {
   "metadata": {},
   "cell_type": "markdown",
   "source": [
    "## This Notebook is to showcase the deploy function of ModelBuilder. \n",
    "\n",
    "As ModelBuilder becomes the main interface for all inference related changes, this deploy function is one step further to provide an enhanced experience over Model.deploy(). \n",
    "The deploy function mainly provides 2 advantages:\n",
    "1. Simplification of parameters - Reducing the total parameters required from 22 to 7. \n",
    "2. Validation/Error Handling with enum to make sure the deployment mode related parameters are provided in the call"
   ],
   "id": "270525e009204918"
  },
  {
   "metadata": {},
   "cell_type": "markdown",
   "source": "### Basic Setup",
   "id": "bb8a9608ba668104"
  },
  {
   "metadata": {
    "ExecuteTime": {
     "end_time": "2024-10-30T20:10:08.460832Z",
     "start_time": "2024-10-30T20:10:03.204079Z"
    }
   },
   "cell_type": "code",
   "source": [
    "from sagemaker import Session, get_execution_role\n",
    "\n",
    "sagemaker_session = Session()\n",
    "role = get_execution_role()\n",
    "region = sagemaker_session.boto_region_name\n",
    "bucket = sagemaker_session.default_bucket()\n"
   ],
   "id": "a8fdb05f0164a7b6",
   "outputs": [
    {
     "name": "stdout",
     "output_type": "stream",
     "text": [
      "sagemaker.config INFO - Not applying SDK defaults from location: /Library/Application Support/sagemaker/config.yaml\n",
      "sagemaker.config INFO - Not applying SDK defaults from location: /Users/nargokul/Library/Application Support/sagemaker/config.yaml\n"
     ]
    }
   ],
   "execution_count": 1
  },
  {
   "metadata": {},
   "cell_type": "markdown",
   "source": "### Create Training Job and Model Builder",
   "id": "75baff9492b9c9a6"
  },
  {
   "metadata": {
    "ExecuteTime": {
     "end_time": "2024-10-30T20:10:09.506486Z",
     "start_time": "2024-10-30T20:10:08.468687Z"
    }
   },
   "cell_type": "code",
   "source": [
    "from sklearn.datasets import load_iris\n",
    "from sklearn.model_selection import train_test_split\n",
    "\n",
    "import pandas as pd\n",
    "\n",
    "# Get IRIS Data\n",
    "\n",
    "iris = load_iris()\n",
    "iris_df = pd.DataFrame(iris.data, columns=iris.feature_names)\n",
    "iris_df['target'] = iris.target\n",
    "\n",
    "import os\n",
    "\n",
    "# Prepare Data\n",
    "\n",
    "os.makedirs('./data', exist_ok=True)\n",
    "\n",
    "iris_df = iris_df[['target'] + [col for col in iris_df.columns if col != 'target']]\n",
    "\n",
    "train_data, test_data = train_test_split(iris_df, test_size=0.2, random_state=42)\n",
    "\n",
    "train_data.to_csv('./data/train.csv', index=False, header=False)\n",
    "test_data.to_csv('./data/test.csv', index=False, header=False)\n",
    "\n",
    "# Remove the target column from the testing data. We will use this to call invoke_endpoint later\n",
    "test_data_no_target = test_data.drop('target', axis=1)\n",
    "\n",
    "prefix = \"DEMO-scikit-iris\"\n",
    "TRAIN_DATA = \"train.csv\"\n",
    "DATA_DIRECTORY = \"data\"\n",
    "\n",
    "train_input = sagemaker_session.upload_data(\n",
    "    DATA_DIRECTORY, bucket=bucket, key_prefix=\"{}/{}\".format(prefix, DATA_DIRECTORY)\n",
    ")\n",
    "\n",
    "s3_input_path = \"s3://{}/{}/data/{}\".format(bucket, prefix, TRAIN_DATA)\n",
    "s3_output_path = \"s3://{}/{}/output\".format(bucket, prefix)\n",
    "\n",
    "print(s3_input_path)\n",
    "print(s3_output_path)"
   ],
   "id": "2d4ade0d9d11b649",
   "outputs": [
    {
     "name": "stdout",
     "output_type": "stream",
     "text": [
      "s3://sagemaker-us-west-2-211125564141/DEMO-scikit-iris/data/train.csv\n",
      "s3://sagemaker-us-west-2-211125564141/DEMO-scikit-iris/output\n"
     ]
    }
   ],
   "execution_count": 2
  },
  {
   "metadata": {
    "ExecuteTime": {
     "end_time": "2024-10-30T20:12:53.241670Z",
     "start_time": "2024-10-30T20:10:09.640599Z"
    }
   },
   "cell_type": "code",
   "source": [
    "from sagemaker_core.main.shapes import AlgorithmSpecification, Channel, DataSource, S3DataSource,OutputDataConfig, ResourceConfig, StoppingCondition\n",
    "import uuid\n",
    "from sagemaker.serve.builder.model_builder import  ModelBuilder, BatchTransformInferenceConfig\n",
    "import pandas as pd\n",
    "import numpy as np\n",
    "from sagemaker.serve import InferenceSpec, SchemaBuilder\n",
    "from sagemaker_core.main.resources import TrainingJob\n",
    "from xgboost import XGBClassifier\n",
    "\n",
    "image = \"433757028032.dkr.ecr.us-west-2.amazonaws.com/xgboost:latest\"\n",
    "\n",
    "class XGBoostSpec(InferenceSpec):\n",
    "    def load(self, model_dir: str):\n",
    "        print(model_dir)\n",
    "        model = XGBClassifier()\n",
    "        model.load_model(model_dir + \"/xgboost-model\")\n",
    "        return model\n",
    "\n",
    "    def invoke(self, input_object: object, model: object):\n",
    "        prediction_probabilities = model.predict_proba(input_object)\n",
    "        predictions = np.argmax(prediction_probabilities, axis=1)\n",
    "        return predictions\n",
    "    \n",
    "data = {\n",
    "    'Name': ['Alice', 'Bob', 'Charlie']\n",
    "}\n",
    "df = pd.DataFrame(data)\n",
    "training_job_name  = str(uuid.uuid4())\n",
    "schema_builder = SchemaBuilder(sample_input=df, sample_output=df)\n",
    "\n",
    "training_job = TrainingJob.create(\n",
    "    training_job_name=training_job_name,\n",
    "    hyper_parameters={\n",
    "        'objective': 'multi:softmax',\n",
    "        'num_class': '3',\n",
    "        'num_round': '10',\n",
    "        'eval_metric': 'merror'\n",
    "    },\n",
    "    algorithm_specification=AlgorithmSpecification(\n",
    "        training_image=image,\n",
    "        training_input_mode='File'\n",
    "    ),\n",
    "    role_arn=role,\n",
    "    input_data_config=[\n",
    "        Channel(\n",
    "            channel_name='train',\n",
    "            content_type='csv',\n",
    "            compression_type='None',\n",
    "            record_wrapper_type='None',\n",
    "            data_source=DataSource(\n",
    "                s3_data_source=S3DataSource(\n",
    "                    s3_data_type='S3Prefix',\n",
    "                    s3_uri=s3_input_path,\n",
    "                    s3_data_distribution_type='FullyReplicated'\n",
    "                )\n",
    "            )\n",
    "        )\n",
    "    ],\n",
    "    output_data_config=OutputDataConfig(\n",
    "        s3_output_path=s3_output_path\n",
    "    ),\n",
    "    resource_config=ResourceConfig(\n",
    "        instance_type='ml.m4.xlarge',\n",
    "        instance_count=1,\n",
    "        volume_size_in_gb=30\n",
    "    ),\n",
    "    stopping_condition=StoppingCondition(\n",
    "        max_runtime_in_seconds=600\n",
    "    )\n",
    ")\n",
    "training_job.wait()\n",
    "\n",
    "model_builder = ModelBuilder(\n",
    "    model_path=training_job.model_artifacts.s3_model_artifacts,\n",
    "    role_arn=role,\n",
    "    inference_spec=XGBoostSpec(),\n",
    "    image_uri=image,\n",
    "    schema_builder=schema_builder,\n",
    "    instance_type=\"ml.c6i.xlarge\"\n",
    ")\n",
    "model_builder.build()\n"
   ],
   "id": "cdda06c2b848ce94",
   "outputs": [
    {
     "name": "stderr",
     "output_type": "stream",
     "text": [
      "/Library/Python/3.9/site-packages/pydantic/_internal/_fields.py:200: UserWarning: Field name \"json\" in \"MonitoringDatasetFormat\" shadows an attribute in parent \"Base\"\n",
      "  warnings.warn(\n"
     ]
    },
    {
     "data": {
      "text/plain": [
       "\u001B[2;36m[10/30/24 13:10:11]\u001B[0m\u001B[2;36m \u001B[0m\u001B[1;38;2;0;105;255mINFO    \u001B[0m Creating training_job resource.                                     \u001B]8;id=847076;file:///Library/Python/3.9/site-packages/sagemaker_core/main/resources.py\u001B\\\u001B[2mresources.py\u001B[0m\u001B]8;;\u001B\\\u001B[2m:\u001B[0m\u001B]8;id=443564;file:///Library/Python/3.9/site-packages/sagemaker_core/main/resources.py#26309\u001B\\\u001B[2m26309\u001B[0m\u001B]8;;\u001B\\\n"
      ],
      "text/html": [
       "<pre style=\"white-space:pre;overflow-x:auto;line-height:normal;font-family:Menlo,'DejaVu Sans Mono',consolas,'Courier New',monospace\"><span style=\"color: #7fbfbf; text-decoration-color: #7fbfbf\">[10/30/24 13:10:11] </span><span style=\"color: #0069ff; text-decoration-color: #0069ff; font-weight: bold\">INFO    </span> Creating training_job resource.                                     <a href=\"file:///Library/Python/3.9/site-packages/sagemaker_core/main/resources.py\" target=\"_blank\"><span style=\"color: #7f7f7f; text-decoration-color: #7f7f7f\">resources.py</span></a><span style=\"color: #7f7f7f; text-decoration-color: #7f7f7f\">:</span><a href=\"file:///Library/Python/3.9/site-packages/sagemaker_core/main/resources.py#26309\" target=\"_blank\"><span style=\"color: #7f7f7f; text-decoration-color: #7f7f7f\">26309</span></a>\n",
       "</pre>\n"
      ]
     },
     "metadata": {},
     "output_type": "display_data"
    },
    {
     "data": {
      "text/plain": [
       "\u001B[2;36m                   \u001B[0m\u001B[2;36m \u001B[0m\u001B[1;38;2;215;175;0mWARNING \u001B[0m No boto3 session provided. Creating a new session.                        \u001B]8;id=990982;file:///Library/Python/3.9/site-packages/sagemaker_core/main/utils.py\u001B\\\u001B[2mutils.py\u001B[0m\u001B]8;;\u001B\\\u001B[2m:\u001B[0m\u001B]8;id=537669;file:///Library/Python/3.9/site-packages/sagemaker_core/main/utils.py#336\u001B\\\u001B[2m336\u001B[0m\u001B]8;;\u001B\\\n"
      ],
      "text/html": [
       "<pre style=\"white-space:pre;overflow-x:auto;line-height:normal;font-family:Menlo,'DejaVu Sans Mono',consolas,'Courier New',monospace\"><span style=\"color: #7fbfbf; text-decoration-color: #7fbfbf\">                    </span><span style=\"color: #d7af00; text-decoration-color: #d7af00; font-weight: bold\">WARNING </span> No boto3 session provided. Creating a new session.                        <a href=\"file:///Library/Python/3.9/site-packages/sagemaker_core/main/utils.py\" target=\"_blank\"><span style=\"color: #7f7f7f; text-decoration-color: #7f7f7f\">utils.py</span></a><span style=\"color: #7f7f7f; text-decoration-color: #7f7f7f\">:</span><a href=\"file:///Library/Python/3.9/site-packages/sagemaker_core/main/utils.py#336\" target=\"_blank\"><span style=\"color: #7f7f7f; text-decoration-color: #7f7f7f\">336</span></a>\n",
       "</pre>\n"
      ]
     },
     "metadata": {},
     "output_type": "display_data"
    },
    {
     "data": {
      "text/plain": [
       "\u001B[2;36m                   \u001B[0m\u001B[2;36m \u001B[0m\u001B[1;38;2;215;175;0mWARNING \u001B[0m No region provided. Using default region.                                 \u001B]8;id=825815;file:///Library/Python/3.9/site-packages/sagemaker_core/main/utils.py\u001B\\\u001B[2mutils.py\u001B[0m\u001B]8;;\u001B\\\u001B[2m:\u001B[0m\u001B]8;id=145527;file:///Library/Python/3.9/site-packages/sagemaker_core/main/utils.py#340\u001B\\\u001B[2m340\u001B[0m\u001B]8;;\u001B\\\n"
      ],
      "text/html": [
       "<pre style=\"white-space:pre;overflow-x:auto;line-height:normal;font-family:Menlo,'DejaVu Sans Mono',consolas,'Courier New',monospace\"><span style=\"color: #7fbfbf; text-decoration-color: #7fbfbf\">                    </span><span style=\"color: #d7af00; text-decoration-color: #d7af00; font-weight: bold\">WARNING </span> No region provided. Using default region.                                 <a href=\"file:///Library/Python/3.9/site-packages/sagemaker_core/main/utils.py\" target=\"_blank\"><span style=\"color: #7f7f7f; text-decoration-color: #7f7f7f\">utils.py</span></a><span style=\"color: #7f7f7f; text-decoration-color: #7f7f7f\">:</span><a href=\"file:///Library/Python/3.9/site-packages/sagemaker_core/main/utils.py#340\" target=\"_blank\"><span style=\"color: #7f7f7f; text-decoration-color: #7f7f7f\">340</span></a>\n",
       "</pre>\n"
      ]
     },
     "metadata": {},
     "output_type": "display_data"
    },
    {
     "data": {
      "text/plain": [
       "\u001B[2;36m                   \u001B[0m\u001B[2;36m \u001B[0m\u001B[1;38;2;215;175;0mWARNING \u001B[0m No config provided. Using default config.                                 \u001B]8;id=288203;file:///Library/Python/3.9/site-packages/sagemaker_core/main/utils.py\u001B\\\u001B[2mutils.py\u001B[0m\u001B]8;;\u001B\\\u001B[2m:\u001B[0m\u001B]8;id=337502;file:///Library/Python/3.9/site-packages/sagemaker_core/main/utils.py#344\u001B\\\u001B[2m344\u001B[0m\u001B]8;;\u001B\\\n"
      ],
      "text/html": [
       "<pre style=\"white-space:pre;overflow-x:auto;line-height:normal;font-family:Menlo,'DejaVu Sans Mono',consolas,'Courier New',monospace\"><span style=\"color: #7fbfbf; text-decoration-color: #7fbfbf\">                    </span><span style=\"color: #d7af00; text-decoration-color: #d7af00; font-weight: bold\">WARNING </span> No config provided. Using default config.                                 <a href=\"file:///Library/Python/3.9/site-packages/sagemaker_core/main/utils.py\" target=\"_blank\"><span style=\"color: #7f7f7f; text-decoration-color: #7f7f7f\">utils.py</span></a><span style=\"color: #7f7f7f; text-decoration-color: #7f7f7f\">:</span><a href=\"file:///Library/Python/3.9/site-packages/sagemaker_core/main/utils.py#344\" target=\"_blank\"><span style=\"color: #7f7f7f; text-decoration-color: #7f7f7f\">344</span></a>\n",
       "</pre>\n"
      ]
     },
     "metadata": {},
     "output_type": "display_data"
    },
    {
     "data": {
      "text/plain": [
       "\u001B[2;36m                   \u001B[0m\u001B[2;36m \u001B[0m\u001B[1;38;2;0;105;255mINFO    \u001B[0m Found credentials in shared credentials file: ~\u001B[38;2;225;0;225m/.aws/\u001B[0m\u001B[38;2;225;0;225mcredentials\u001B[0m   \u001B]8;id=439359;file:///Library/Python/3.9/site-packages/botocore/credentials.py\u001B\\\u001B[2mcredentials.py\u001B[0m\u001B]8;;\u001B\\\u001B[2m:\u001B[0m\u001B]8;id=831253;file:///Library/Python/3.9/site-packages/botocore/credentials.py#1278\u001B\\\u001B[2m1278\u001B[0m\u001B]8;;\u001B\\\n"
      ],
      "text/html": [
       "<pre style=\"white-space:pre;overflow-x:auto;line-height:normal;font-family:Menlo,'DejaVu Sans Mono',consolas,'Courier New',monospace\"><span style=\"color: #7fbfbf; text-decoration-color: #7fbfbf\">                    </span><span style=\"color: #0069ff; text-decoration-color: #0069ff; font-weight: bold\">INFO    </span> Found credentials in shared credentials file: ~<span style=\"color: #e100e1; text-decoration-color: #e100e1\">/.aws/credentials</span>   <a href=\"file:///Library/Python/3.9/site-packages/botocore/credentials.py\" target=\"_blank\"><span style=\"color: #7f7f7f; text-decoration-color: #7f7f7f\">credentials.py</span></a><span style=\"color: #7f7f7f; text-decoration-color: #7f7f7f\">:</span><a href=\"file:///Library/Python/3.9/site-packages/botocore/credentials.py#1278\" target=\"_blank\"><span style=\"color: #7f7f7f; text-decoration-color: #7f7f7f\">1278</span></a>\n",
       "</pre>\n"
      ]
     },
     "metadata": {},
     "output_type": "display_data"
    },
    {
     "data": {
      "text/plain": [
       "Output()"
      ],
      "application/vnd.jupyter.widget-view+json": {
       "version_major": 2,
       "version_minor": 0,
       "model_id": "b0346627a92443f28c46d3ce8402f842"
      }
     },
     "metadata": {},
     "output_type": "display_data"
    },
    {
     "data": {
      "text/plain": [
       "\u001B[2;36m[10/30/24 13:12:53]\u001B[0m\u001B[2;36m \u001B[0m\u001B[1;38;2;0;105;255mINFO    \u001B[0m Final Resource Status: \u001B[1mCompleted\u001B[0m                                    \u001B]8;id=750619;file:///Library/Python/3.9/site-packages/sagemaker_core/main/resources.py\u001B\\\u001B[2mresources.py\u001B[0m\u001B]8;;\u001B\\\u001B[2m:\u001B[0m\u001B]8;id=635418;file:///Library/Python/3.9/site-packages/sagemaker_core/main/resources.py#26595\u001B\\\u001B[2m26595\u001B[0m\u001B]8;;\u001B\\\n"
      ],
      "text/html": [
       "<pre style=\"white-space:pre;overflow-x:auto;line-height:normal;font-family:Menlo,'DejaVu Sans Mono',consolas,'Courier New',monospace\"><span style=\"color: #7fbfbf; text-decoration-color: #7fbfbf\">[10/30/24 13:12:53] </span><span style=\"color: #0069ff; text-decoration-color: #0069ff; font-weight: bold\">INFO    </span> Final Resource Status: <span style=\"font-weight: bold\">Completed</span>                                    <a href=\"file:///Library/Python/3.9/site-packages/sagemaker_core/main/resources.py\" target=\"_blank\"><span style=\"color: #7f7f7f; text-decoration-color: #7f7f7f\">resources.py</span></a><span style=\"color: #7f7f7f; text-decoration-color: #7f7f7f\">:</span><a href=\"file:///Library/Python/3.9/site-packages/sagemaker_core/main/resources.py#26595\" target=\"_blank\"><span style=\"color: #7f7f7f; text-decoration-color: #7f7f7f\">26595</span></a>\n",
       "</pre>\n"
      ]
     },
     "metadata": {},
     "output_type": "display_data"
    },
    {
     "data": {
      "text/plain": [],
      "text/html": [
       "<pre style=\"white-space:pre;overflow-x:auto;line-height:normal;font-family:Menlo,'DejaVu Sans Mono',consolas,'Courier New',monospace\"></pre>\n"
      ]
     },
     "metadata": {},
     "output_type": "display_data"
    },
    {
     "data": {
      "text/plain": [
       "\u001B[2;36m                   \u001B[0m\u001B[2;36m \u001B[0m\u001B[1;38;2;0;105;255mINFO    \u001B[0m Found credentials in shared credentials file: ~\u001B[38;2;225;0;225m/.aws/\u001B[0m\u001B[38;2;225;0;225mcredentials\u001B[0m   \u001B]8;id=493314;file:///Library/Python/3.9/site-packages/botocore/credentials.py\u001B\\\u001B[2mcredentials.py\u001B[0m\u001B]8;;\u001B\\\u001B[2m:\u001B[0m\u001B]8;id=633308;file:///Library/Python/3.9/site-packages/botocore/credentials.py#1278\u001B\\\u001B[2m1278\u001B[0m\u001B]8;;\u001B\\\n"
      ],
      "text/html": [
       "<pre style=\"white-space:pre;overflow-x:auto;line-height:normal;font-family:Menlo,'DejaVu Sans Mono',consolas,'Courier New',monospace\"><span style=\"color: #7fbfbf; text-decoration-color: #7fbfbf\">                    </span><span style=\"color: #0069ff; text-decoration-color: #0069ff; font-weight: bold\">INFO    </span> Found credentials in shared credentials file: ~<span style=\"color: #e100e1; text-decoration-color: #e100e1\">/.aws/credentials</span>   <a href=\"file:///Library/Python/3.9/site-packages/botocore/credentials.py\" target=\"_blank\"><span style=\"color: #7f7f7f; text-decoration-color: #7f7f7f\">credentials.py</span></a><span style=\"color: #7f7f7f; text-decoration-color: #7f7f7f\">:</span><a href=\"file:///Library/Python/3.9/site-packages/botocore/credentials.py#1278\" target=\"_blank\"><span style=\"color: #7f7f7f; text-decoration-color: #7f7f7f\">1278</span></a>\n",
       "</pre>\n"
      ]
     },
     "metadata": {},
     "output_type": "display_data"
    },
    {
     "name": "stderr",
     "output_type": "stream",
     "text": [
      "ModelBuilder: INFO:     Either inference spec or model is provided. ModelBuilder is not handling MLflow model input\n",
      "ModelBuilder: INFO:     Skipping auto detection as the image uri is provided 433757028032.dkr.ecr.us-west-2.amazonaws.com/xgboost:latest\n"
     ]
    },
    {
     "data": {
      "text/plain": [
       "<sagemaker.model.Model at 0x329f6aaf0>"
      ]
     },
     "execution_count": 3,
     "metadata": {},
     "output_type": "execute_result"
    }
   ],
   "execution_count": 3
  },
  {
   "metadata": {},
   "cell_type": "markdown",
   "source": "#### Real Time Deployment",
   "id": "b0d045e8f64e3787"
  },
  {
   "metadata": {
    "ExecuteTime": {
     "end_time": "2024-10-30T20:16:00.777140Z",
     "start_time": "2024-10-30T20:12:53.258703Z"
    }
   },
   "cell_type": "code",
   "source": [
    "real_time_predictor = model_builder.deploy(\n",
    "    initial_instance_count=1)"
   ],
   "id": "96bb41b4146549dd",
   "outputs": [
    {
     "name": "stderr",
     "output_type": "stream",
     "text": [
      "ModelBuilder: INFO:     ModelBuilder will collect telemetry to help us better understand our user's needs, diagnose issues, and deliver additional features. To opt out of telemetry, please disable via TelemetryOptOut in intelligent defaults. See https://sagemaker.readthedocs.io/en/stable/overview.html#configuring-and-using-defaults-with-the-sagemaker-python-sdk for more info.\n"
     ]
    },
    {
     "data": {
      "text/plain": [
       "\u001B[2;36m                   \u001B[0m\u001B[2;36m \u001B[0m\u001B[1;38;2;0;105;255mINFO    \u001B[0m Creating model with name: model-name-f76fb1fa96fa11efb5372ad633a99cdc  \u001B]8;id=53030;file:///Users/nargokul/workspace/sagemaker-python-sdk-staging/sagemaker-python-sdk-staging/src/sagemaker/session.py\u001B\\\u001B[2msession.py\u001B[0m\u001B]8;;\u001B\\\u001B[2m:\u001B[0m\u001B]8;id=517463;file:///Users/nargokul/workspace/sagemaker-python-sdk-staging/sagemaker-python-sdk-staging/src/sagemaker/session.py#4025\u001B\\\u001B[2m4025\u001B[0m\u001B]8;;\u001B\\\n"
      ],
      "text/html": [
       "<pre style=\"white-space:pre;overflow-x:auto;line-height:normal;font-family:Menlo,'DejaVu Sans Mono',consolas,'Courier New',monospace\"><span style=\"color: #7fbfbf; text-decoration-color: #7fbfbf\">                    </span><span style=\"color: #0069ff; text-decoration-color: #0069ff; font-weight: bold\">INFO    </span> Creating model with name: model-name-f76fb1fa96fa11efb5372ad633a99cdc  <a href=\"file:///Users/nargokul/workspace/sagemaker-python-sdk-staging/sagemaker-python-sdk-staging/src/sagemaker/session.py\" target=\"_blank\"><span style=\"color: #7f7f7f; text-decoration-color: #7f7f7f\">session.py</span></a><span style=\"color: #7f7f7f; text-decoration-color: #7f7f7f\">:</span><a href=\"file:///Users/nargokul/workspace/sagemaker-python-sdk-staging/sagemaker-python-sdk-staging/src/sagemaker/session.py#4025\" target=\"_blank\"><span style=\"color: #7f7f7f; text-decoration-color: #7f7f7f\">4025</span></a>\n",
       "</pre>\n"
      ]
     },
     "metadata": {},
     "output_type": "display_data"
    },
    {
     "data": {
      "text/plain": [
       "\u001B[2;36m[10/30/24 13:12:54]\u001B[0m\u001B[2;36m \u001B[0m\u001B[1;38;2;0;105;255mINFO    \u001B[0m Creating endpoint-config with name                                     \u001B]8;id=492611;file:///Users/nargokul/workspace/sagemaker-python-sdk-staging/sagemaker-python-sdk-staging/src/sagemaker/session.py\u001B\\\u001B[2msession.py\u001B[0m\u001B]8;;\u001B\\\u001B[2m:\u001B[0m\u001B]8;id=991435;file:///Users/nargokul/workspace/sagemaker-python-sdk-staging/sagemaker-python-sdk-staging/src/sagemaker/session.py#5817\u001B\\\u001B[2m5817\u001B[0m\u001B]8;;\u001B\\\n",
       "\u001B[2;36m                    \u001B[0m         model-name-f76fb1fa96fa11efb5372ad633a9-\u001B[1;36m2024\u001B[0m-10-30-20-12-54-372        \u001B[2m               \u001B[0m\n"
      ],
      "text/html": [
       "<pre style=\"white-space:pre;overflow-x:auto;line-height:normal;font-family:Menlo,'DejaVu Sans Mono',consolas,'Courier New',monospace\"><span style=\"color: #7fbfbf; text-decoration-color: #7fbfbf\">[10/30/24 13:12:54] </span><span style=\"color: #0069ff; text-decoration-color: #0069ff; font-weight: bold\">INFO    </span> Creating endpoint-config with name                                     <a href=\"file:///Users/nargokul/workspace/sagemaker-python-sdk-staging/sagemaker-python-sdk-staging/src/sagemaker/session.py\" target=\"_blank\"><span style=\"color: #7f7f7f; text-decoration-color: #7f7f7f\">session.py</span></a><span style=\"color: #7f7f7f; text-decoration-color: #7f7f7f\">:</span><a href=\"file:///Users/nargokul/workspace/sagemaker-python-sdk-staging/sagemaker-python-sdk-staging/src/sagemaker/session.py#5817\" target=\"_blank\"><span style=\"color: #7f7f7f; text-decoration-color: #7f7f7f\">5817</span></a>\n",
       "<span style=\"color: #7fbfbf; text-decoration-color: #7fbfbf\">                    </span>         model-name-f76fb1fa96fa11efb5372ad633a9-<span style=\"color: #008080; text-decoration-color: #008080; font-weight: bold\">2024</span>-10-30-20-12-54-372        <span style=\"color: #7f7f7f; text-decoration-color: #7f7f7f\">               </span>\n",
       "</pre>\n"
      ]
     },
     "metadata": {},
     "output_type": "display_data"
    },
    {
     "data": {
      "text/plain": [
       "\u001B[2;36m                   \u001B[0m\u001B[2;36m \u001B[0m\u001B[1;38;2;0;105;255mINFO    \u001B[0m Creating endpoint with name                                            \u001B]8;id=428897;file:///Users/nargokul/workspace/sagemaker-python-sdk-staging/sagemaker-python-sdk-staging/src/sagemaker/session.py\u001B\\\u001B[2msession.py\u001B[0m\u001B]8;;\u001B\\\u001B[2m:\u001B[0m\u001B]8;id=73333;file:///Users/nargokul/workspace/sagemaker-python-sdk-staging/sagemaker-python-sdk-staging/src/sagemaker/session.py#4639\u001B\\\u001B[2m4639\u001B[0m\u001B]8;;\u001B\\\n",
       "\u001B[2;36m                    \u001B[0m         model-name-f76fb1fa96fa11efb5372ad633a9-\u001B[1;36m2024\u001B[0m-10-30-20-12-54-372        \u001B[2m               \u001B[0m\n"
      ],
      "text/html": [
       "<pre style=\"white-space:pre;overflow-x:auto;line-height:normal;font-family:Menlo,'DejaVu Sans Mono',consolas,'Courier New',monospace\"><span style=\"color: #7fbfbf; text-decoration-color: #7fbfbf\">                    </span><span style=\"color: #0069ff; text-decoration-color: #0069ff; font-weight: bold\">INFO    </span> Creating endpoint with name                                            <a href=\"file:///Users/nargokul/workspace/sagemaker-python-sdk-staging/sagemaker-python-sdk-staging/src/sagemaker/session.py\" target=\"_blank\"><span style=\"color: #7f7f7f; text-decoration-color: #7f7f7f\">session.py</span></a><span style=\"color: #7f7f7f; text-decoration-color: #7f7f7f\">:</span><a href=\"file:///Users/nargokul/workspace/sagemaker-python-sdk-staging/sagemaker-python-sdk-staging/src/sagemaker/session.py#4639\" target=\"_blank\"><span style=\"color: #7f7f7f; text-decoration-color: #7f7f7f\">4639</span></a>\n",
       "<span style=\"color: #7fbfbf; text-decoration-color: #7fbfbf\">                    </span>         model-name-f76fb1fa96fa11efb5372ad633a9-<span style=\"color: #008080; text-decoration-color: #008080; font-weight: bold\">2024</span>-10-30-20-12-54-372        <span style=\"color: #7f7f7f; text-decoration-color: #7f7f7f\">               </span>\n",
       "</pre>\n"
      ]
     },
     "metadata": {},
     "output_type": "display_data"
    },
    {
     "data": {
      "text/plain": [
       "\u001B[2;36m[10/30/24 13:15:26]\u001B[0m\u001B[2;36m \u001B[0m\u001B[1;38;2;0;105;255mINFO    \u001B[0m Arguments: serve                                                       \u001B]8;id=746109;file:///Users/nargokul/workspace/sagemaker-python-sdk-staging/sagemaker-python-sdk-staging/src/sagemaker/session.py\u001B\\\u001B[2msession.py\u001B[0m\u001B]8;;\u001B\\\u001B[2m:\u001B[0m\u001B]8;id=339045;file:///Users/nargokul/workspace/sagemaker-python-sdk-staging/sagemaker-python-sdk-staging/src/sagemaker/session.py#8308\u001B\\\u001B[2m8308\u001B[0m\u001B]8;;\u001B\\\n"
      ],
      "text/html": [
       "<pre style=\"white-space:pre;overflow-x:auto;line-height:normal;font-family:Menlo,'DejaVu Sans Mono',consolas,'Courier New',monospace\"><span style=\"color: #7fbfbf; text-decoration-color: #7fbfbf\">[10/30/24 13:15:26] </span><span style=\"color: #0069ff; text-decoration-color: #0069ff; font-weight: bold\">INFO    </span> Arguments: serve                                                       <a href=\"file:///Users/nargokul/workspace/sagemaker-python-sdk-staging/sagemaker-python-sdk-staging/src/sagemaker/session.py\" target=\"_blank\"><span style=\"color: #7f7f7f; text-decoration-color: #7f7f7f\">session.py</span></a><span style=\"color: #7f7f7f; text-decoration-color: #7f7f7f\">:</span><a href=\"file:///Users/nargokul/workspace/sagemaker-python-sdk-staging/sagemaker-python-sdk-staging/src/sagemaker/session.py#8308\" target=\"_blank\"><span style=\"color: #7f7f7f; text-decoration-color: #7f7f7f\">8308</span></a>\n",
       "</pre>\n"
      ]
     },
     "metadata": {},
     "output_type": "display_data"
    },
    {
     "data": {
      "text/plain": [
       "\u001B[2;36m                   \u001B[0m\u001B[2;36m \u001B[0m\u001B[1;38;2;0;105;255mINFO    \u001B[0m \u001B[1m[\u001B[0m\u001B[1;36m2024\u001B[0m-\u001B[1;36m10\u001B[0m-\u001B[1;36m30\u001B[0m 20:15:16 +\u001B[1;36m0000\u001B[0m\u001B[1m]\u001B[0m \u001B[1m[\u001B[0m\u001B[1;36m1\u001B[0m\u001B[1m]\u001B[0m \u001B[1m[\u001B[0mINFO\u001B[1m]\u001B[0m Starting gunicorn \u001B[1;36m19.9\u001B[0m.\u001B[1;36m0\u001B[0m        \u001B]8;id=949559;file:///Users/nargokul/workspace/sagemaker-python-sdk-staging/sagemaker-python-sdk-staging/src/sagemaker/session.py\u001B\\\u001B[2msession.py\u001B[0m\u001B]8;;\u001B\\\u001B[2m:\u001B[0m\u001B]8;id=372836;file:///Users/nargokul/workspace/sagemaker-python-sdk-staging/sagemaker-python-sdk-staging/src/sagemaker/session.py#8308\u001B\\\u001B[2m8308\u001B[0m\u001B]8;;\u001B\\\n"
      ],
      "text/html": [
       "<pre style=\"white-space:pre;overflow-x:auto;line-height:normal;font-family:Menlo,'DejaVu Sans Mono',consolas,'Courier New',monospace\"><span style=\"color: #7fbfbf; text-decoration-color: #7fbfbf\">                    </span><span style=\"color: #0069ff; text-decoration-color: #0069ff; font-weight: bold\">INFO    </span> <span style=\"font-weight: bold\">[</span><span style=\"color: #008080; text-decoration-color: #008080; font-weight: bold\">2024</span>-<span style=\"color: #008080; text-decoration-color: #008080; font-weight: bold\">10</span>-<span style=\"color: #008080; text-decoration-color: #008080; font-weight: bold\">30</span> 20:15:16 +<span style=\"color: #008080; text-decoration-color: #008080; font-weight: bold\">0000</span><span style=\"font-weight: bold\">]</span> <span style=\"font-weight: bold\">[</span><span style=\"color: #008080; text-decoration-color: #008080; font-weight: bold\">1</span><span style=\"font-weight: bold\">]</span> <span style=\"font-weight: bold\">[</span>INFO<span style=\"font-weight: bold\">]</span> Starting gunicorn <span style=\"color: #008080; text-decoration-color: #008080; font-weight: bold\">19.9</span>.<span style=\"color: #008080; text-decoration-color: #008080; font-weight: bold\">0</span>        <a href=\"file:///Users/nargokul/workspace/sagemaker-python-sdk-staging/sagemaker-python-sdk-staging/src/sagemaker/session.py\" target=\"_blank\"><span style=\"color: #7f7f7f; text-decoration-color: #7f7f7f\">session.py</span></a><span style=\"color: #7f7f7f; text-decoration-color: #7f7f7f\">:</span><a href=\"file:///Users/nargokul/workspace/sagemaker-python-sdk-staging/sagemaker-python-sdk-staging/src/sagemaker/session.py#8308\" target=\"_blank\"><span style=\"color: #7f7f7f; text-decoration-color: #7f7f7f\">8308</span></a>\n",
       "</pre>\n"
      ]
     },
     "metadata": {},
     "output_type": "display_data"
    },
    {
     "data": {
      "text/plain": [
       "\u001B[2;36m                   \u001B[0m\u001B[2;36m \u001B[0m\u001B[1;38;2;0;105;255mINFO    \u001B[0m \u001B[1m[\u001B[0m\u001B[1;36m2024\u001B[0m-\u001B[1;36m10\u001B[0m-\u001B[1;36m30\u001B[0m 20:15:16 +\u001B[1;36m0000\u001B[0m\u001B[1m]\u001B[0m \u001B[1m[\u001B[0m\u001B[1;36m1\u001B[0m\u001B[1m]\u001B[0m \u001B[1m[\u001B[0mINFO\u001B[1m]\u001B[0m Listening at:                   \u001B]8;id=396501;file:///Users/nargokul/workspace/sagemaker-python-sdk-staging/sagemaker-python-sdk-staging/src/sagemaker/session.py\u001B\\\u001B[2msession.py\u001B[0m\u001B]8;;\u001B\\\u001B[2m:\u001B[0m\u001B]8;id=262866;file:///Users/nargokul/workspace/sagemaker-python-sdk-staging/sagemaker-python-sdk-staging/src/sagemaker/session.py#8308\u001B\\\u001B[2m8308\u001B[0m\u001B]8;;\u001B\\\n",
       "\u001B[2;36m                    \u001B[0m         \u001B[4;38;2;0;105;255mhttp://0.0.0.0:8080\u001B[0m \u001B[1m(\u001B[0m\u001B[1;36m1\u001B[0m\u001B[1m)\u001B[0m                                                \u001B[2m               \u001B[0m\n"
      ],
      "text/html": [
       "<pre style=\"white-space:pre;overflow-x:auto;line-height:normal;font-family:Menlo,'DejaVu Sans Mono',consolas,'Courier New',monospace\"><span style=\"color: #7fbfbf; text-decoration-color: #7fbfbf\">                    </span><span style=\"color: #0069ff; text-decoration-color: #0069ff; font-weight: bold\">INFO    </span> <span style=\"font-weight: bold\">[</span><span style=\"color: #008080; text-decoration-color: #008080; font-weight: bold\">2024</span>-<span style=\"color: #008080; text-decoration-color: #008080; font-weight: bold\">10</span>-<span style=\"color: #008080; text-decoration-color: #008080; font-weight: bold\">30</span> 20:15:16 +<span style=\"color: #008080; text-decoration-color: #008080; font-weight: bold\">0000</span><span style=\"font-weight: bold\">]</span> <span style=\"font-weight: bold\">[</span><span style=\"color: #008080; text-decoration-color: #008080; font-weight: bold\">1</span><span style=\"font-weight: bold\">]</span> <span style=\"font-weight: bold\">[</span>INFO<span style=\"font-weight: bold\">]</span> Listening at:                   <a href=\"file:///Users/nargokul/workspace/sagemaker-python-sdk-staging/sagemaker-python-sdk-staging/src/sagemaker/session.py\" target=\"_blank\"><span style=\"color: #7f7f7f; text-decoration-color: #7f7f7f\">session.py</span></a><span style=\"color: #7f7f7f; text-decoration-color: #7f7f7f\">:</span><a href=\"file:///Users/nargokul/workspace/sagemaker-python-sdk-staging/sagemaker-python-sdk-staging/src/sagemaker/session.py#8308\" target=\"_blank\"><span style=\"color: #7f7f7f; text-decoration-color: #7f7f7f\">8308</span></a>\n",
       "<span style=\"color: #7fbfbf; text-decoration-color: #7fbfbf\">                    </span>         <span style=\"color: #0069ff; text-decoration-color: #0069ff; text-decoration: underline\">http://0.0.0.0:8080</span> <span style=\"font-weight: bold\">(</span><span style=\"color: #008080; text-decoration-color: #008080; font-weight: bold\">1</span><span style=\"font-weight: bold\">)</span>                                                <span style=\"color: #7f7f7f; text-decoration-color: #7f7f7f\">               </span>\n",
       "</pre>\n"
      ]
     },
     "metadata": {},
     "output_type": "display_data"
    },
    {
     "data": {
      "text/plain": [
       "\u001B[2;36m                   \u001B[0m\u001B[2;36m \u001B[0m\u001B[1;38;2;0;105;255mINFO    \u001B[0m \u001B[1m[\u001B[0m\u001B[1;36m2024\u001B[0m-\u001B[1;36m10\u001B[0m-\u001B[1;36m30\u001B[0m 20:15:16 +\u001B[1;36m0000\u001B[0m\u001B[1m]\u001B[0m \u001B[1m[\u001B[0m\u001B[1;36m1\u001B[0m\u001B[1m]\u001B[0m \u001B[1m[\u001B[0mINFO\u001B[1m]\u001B[0m Using worker: gevent            \u001B]8;id=447558;file:///Users/nargokul/workspace/sagemaker-python-sdk-staging/sagemaker-python-sdk-staging/src/sagemaker/session.py\u001B\\\u001B[2msession.py\u001B[0m\u001B]8;;\u001B\\\u001B[2m:\u001B[0m\u001B]8;id=304870;file:///Users/nargokul/workspace/sagemaker-python-sdk-staging/sagemaker-python-sdk-staging/src/sagemaker/session.py#8308\u001B\\\u001B[2m8308\u001B[0m\u001B]8;;\u001B\\\n"
      ],
      "text/html": [
       "<pre style=\"white-space:pre;overflow-x:auto;line-height:normal;font-family:Menlo,'DejaVu Sans Mono',consolas,'Courier New',monospace\"><span style=\"color: #7fbfbf; text-decoration-color: #7fbfbf\">                    </span><span style=\"color: #0069ff; text-decoration-color: #0069ff; font-weight: bold\">INFO    </span> <span style=\"font-weight: bold\">[</span><span style=\"color: #008080; text-decoration-color: #008080; font-weight: bold\">2024</span>-<span style=\"color: #008080; text-decoration-color: #008080; font-weight: bold\">10</span>-<span style=\"color: #008080; text-decoration-color: #008080; font-weight: bold\">30</span> 20:15:16 +<span style=\"color: #008080; text-decoration-color: #008080; font-weight: bold\">0000</span><span style=\"font-weight: bold\">]</span> <span style=\"font-weight: bold\">[</span><span style=\"color: #008080; text-decoration-color: #008080; font-weight: bold\">1</span><span style=\"font-weight: bold\">]</span> <span style=\"font-weight: bold\">[</span>INFO<span style=\"font-weight: bold\">]</span> Using worker: gevent            <a href=\"file:///Users/nargokul/workspace/sagemaker-python-sdk-staging/sagemaker-python-sdk-staging/src/sagemaker/session.py\" target=\"_blank\"><span style=\"color: #7f7f7f; text-decoration-color: #7f7f7f\">session.py</span></a><span style=\"color: #7f7f7f; text-decoration-color: #7f7f7f\">:</span><a href=\"file:///Users/nargokul/workspace/sagemaker-python-sdk-staging/sagemaker-python-sdk-staging/src/sagemaker/session.py#8308\" target=\"_blank\"><span style=\"color: #7f7f7f; text-decoration-color: #7f7f7f\">8308</span></a>\n",
       "</pre>\n"
      ]
     },
     "metadata": {},
     "output_type": "display_data"
    },
    {
     "data": {
      "text/plain": [
       "\u001B[2;36m                   \u001B[0m\u001B[2;36m \u001B[0m\u001B[1;38;2;0;105;255mINFO    \u001B[0m \u001B[1m[\u001B[0m\u001B[1;36m2024\u001B[0m-\u001B[1;36m10\u001B[0m-\u001B[1;36m30\u001B[0m 20:15:16 +\u001B[1;36m0000\u001B[0m\u001B[1m]\u001B[0m \u001B[1m[\u001B[0m\u001B[1;36m21\u001B[0m\u001B[1m]\u001B[0m \u001B[1m[\u001B[0mINFO\u001B[1m]\u001B[0m Booting worker with pid: \u001B[1;36m21\u001B[0m    \u001B]8;id=573039;file:///Users/nargokul/workspace/sagemaker-python-sdk-staging/sagemaker-python-sdk-staging/src/sagemaker/session.py\u001B\\\u001B[2msession.py\u001B[0m\u001B]8;;\u001B\\\u001B[2m:\u001B[0m\u001B]8;id=52847;file:///Users/nargokul/workspace/sagemaker-python-sdk-staging/sagemaker-python-sdk-staging/src/sagemaker/session.py#8308\u001B\\\u001B[2m8308\u001B[0m\u001B]8;;\u001B\\\n"
      ],
      "text/html": [
       "<pre style=\"white-space:pre;overflow-x:auto;line-height:normal;font-family:Menlo,'DejaVu Sans Mono',consolas,'Courier New',monospace\"><span style=\"color: #7fbfbf; text-decoration-color: #7fbfbf\">                    </span><span style=\"color: #0069ff; text-decoration-color: #0069ff; font-weight: bold\">INFO    </span> <span style=\"font-weight: bold\">[</span><span style=\"color: #008080; text-decoration-color: #008080; font-weight: bold\">2024</span>-<span style=\"color: #008080; text-decoration-color: #008080; font-weight: bold\">10</span>-<span style=\"color: #008080; text-decoration-color: #008080; font-weight: bold\">30</span> 20:15:16 +<span style=\"color: #008080; text-decoration-color: #008080; font-weight: bold\">0000</span><span style=\"font-weight: bold\">]</span> <span style=\"font-weight: bold\">[</span><span style=\"color: #008080; text-decoration-color: #008080; font-weight: bold\">21</span><span style=\"font-weight: bold\">]</span> <span style=\"font-weight: bold\">[</span>INFO<span style=\"font-weight: bold\">]</span> Booting worker with pid: <span style=\"color: #008080; text-decoration-color: #008080; font-weight: bold\">21</span>    <a href=\"file:///Users/nargokul/workspace/sagemaker-python-sdk-staging/sagemaker-python-sdk-staging/src/sagemaker/session.py\" target=\"_blank\"><span style=\"color: #7f7f7f; text-decoration-color: #7f7f7f\">session.py</span></a><span style=\"color: #7f7f7f; text-decoration-color: #7f7f7f\">:</span><a href=\"file:///Users/nargokul/workspace/sagemaker-python-sdk-staging/sagemaker-python-sdk-staging/src/sagemaker/session.py#8308\" target=\"_blank\"><span style=\"color: #7f7f7f; text-decoration-color: #7f7f7f\">8308</span></a>\n",
       "</pre>\n"
      ]
     },
     "metadata": {},
     "output_type": "display_data"
    },
    {
     "data": {
      "text/plain": [
       "\u001B[2;36m                   \u001B[0m\u001B[2;36m \u001B[0m\u001B[1;38;2;0;105;255mINFO    \u001B[0m \u001B[1m[\u001B[0m\u001B[1;36m2024\u001B[0m-\u001B[1;36m10\u001B[0m-\u001B[1;36m30\u001B[0m 20:15:16 +\u001B[1;36m0000\u001B[0m\u001B[1m]\u001B[0m \u001B[1m[\u001B[0m\u001B[1;36m22\u001B[0m\u001B[1m]\u001B[0m \u001B[1m[\u001B[0mINFO\u001B[1m]\u001B[0m Booting worker with pid: \u001B[1;36m22\u001B[0m    \u001B]8;id=16999;file:///Users/nargokul/workspace/sagemaker-python-sdk-staging/sagemaker-python-sdk-staging/src/sagemaker/session.py\u001B\\\u001B[2msession.py\u001B[0m\u001B]8;;\u001B\\\u001B[2m:\u001B[0m\u001B]8;id=905822;file:///Users/nargokul/workspace/sagemaker-python-sdk-staging/sagemaker-python-sdk-staging/src/sagemaker/session.py#8308\u001B\\\u001B[2m8308\u001B[0m\u001B]8;;\u001B\\\n"
      ],
      "text/html": [
       "<pre style=\"white-space:pre;overflow-x:auto;line-height:normal;font-family:Menlo,'DejaVu Sans Mono',consolas,'Courier New',monospace\"><span style=\"color: #7fbfbf; text-decoration-color: #7fbfbf\">                    </span><span style=\"color: #0069ff; text-decoration-color: #0069ff; font-weight: bold\">INFO    </span> <span style=\"font-weight: bold\">[</span><span style=\"color: #008080; text-decoration-color: #008080; font-weight: bold\">2024</span>-<span style=\"color: #008080; text-decoration-color: #008080; font-weight: bold\">10</span>-<span style=\"color: #008080; text-decoration-color: #008080; font-weight: bold\">30</span> 20:15:16 +<span style=\"color: #008080; text-decoration-color: #008080; font-weight: bold\">0000</span><span style=\"font-weight: bold\">]</span> <span style=\"font-weight: bold\">[</span><span style=\"color: #008080; text-decoration-color: #008080; font-weight: bold\">22</span><span style=\"font-weight: bold\">]</span> <span style=\"font-weight: bold\">[</span>INFO<span style=\"font-weight: bold\">]</span> Booting worker with pid: <span style=\"color: #008080; text-decoration-color: #008080; font-weight: bold\">22</span>    <a href=\"file:///Users/nargokul/workspace/sagemaker-python-sdk-staging/sagemaker-python-sdk-staging/src/sagemaker/session.py\" target=\"_blank\"><span style=\"color: #7f7f7f; text-decoration-color: #7f7f7f\">session.py</span></a><span style=\"color: #7f7f7f; text-decoration-color: #7f7f7f\">:</span><a href=\"file:///Users/nargokul/workspace/sagemaker-python-sdk-staging/sagemaker-python-sdk-staging/src/sagemaker/session.py#8308\" target=\"_blank\"><span style=\"color: #7f7f7f; text-decoration-color: #7f7f7f\">8308</span></a>\n",
       "</pre>\n"
      ]
     },
     "metadata": {},
     "output_type": "display_data"
    },
    {
     "data": {
      "text/plain": [
       "\u001B[2;36m                   \u001B[0m\u001B[2;36m \u001B[0m\u001B[1;38;2;0;105;255mINFO    \u001B[0m \u001B[38;2;225;0;225m/opt/amazon/lib/python3.7/site-packages/gunicorn/workers/\u001B[0m\u001B[38;2;225;0;225mggevent.py\u001B[0m:\u001B[1;36m65\u001B[0m \u001B]8;id=955762;file:///Users/nargokul/workspace/sagemaker-python-sdk-staging/sagemaker-python-sdk-staging/src/sagemaker/session.py\u001B\\\u001B[2msession.py\u001B[0m\u001B]8;;\u001B\\\u001B[2m:\u001B[0m\u001B]8;id=426873;file:///Users/nargokul/workspace/sagemaker-python-sdk-staging/sagemaker-python-sdk-staging/src/sagemaker/session.py#8308\u001B\\\u001B[2m8308\u001B[0m\u001B]8;;\u001B\\\n",
       "\u001B[2;36m                    \u001B[0m         : MonkeyPatchWarning: Monkey-patching ssl after ssl has already been   \u001B[2m               \u001B[0m\n",
       "\u001B[2;36m                    \u001B[0m         imported may lead to errors, including RecursionError on Python \u001B[1;36m3.6\u001B[0m.   \u001B[2m               \u001B[0m\n",
       "\u001B[2;36m                    \u001B[0m         It may also silently lead to incorrect behaviour on Python \u001B[1;36m3.7\u001B[0m. Please \u001B[2m               \u001B[0m\n",
       "\u001B[2;36m                    \u001B[0m         monkey-patch earlier. See                                              \u001B[2m               \u001B[0m\n",
       "\u001B[2;36m                    \u001B[0m         \u001B[4;38;2;0;105;255mhttps://github.com/gevent/gevent/issues/1016.\u001B[0m Modules that had direct  \u001B[2m               \u001B[0m\n",
       "\u001B[2;36m                    \u001B[0m         imports \u001B[1m(\u001B[0mNOT patched\u001B[1m)\u001B[0m: \u001B[1m[\u001B[0m\u001B[38;2;0;135;0m'urllib3.util \u001B[0m                                 \u001B[2m               \u001B[0m\n",
       "\u001B[2;36m                    \u001B[0m         \u001B[1;38;2;0;135;0m(\u001B[0m\u001B[38;2;0;135;0m/opt/amazon/lib/python3.7/site-packages/urllib3/util/__init__.py\u001B[0m\u001B[1;38;2;0;135;0m)\u001B[0m\u001B[38;2;0;135;0m'\u001B[0m,   \u001B[2m               \u001B[0m\n",
       "\u001B[2;36m                    \u001B[0m         \u001B[38;2;0;135;0m'urllib3.util.ssl_ \u001B[0m                                                    \u001B[2m               \u001B[0m\n",
       "\u001B[2;36m                    \u001B[0m         \u001B[1;38;2;0;135;0m(\u001B[0m\u001B[38;2;0;135;0m/opt/amazon/lib/python3.7/site-packages/urllib3/util/ssl_.py\u001B[0m\u001B[1;38;2;0;135;0m)\u001B[0m\u001B[38;2;0;135;0m'\u001B[0m\u001B[1m]\u001B[0m.      \u001B[2m               \u001B[0m\n",
       "\u001B[2;36m                    \u001B[0m           \u001B[1;38;2;225;0;225mmonkey.patch_all\u001B[0m\u001B[1m(\u001B[0m\u001B[38;2;215;175;0msubprocess\u001B[0m=\u001B[3;38;2;0;135;0mTrue\u001B[0m\u001B[1m)\u001B[0m                                    \u001B[2m               \u001B[0m\n"
      ],
      "text/html": [
       "<pre style=\"white-space:pre;overflow-x:auto;line-height:normal;font-family:Menlo,'DejaVu Sans Mono',consolas,'Courier New',monospace\"><span style=\"color: #7fbfbf; text-decoration-color: #7fbfbf\">                    </span><span style=\"color: #0069ff; text-decoration-color: #0069ff; font-weight: bold\">INFO    </span> <span style=\"color: #e100e1; text-decoration-color: #e100e1\">/opt/amazon/lib/python3.7/site-packages/gunicorn/workers/ggevent.py</span>:<span style=\"color: #008080; text-decoration-color: #008080; font-weight: bold\">65</span> <a href=\"file:///Users/nargokul/workspace/sagemaker-python-sdk-staging/sagemaker-python-sdk-staging/src/sagemaker/session.py\" target=\"_blank\"><span style=\"color: #7f7f7f; text-decoration-color: #7f7f7f\">session.py</span></a><span style=\"color: #7f7f7f; text-decoration-color: #7f7f7f\">:</span><a href=\"file:///Users/nargokul/workspace/sagemaker-python-sdk-staging/sagemaker-python-sdk-staging/src/sagemaker/session.py#8308\" target=\"_blank\"><span style=\"color: #7f7f7f; text-decoration-color: #7f7f7f\">8308</span></a>\n",
       "<span style=\"color: #7fbfbf; text-decoration-color: #7fbfbf\">                    </span>         : MonkeyPatchWarning: Monkey-patching ssl after ssl has already been   <span style=\"color: #7f7f7f; text-decoration-color: #7f7f7f\">               </span>\n",
       "<span style=\"color: #7fbfbf; text-decoration-color: #7fbfbf\">                    </span>         imported may lead to errors, including RecursionError on Python <span style=\"color: #008080; text-decoration-color: #008080; font-weight: bold\">3.6</span>.   <span style=\"color: #7f7f7f; text-decoration-color: #7f7f7f\">               </span>\n",
       "<span style=\"color: #7fbfbf; text-decoration-color: #7fbfbf\">                    </span>         It may also silently lead to incorrect behaviour on Python <span style=\"color: #008080; text-decoration-color: #008080; font-weight: bold\">3.7</span>. Please <span style=\"color: #7f7f7f; text-decoration-color: #7f7f7f\">               </span>\n",
       "<span style=\"color: #7fbfbf; text-decoration-color: #7fbfbf\">                    </span>         monkey-patch earlier. See                                              <span style=\"color: #7f7f7f; text-decoration-color: #7f7f7f\">               </span>\n",
       "<span style=\"color: #7fbfbf; text-decoration-color: #7fbfbf\">                    </span>         <span style=\"color: #0069ff; text-decoration-color: #0069ff; text-decoration: underline\">https://github.com/gevent/gevent/issues/1016.</span> Modules that had direct  <span style=\"color: #7f7f7f; text-decoration-color: #7f7f7f\">               </span>\n",
       "<span style=\"color: #7fbfbf; text-decoration-color: #7fbfbf\">                    </span>         imports <span style=\"font-weight: bold\">(</span>NOT patched<span style=\"font-weight: bold\">)</span>: <span style=\"font-weight: bold\">[</span><span style=\"color: #008700; text-decoration-color: #008700\">'urllib3.util </span>                                 <span style=\"color: #7f7f7f; text-decoration-color: #7f7f7f\">               </span>\n",
       "<span style=\"color: #7fbfbf; text-decoration-color: #7fbfbf\">                    </span>         <span style=\"color: #008700; text-decoration-color: #008700; font-weight: bold\">(</span><span style=\"color: #008700; text-decoration-color: #008700\">/opt/amazon/lib/python3.7/site-packages/urllib3/util/__init__.py</span><span style=\"color: #008700; text-decoration-color: #008700; font-weight: bold\">)</span><span style=\"color: #008700; text-decoration-color: #008700\">'</span>,   <span style=\"color: #7f7f7f; text-decoration-color: #7f7f7f\">               </span>\n",
       "<span style=\"color: #7fbfbf; text-decoration-color: #7fbfbf\">                    </span>         <span style=\"color: #008700; text-decoration-color: #008700\">'urllib3.util.ssl_ </span>                                                    <span style=\"color: #7f7f7f; text-decoration-color: #7f7f7f\">               </span>\n",
       "<span style=\"color: #7fbfbf; text-decoration-color: #7fbfbf\">                    </span>         <span style=\"color: #008700; text-decoration-color: #008700; font-weight: bold\">(</span><span style=\"color: #008700; text-decoration-color: #008700\">/opt/amazon/lib/python3.7/site-packages/urllib3/util/ssl_.py</span><span style=\"color: #008700; text-decoration-color: #008700; font-weight: bold\">)</span><span style=\"color: #008700; text-decoration-color: #008700\">'</span><span style=\"font-weight: bold\">]</span>.      <span style=\"color: #7f7f7f; text-decoration-color: #7f7f7f\">               </span>\n",
       "<span style=\"color: #7fbfbf; text-decoration-color: #7fbfbf\">                    </span>           <span style=\"color: #e100e1; text-decoration-color: #e100e1; font-weight: bold\">monkey.patch_all</span><span style=\"font-weight: bold\">(</span><span style=\"color: #d7af00; text-decoration-color: #d7af00\">subprocess</span>=<span style=\"color: #008700; text-decoration-color: #008700; font-style: italic\">True</span><span style=\"font-weight: bold\">)</span>                                    <span style=\"color: #7f7f7f; text-decoration-color: #7f7f7f\">               </span>\n",
       "</pre>\n"
      ]
     },
     "metadata": {},
     "output_type": "display_data"
    },
    {
     "data": {
      "text/plain": [
       "\u001B[2;36m                   \u001B[0m\u001B[2;36m \u001B[0m\u001B[1;38;2;0;105;255mINFO    \u001B[0m \u001B[1m[\u001B[0m\u001B[1;36m2024\u001B[0m-\u001B[1;36m10\u001B[0m-30:20:15:16:INFO\u001B[1m]\u001B[0m Model loaded successfully for worker : \u001B[1;36m21\u001B[0m   \u001B]8;id=101338;file:///Users/nargokul/workspace/sagemaker-python-sdk-staging/sagemaker-python-sdk-staging/src/sagemaker/session.py\u001B\\\u001B[2msession.py\u001B[0m\u001B]8;;\u001B\\\u001B[2m:\u001B[0m\u001B]8;id=134270;file:///Users/nargokul/workspace/sagemaker-python-sdk-staging/sagemaker-python-sdk-staging/src/sagemaker/session.py#8308\u001B\\\u001B[2m8308\u001B[0m\u001B]8;;\u001B\\\n"
      ],
      "text/html": [
       "<pre style=\"white-space:pre;overflow-x:auto;line-height:normal;font-family:Menlo,'DejaVu Sans Mono',consolas,'Courier New',monospace\"><span style=\"color: #7fbfbf; text-decoration-color: #7fbfbf\">                    </span><span style=\"color: #0069ff; text-decoration-color: #0069ff; font-weight: bold\">INFO    </span> <span style=\"font-weight: bold\">[</span><span style=\"color: #008080; text-decoration-color: #008080; font-weight: bold\">2024</span>-<span style=\"color: #008080; text-decoration-color: #008080; font-weight: bold\">10</span>-30:20:15:16:INFO<span style=\"font-weight: bold\">]</span> Model loaded successfully for worker : <span style=\"color: #008080; text-decoration-color: #008080; font-weight: bold\">21</span>   <a href=\"file:///Users/nargokul/workspace/sagemaker-python-sdk-staging/sagemaker-python-sdk-staging/src/sagemaker/session.py\" target=\"_blank\"><span style=\"color: #7f7f7f; text-decoration-color: #7f7f7f\">session.py</span></a><span style=\"color: #7f7f7f; text-decoration-color: #7f7f7f\">:</span><a href=\"file:///Users/nargokul/workspace/sagemaker-python-sdk-staging/sagemaker-python-sdk-staging/src/sagemaker/session.py#8308\" target=\"_blank\"><span style=\"color: #7f7f7f; text-decoration-color: #7f7f7f\">8308</span></a>\n",
       "</pre>\n"
      ]
     },
     "metadata": {},
     "output_type": "display_data"
    },
    {
     "data": {
      "text/plain": [
       "\u001B[2;36m                   \u001B[0m\u001B[2;36m \u001B[0m\u001B[1;38;2;0;105;255mINFO    \u001B[0m \u001B[1m[\u001B[0m\u001B[1;36m2024\u001B[0m-\u001B[1;36m10\u001B[0m-\u001B[1;36m30\u001B[0m 20:15:16 +\u001B[1;36m0000\u001B[0m\u001B[1m]\u001B[0m \u001B[1m[\u001B[0m\u001B[1;36m23\u001B[0m\u001B[1m]\u001B[0m \u001B[1m[\u001B[0mINFO\u001B[1m]\u001B[0m Booting worker with pid: \u001B[1;36m23\u001B[0m    \u001B]8;id=22160;file:///Users/nargokul/workspace/sagemaker-python-sdk-staging/sagemaker-python-sdk-staging/src/sagemaker/session.py\u001B\\\u001B[2msession.py\u001B[0m\u001B]8;;\u001B\\\u001B[2m:\u001B[0m\u001B]8;id=133976;file:///Users/nargokul/workspace/sagemaker-python-sdk-staging/sagemaker-python-sdk-staging/src/sagemaker/session.py#8308\u001B\\\u001B[2m8308\u001B[0m\u001B]8;;\u001B\\\n"
      ],
      "text/html": [
       "<pre style=\"white-space:pre;overflow-x:auto;line-height:normal;font-family:Menlo,'DejaVu Sans Mono',consolas,'Courier New',monospace\"><span style=\"color: #7fbfbf; text-decoration-color: #7fbfbf\">                    </span><span style=\"color: #0069ff; text-decoration-color: #0069ff; font-weight: bold\">INFO    </span> <span style=\"font-weight: bold\">[</span><span style=\"color: #008080; text-decoration-color: #008080; font-weight: bold\">2024</span>-<span style=\"color: #008080; text-decoration-color: #008080; font-weight: bold\">10</span>-<span style=\"color: #008080; text-decoration-color: #008080; font-weight: bold\">30</span> 20:15:16 +<span style=\"color: #008080; text-decoration-color: #008080; font-weight: bold\">0000</span><span style=\"font-weight: bold\">]</span> <span style=\"font-weight: bold\">[</span><span style=\"color: #008080; text-decoration-color: #008080; font-weight: bold\">23</span><span style=\"font-weight: bold\">]</span> <span style=\"font-weight: bold\">[</span>INFO<span style=\"font-weight: bold\">]</span> Booting worker with pid: <span style=\"color: #008080; text-decoration-color: #008080; font-weight: bold\">23</span>    <a href=\"file:///Users/nargokul/workspace/sagemaker-python-sdk-staging/sagemaker-python-sdk-staging/src/sagemaker/session.py\" target=\"_blank\"><span style=\"color: #7f7f7f; text-decoration-color: #7f7f7f\">session.py</span></a><span style=\"color: #7f7f7f; text-decoration-color: #7f7f7f\">:</span><a href=\"file:///Users/nargokul/workspace/sagemaker-python-sdk-staging/sagemaker-python-sdk-staging/src/sagemaker/session.py#8308\" target=\"_blank\"><span style=\"color: #7f7f7f; text-decoration-color: #7f7f7f\">8308</span></a>\n",
       "</pre>\n"
      ]
     },
     "metadata": {},
     "output_type": "display_data"
    },
    {
     "data": {
      "text/plain": [
       "\u001B[2;36m                   \u001B[0m\u001B[2;36m \u001B[0m\u001B[1;38;2;0;105;255mINFO    \u001B[0m \u001B[38;2;225;0;225m/opt/amazon/lib/python3.7/site-packages/gunicorn/workers/\u001B[0m\u001B[38;2;225;0;225mggevent.py\u001B[0m:\u001B[1;36m65\u001B[0m \u001B]8;id=833189;file:///Users/nargokul/workspace/sagemaker-python-sdk-staging/sagemaker-python-sdk-staging/src/sagemaker/session.py\u001B\\\u001B[2msession.py\u001B[0m\u001B]8;;\u001B\\\u001B[2m:\u001B[0m\u001B]8;id=957374;file:///Users/nargokul/workspace/sagemaker-python-sdk-staging/sagemaker-python-sdk-staging/src/sagemaker/session.py#8308\u001B\\\u001B[2m8308\u001B[0m\u001B]8;;\u001B\\\n",
       "\u001B[2;36m                    \u001B[0m         : MonkeyPatchWarning: Monkey-patching ssl after ssl has already been   \u001B[2m               \u001B[0m\n",
       "\u001B[2;36m                    \u001B[0m         imported may lead to errors, including RecursionError on Python \u001B[1;36m3.6\u001B[0m.   \u001B[2m               \u001B[0m\n",
       "\u001B[2;36m                    \u001B[0m         It may also silently lead to incorrect behaviour on Python \u001B[1;36m3.7\u001B[0m. Please \u001B[2m               \u001B[0m\n",
       "\u001B[2;36m                    \u001B[0m         monkey-patch earlier. See                                              \u001B[2m               \u001B[0m\n",
       "\u001B[2;36m                    \u001B[0m         \u001B[4;38;2;0;105;255mhttps://github.com/gevent/gevent/issues/1016.\u001B[0m Modules that had direct  \u001B[2m               \u001B[0m\n",
       "\u001B[2;36m                    \u001B[0m         imports \u001B[1m(\u001B[0mNOT patched\u001B[1m)\u001B[0m: \u001B[1m[\u001B[0m\u001B[38;2;0;135;0m'urllib3.util \u001B[0m                                 \u001B[2m               \u001B[0m\n",
       "\u001B[2;36m                    \u001B[0m         \u001B[1;38;2;0;135;0m(\u001B[0m\u001B[38;2;0;135;0m/opt/amazon/lib/python3.7/site-packages/urllib3/util/__init__.py\u001B[0m\u001B[1;38;2;0;135;0m)\u001B[0m\u001B[38;2;0;135;0m'\u001B[0m,   \u001B[2m               \u001B[0m\n",
       "\u001B[2;36m                    \u001B[0m         \u001B[38;2;0;135;0m'urllib3.util.ssl_ \u001B[0m                                                    \u001B[2m               \u001B[0m\n",
       "\u001B[2;36m                    \u001B[0m         \u001B[1;38;2;0;135;0m(\u001B[0m\u001B[38;2;0;135;0m/opt/amazon/lib/python3.7/site-packages/urllib3/util/ssl_.py\u001B[0m\u001B[1;38;2;0;135;0m)\u001B[0m\u001B[38;2;0;135;0m'\u001B[0m\u001B[1m]\u001B[0m.      \u001B[2m               \u001B[0m\n",
       "\u001B[2;36m                    \u001B[0m           \u001B[1;38;2;225;0;225mmonkey.patch_all\u001B[0m\u001B[1m(\u001B[0m\u001B[38;2;215;175;0msubprocess\u001B[0m=\u001B[3;38;2;0;135;0mTrue\u001B[0m\u001B[1m)\u001B[0m                                    \u001B[2m               \u001B[0m\n"
      ],
      "text/html": [
       "<pre style=\"white-space:pre;overflow-x:auto;line-height:normal;font-family:Menlo,'DejaVu Sans Mono',consolas,'Courier New',monospace\"><span style=\"color: #7fbfbf; text-decoration-color: #7fbfbf\">                    </span><span style=\"color: #0069ff; text-decoration-color: #0069ff; font-weight: bold\">INFO    </span> <span style=\"color: #e100e1; text-decoration-color: #e100e1\">/opt/amazon/lib/python3.7/site-packages/gunicorn/workers/ggevent.py</span>:<span style=\"color: #008080; text-decoration-color: #008080; font-weight: bold\">65</span> <a href=\"file:///Users/nargokul/workspace/sagemaker-python-sdk-staging/sagemaker-python-sdk-staging/src/sagemaker/session.py\" target=\"_blank\"><span style=\"color: #7f7f7f; text-decoration-color: #7f7f7f\">session.py</span></a><span style=\"color: #7f7f7f; text-decoration-color: #7f7f7f\">:</span><a href=\"file:///Users/nargokul/workspace/sagemaker-python-sdk-staging/sagemaker-python-sdk-staging/src/sagemaker/session.py#8308\" target=\"_blank\"><span style=\"color: #7f7f7f; text-decoration-color: #7f7f7f\">8308</span></a>\n",
       "<span style=\"color: #7fbfbf; text-decoration-color: #7fbfbf\">                    </span>         : MonkeyPatchWarning: Monkey-patching ssl after ssl has already been   <span style=\"color: #7f7f7f; text-decoration-color: #7f7f7f\">               </span>\n",
       "<span style=\"color: #7fbfbf; text-decoration-color: #7fbfbf\">                    </span>         imported may lead to errors, including RecursionError on Python <span style=\"color: #008080; text-decoration-color: #008080; font-weight: bold\">3.6</span>.   <span style=\"color: #7f7f7f; text-decoration-color: #7f7f7f\">               </span>\n",
       "<span style=\"color: #7fbfbf; text-decoration-color: #7fbfbf\">                    </span>         It may also silently lead to incorrect behaviour on Python <span style=\"color: #008080; text-decoration-color: #008080; font-weight: bold\">3.7</span>. Please <span style=\"color: #7f7f7f; text-decoration-color: #7f7f7f\">               </span>\n",
       "<span style=\"color: #7fbfbf; text-decoration-color: #7fbfbf\">                    </span>         monkey-patch earlier. See                                              <span style=\"color: #7f7f7f; text-decoration-color: #7f7f7f\">               </span>\n",
       "<span style=\"color: #7fbfbf; text-decoration-color: #7fbfbf\">                    </span>         <span style=\"color: #0069ff; text-decoration-color: #0069ff; text-decoration: underline\">https://github.com/gevent/gevent/issues/1016.</span> Modules that had direct  <span style=\"color: #7f7f7f; text-decoration-color: #7f7f7f\">               </span>\n",
       "<span style=\"color: #7fbfbf; text-decoration-color: #7fbfbf\">                    </span>         imports <span style=\"font-weight: bold\">(</span>NOT patched<span style=\"font-weight: bold\">)</span>: <span style=\"font-weight: bold\">[</span><span style=\"color: #008700; text-decoration-color: #008700\">'urllib3.util </span>                                 <span style=\"color: #7f7f7f; text-decoration-color: #7f7f7f\">               </span>\n",
       "<span style=\"color: #7fbfbf; text-decoration-color: #7fbfbf\">                    </span>         <span style=\"color: #008700; text-decoration-color: #008700; font-weight: bold\">(</span><span style=\"color: #008700; text-decoration-color: #008700\">/opt/amazon/lib/python3.7/site-packages/urllib3/util/__init__.py</span><span style=\"color: #008700; text-decoration-color: #008700; font-weight: bold\">)</span><span style=\"color: #008700; text-decoration-color: #008700\">'</span>,   <span style=\"color: #7f7f7f; text-decoration-color: #7f7f7f\">               </span>\n",
       "<span style=\"color: #7fbfbf; text-decoration-color: #7fbfbf\">                    </span>         <span style=\"color: #008700; text-decoration-color: #008700\">'urllib3.util.ssl_ </span>                                                    <span style=\"color: #7f7f7f; text-decoration-color: #7f7f7f\">               </span>\n",
       "<span style=\"color: #7fbfbf; text-decoration-color: #7fbfbf\">                    </span>         <span style=\"color: #008700; text-decoration-color: #008700; font-weight: bold\">(</span><span style=\"color: #008700; text-decoration-color: #008700\">/opt/amazon/lib/python3.7/site-packages/urllib3/util/ssl_.py</span><span style=\"color: #008700; text-decoration-color: #008700; font-weight: bold\">)</span><span style=\"color: #008700; text-decoration-color: #008700\">'</span><span style=\"font-weight: bold\">]</span>.      <span style=\"color: #7f7f7f; text-decoration-color: #7f7f7f\">               </span>\n",
       "<span style=\"color: #7fbfbf; text-decoration-color: #7fbfbf\">                    </span>           <span style=\"color: #e100e1; text-decoration-color: #e100e1; font-weight: bold\">monkey.patch_all</span><span style=\"font-weight: bold\">(</span><span style=\"color: #d7af00; text-decoration-color: #d7af00\">subprocess</span>=<span style=\"color: #008700; text-decoration-color: #008700; font-style: italic\">True</span><span style=\"font-weight: bold\">)</span>                                    <span style=\"color: #7f7f7f; text-decoration-color: #7f7f7f\">               </span>\n",
       "</pre>\n"
      ]
     },
     "metadata": {},
     "output_type": "display_data"
    },
    {
     "data": {
      "text/plain": [
       "\u001B[2;36m                   \u001B[0m\u001B[2;36m \u001B[0m\u001B[1;38;2;0;105;255mINFO    \u001B[0m \u001B[1m[\u001B[0m\u001B[1;36m2024\u001B[0m-\u001B[1;36m10\u001B[0m-30:20:15:16:INFO\u001B[1m]\u001B[0m Model loaded successfully for worker : \u001B[1;36m22\u001B[0m   \u001B]8;id=404040;file:///Users/nargokul/workspace/sagemaker-python-sdk-staging/sagemaker-python-sdk-staging/src/sagemaker/session.py\u001B\\\u001B[2msession.py\u001B[0m\u001B]8;;\u001B\\\u001B[2m:\u001B[0m\u001B]8;id=396553;file:///Users/nargokul/workspace/sagemaker-python-sdk-staging/sagemaker-python-sdk-staging/src/sagemaker/session.py#8308\u001B\\\u001B[2m8308\u001B[0m\u001B]8;;\u001B\\\n"
      ],
      "text/html": [
       "<pre style=\"white-space:pre;overflow-x:auto;line-height:normal;font-family:Menlo,'DejaVu Sans Mono',consolas,'Courier New',monospace\"><span style=\"color: #7fbfbf; text-decoration-color: #7fbfbf\">                    </span><span style=\"color: #0069ff; text-decoration-color: #0069ff; font-weight: bold\">INFO    </span> <span style=\"font-weight: bold\">[</span><span style=\"color: #008080; text-decoration-color: #008080; font-weight: bold\">2024</span>-<span style=\"color: #008080; text-decoration-color: #008080; font-weight: bold\">10</span>-30:20:15:16:INFO<span style=\"font-weight: bold\">]</span> Model loaded successfully for worker : <span style=\"color: #008080; text-decoration-color: #008080; font-weight: bold\">22</span>   <a href=\"file:///Users/nargokul/workspace/sagemaker-python-sdk-staging/sagemaker-python-sdk-staging/src/sagemaker/session.py\" target=\"_blank\"><span style=\"color: #7f7f7f; text-decoration-color: #7f7f7f\">session.py</span></a><span style=\"color: #7f7f7f; text-decoration-color: #7f7f7f\">:</span><a href=\"file:///Users/nargokul/workspace/sagemaker-python-sdk-staging/sagemaker-python-sdk-staging/src/sagemaker/session.py#8308\" target=\"_blank\"><span style=\"color: #7f7f7f; text-decoration-color: #7f7f7f\">8308</span></a>\n",
       "</pre>\n"
      ]
     },
     "metadata": {},
     "output_type": "display_data"
    },
    {
     "data": {
      "text/plain": [
       "\u001B[2;36m                   \u001B[0m\u001B[2;36m \u001B[0m\u001B[1;38;2;0;105;255mINFO    \u001B[0m \u001B[38;2;225;0;225m/opt/amazon/lib/python3.7/site-packages/gunicorn/workers/\u001B[0m\u001B[38;2;225;0;225mggevent.py\u001B[0m:\u001B[1;36m65\u001B[0m \u001B]8;id=779028;file:///Users/nargokul/workspace/sagemaker-python-sdk-staging/sagemaker-python-sdk-staging/src/sagemaker/session.py\u001B\\\u001B[2msession.py\u001B[0m\u001B]8;;\u001B\\\u001B[2m:\u001B[0m\u001B]8;id=90292;file:///Users/nargokul/workspace/sagemaker-python-sdk-staging/sagemaker-python-sdk-staging/src/sagemaker/session.py#8308\u001B\\\u001B[2m8308\u001B[0m\u001B]8;;\u001B\\\n",
       "\u001B[2;36m                    \u001B[0m         : MonkeyPatchWarning: Monkey-patching ssl after ssl has already been   \u001B[2m               \u001B[0m\n",
       "\u001B[2;36m                    \u001B[0m         imported may lead to errors, including RecursionError on Python \u001B[1;36m3.6\u001B[0m.   \u001B[2m               \u001B[0m\n",
       "\u001B[2;36m                    \u001B[0m         It may also silently lead to incorrect behaviour on Python \u001B[1;36m3.7\u001B[0m. Please \u001B[2m               \u001B[0m\n",
       "\u001B[2;36m                    \u001B[0m         monkey-patch earlier. See                                              \u001B[2m               \u001B[0m\n",
       "\u001B[2;36m                    \u001B[0m         \u001B[4;38;2;0;105;255mhttps://github.com/gevent/gevent/issues/1016.\u001B[0m Modules that had direct  \u001B[2m               \u001B[0m\n",
       "\u001B[2;36m                    \u001B[0m         imports \u001B[1m(\u001B[0mNOT patched\u001B[1m)\u001B[0m: \u001B[1m[\u001B[0m\u001B[38;2;0;135;0m'urllib3.util \u001B[0m                                 \u001B[2m               \u001B[0m\n",
       "\u001B[2;36m                    \u001B[0m         \u001B[1;38;2;0;135;0m(\u001B[0m\u001B[38;2;0;135;0m/opt/amazon/lib/python3.7/site-packages/urllib3/util/__init__.py\u001B[0m\u001B[1;38;2;0;135;0m)\u001B[0m\u001B[38;2;0;135;0m'\u001B[0m,   \u001B[2m               \u001B[0m\n",
       "\u001B[2;36m                    \u001B[0m         \u001B[38;2;0;135;0m'urllib3.util.ssl_ \u001B[0m                                                    \u001B[2m               \u001B[0m\n",
       "\u001B[2;36m                    \u001B[0m         \u001B[1;38;2;0;135;0m(\u001B[0m\u001B[38;2;0;135;0m/opt/amazon/lib/python3.7/site-packages/urllib3/util/ssl_.py\u001B[0m\u001B[1;38;2;0;135;0m)\u001B[0m\u001B[38;2;0;135;0m'\u001B[0m\u001B[1m]\u001B[0m.      \u001B[2m               \u001B[0m\n",
       "\u001B[2;36m                    \u001B[0m           \u001B[1;38;2;225;0;225mmonkey.patch_all\u001B[0m\u001B[1m(\u001B[0m\u001B[38;2;215;175;0msubprocess\u001B[0m=\u001B[3;38;2;0;135;0mTrue\u001B[0m\u001B[1m)\u001B[0m                                    \u001B[2m               \u001B[0m\n"
      ],
      "text/html": [
       "<pre style=\"white-space:pre;overflow-x:auto;line-height:normal;font-family:Menlo,'DejaVu Sans Mono',consolas,'Courier New',monospace\"><span style=\"color: #7fbfbf; text-decoration-color: #7fbfbf\">                    </span><span style=\"color: #0069ff; text-decoration-color: #0069ff; font-weight: bold\">INFO    </span> <span style=\"color: #e100e1; text-decoration-color: #e100e1\">/opt/amazon/lib/python3.7/site-packages/gunicorn/workers/ggevent.py</span>:<span style=\"color: #008080; text-decoration-color: #008080; font-weight: bold\">65</span> <a href=\"file:///Users/nargokul/workspace/sagemaker-python-sdk-staging/sagemaker-python-sdk-staging/src/sagemaker/session.py\" target=\"_blank\"><span style=\"color: #7f7f7f; text-decoration-color: #7f7f7f\">session.py</span></a><span style=\"color: #7f7f7f; text-decoration-color: #7f7f7f\">:</span><a href=\"file:///Users/nargokul/workspace/sagemaker-python-sdk-staging/sagemaker-python-sdk-staging/src/sagemaker/session.py#8308\" target=\"_blank\"><span style=\"color: #7f7f7f; text-decoration-color: #7f7f7f\">8308</span></a>\n",
       "<span style=\"color: #7fbfbf; text-decoration-color: #7fbfbf\">                    </span>         : MonkeyPatchWarning: Monkey-patching ssl after ssl has already been   <span style=\"color: #7f7f7f; text-decoration-color: #7f7f7f\">               </span>\n",
       "<span style=\"color: #7fbfbf; text-decoration-color: #7fbfbf\">                    </span>         imported may lead to errors, including RecursionError on Python <span style=\"color: #008080; text-decoration-color: #008080; font-weight: bold\">3.6</span>.   <span style=\"color: #7f7f7f; text-decoration-color: #7f7f7f\">               </span>\n",
       "<span style=\"color: #7fbfbf; text-decoration-color: #7fbfbf\">                    </span>         It may also silently lead to incorrect behaviour on Python <span style=\"color: #008080; text-decoration-color: #008080; font-weight: bold\">3.7</span>. Please <span style=\"color: #7f7f7f; text-decoration-color: #7f7f7f\">               </span>\n",
       "<span style=\"color: #7fbfbf; text-decoration-color: #7fbfbf\">                    </span>         monkey-patch earlier. See                                              <span style=\"color: #7f7f7f; text-decoration-color: #7f7f7f\">               </span>\n",
       "<span style=\"color: #7fbfbf; text-decoration-color: #7fbfbf\">                    </span>         <span style=\"color: #0069ff; text-decoration-color: #0069ff; text-decoration: underline\">https://github.com/gevent/gevent/issues/1016.</span> Modules that had direct  <span style=\"color: #7f7f7f; text-decoration-color: #7f7f7f\">               </span>\n",
       "<span style=\"color: #7fbfbf; text-decoration-color: #7fbfbf\">                    </span>         imports <span style=\"font-weight: bold\">(</span>NOT patched<span style=\"font-weight: bold\">)</span>: <span style=\"font-weight: bold\">[</span><span style=\"color: #008700; text-decoration-color: #008700\">'urllib3.util </span>                                 <span style=\"color: #7f7f7f; text-decoration-color: #7f7f7f\">               </span>\n",
       "<span style=\"color: #7fbfbf; text-decoration-color: #7fbfbf\">                    </span>         <span style=\"color: #008700; text-decoration-color: #008700; font-weight: bold\">(</span><span style=\"color: #008700; text-decoration-color: #008700\">/opt/amazon/lib/python3.7/site-packages/urllib3/util/__init__.py</span><span style=\"color: #008700; text-decoration-color: #008700; font-weight: bold\">)</span><span style=\"color: #008700; text-decoration-color: #008700\">'</span>,   <span style=\"color: #7f7f7f; text-decoration-color: #7f7f7f\">               </span>\n",
       "<span style=\"color: #7fbfbf; text-decoration-color: #7fbfbf\">                    </span>         <span style=\"color: #008700; text-decoration-color: #008700\">'urllib3.util.ssl_ </span>                                                    <span style=\"color: #7f7f7f; text-decoration-color: #7f7f7f\">               </span>\n",
       "<span style=\"color: #7fbfbf; text-decoration-color: #7fbfbf\">                    </span>         <span style=\"color: #008700; text-decoration-color: #008700; font-weight: bold\">(</span><span style=\"color: #008700; text-decoration-color: #008700\">/opt/amazon/lib/python3.7/site-packages/urllib3/util/ssl_.py</span><span style=\"color: #008700; text-decoration-color: #008700; font-weight: bold\">)</span><span style=\"color: #008700; text-decoration-color: #008700\">'</span><span style=\"font-weight: bold\">]</span>.      <span style=\"color: #7f7f7f; text-decoration-color: #7f7f7f\">               </span>\n",
       "<span style=\"color: #7fbfbf; text-decoration-color: #7fbfbf\">                    </span>           <span style=\"color: #e100e1; text-decoration-color: #e100e1; font-weight: bold\">monkey.patch_all</span><span style=\"font-weight: bold\">(</span><span style=\"color: #d7af00; text-decoration-color: #d7af00\">subprocess</span>=<span style=\"color: #008700; text-decoration-color: #008700; font-style: italic\">True</span><span style=\"font-weight: bold\">)</span>                                    <span style=\"color: #7f7f7f; text-decoration-color: #7f7f7f\">               </span>\n",
       "</pre>\n"
      ]
     },
     "metadata": {},
     "output_type": "display_data"
    },
    {
     "data": {
      "text/plain": [
       "\u001B[2;36m                   \u001B[0m\u001B[2;36m \u001B[0m\u001B[1;38;2;0;105;255mINFO    \u001B[0m \u001B[1m[\u001B[0m\u001B[1;36m2024\u001B[0m-\u001B[1;36m10\u001B[0m-30:20:15:17:INFO\u001B[1m]\u001B[0m Model loaded successfully for worker : \u001B[1;36m23\u001B[0m   \u001B]8;id=693683;file:///Users/nargokul/workspace/sagemaker-python-sdk-staging/sagemaker-python-sdk-staging/src/sagemaker/session.py\u001B\\\u001B[2msession.py\u001B[0m\u001B]8;;\u001B\\\u001B[2m:\u001B[0m\u001B]8;id=319507;file:///Users/nargokul/workspace/sagemaker-python-sdk-staging/sagemaker-python-sdk-staging/src/sagemaker/session.py#8308\u001B\\\u001B[2m8308\u001B[0m\u001B]8;;\u001B\\\n"
      ],
      "text/html": [
       "<pre style=\"white-space:pre;overflow-x:auto;line-height:normal;font-family:Menlo,'DejaVu Sans Mono',consolas,'Courier New',monospace\"><span style=\"color: #7fbfbf; text-decoration-color: #7fbfbf\">                    </span><span style=\"color: #0069ff; text-decoration-color: #0069ff; font-weight: bold\">INFO    </span> <span style=\"font-weight: bold\">[</span><span style=\"color: #008080; text-decoration-color: #008080; font-weight: bold\">2024</span>-<span style=\"color: #008080; text-decoration-color: #008080; font-weight: bold\">10</span>-30:20:15:17:INFO<span style=\"font-weight: bold\">]</span> Model loaded successfully for worker : <span style=\"color: #008080; text-decoration-color: #008080; font-weight: bold\">23</span>   <a href=\"file:///Users/nargokul/workspace/sagemaker-python-sdk-staging/sagemaker-python-sdk-staging/src/sagemaker/session.py\" target=\"_blank\"><span style=\"color: #7f7f7f; text-decoration-color: #7f7f7f\">session.py</span></a><span style=\"color: #7f7f7f; text-decoration-color: #7f7f7f\">:</span><a href=\"file:///Users/nargokul/workspace/sagemaker-python-sdk-staging/sagemaker-python-sdk-staging/src/sagemaker/session.py#8308\" target=\"_blank\"><span style=\"color: #7f7f7f; text-decoration-color: #7f7f7f\">8308</span></a>\n",
       "</pre>\n"
      ]
     },
     "metadata": {},
     "output_type": "display_data"
    },
    {
     "data": {
      "text/plain": [
       "\u001B[2;36m                   \u001B[0m\u001B[2;36m \u001B[0m\u001B[1;38;2;0;105;255mINFO    \u001B[0m \u001B[1m[\u001B[0m\u001B[1;36m2024\u001B[0m-\u001B[1;36m10\u001B[0m-\u001B[1;36m30\u001B[0m 20:15:17 +\u001B[1;36m0000\u001B[0m\u001B[1m]\u001B[0m \u001B[1m[\u001B[0m\u001B[1;36m24\u001B[0m\u001B[1m]\u001B[0m \u001B[1m[\u001B[0mINFO\u001B[1m]\u001B[0m Booting worker with pid: \u001B[1;36m24\u001B[0m    \u001B]8;id=6848;file:///Users/nargokul/workspace/sagemaker-python-sdk-staging/sagemaker-python-sdk-staging/src/sagemaker/session.py\u001B\\\u001B[2msession.py\u001B[0m\u001B]8;;\u001B\\\u001B[2m:\u001B[0m\u001B]8;id=288255;file:///Users/nargokul/workspace/sagemaker-python-sdk-staging/sagemaker-python-sdk-staging/src/sagemaker/session.py#8308\u001B\\\u001B[2m8308\u001B[0m\u001B]8;;\u001B\\\n"
      ],
      "text/html": [
       "<pre style=\"white-space:pre;overflow-x:auto;line-height:normal;font-family:Menlo,'DejaVu Sans Mono',consolas,'Courier New',monospace\"><span style=\"color: #7fbfbf; text-decoration-color: #7fbfbf\">                    </span><span style=\"color: #0069ff; text-decoration-color: #0069ff; font-weight: bold\">INFO    </span> <span style=\"font-weight: bold\">[</span><span style=\"color: #008080; text-decoration-color: #008080; font-weight: bold\">2024</span>-<span style=\"color: #008080; text-decoration-color: #008080; font-weight: bold\">10</span>-<span style=\"color: #008080; text-decoration-color: #008080; font-weight: bold\">30</span> 20:15:17 +<span style=\"color: #008080; text-decoration-color: #008080; font-weight: bold\">0000</span><span style=\"font-weight: bold\">]</span> <span style=\"font-weight: bold\">[</span><span style=\"color: #008080; text-decoration-color: #008080; font-weight: bold\">24</span><span style=\"font-weight: bold\">]</span> <span style=\"font-weight: bold\">[</span>INFO<span style=\"font-weight: bold\">]</span> Booting worker with pid: <span style=\"color: #008080; text-decoration-color: #008080; font-weight: bold\">24</span>    <a href=\"file:///Users/nargokul/workspace/sagemaker-python-sdk-staging/sagemaker-python-sdk-staging/src/sagemaker/session.py\" target=\"_blank\"><span style=\"color: #7f7f7f; text-decoration-color: #7f7f7f\">session.py</span></a><span style=\"color: #7f7f7f; text-decoration-color: #7f7f7f\">:</span><a href=\"file:///Users/nargokul/workspace/sagemaker-python-sdk-staging/sagemaker-python-sdk-staging/src/sagemaker/session.py#8308\" target=\"_blank\"><span style=\"color: #7f7f7f; text-decoration-color: #7f7f7f\">8308</span></a>\n",
       "</pre>\n"
      ]
     },
     "metadata": {},
     "output_type": "display_data"
    },
    {
     "data": {
      "text/plain": [
       "\u001B[2;36m                   \u001B[0m\u001B[2;36m \u001B[0m\u001B[1;38;2;0;105;255mINFO    \u001B[0m \u001B[38;2;225;0;225m/opt/amazon/lib/python3.7/site-packages/gunicorn/workers/\u001B[0m\u001B[38;2;225;0;225mggevent.py\u001B[0m:\u001B[1;36m65\u001B[0m \u001B]8;id=941362;file:///Users/nargokul/workspace/sagemaker-python-sdk-staging/sagemaker-python-sdk-staging/src/sagemaker/session.py\u001B\\\u001B[2msession.py\u001B[0m\u001B]8;;\u001B\\\u001B[2m:\u001B[0m\u001B]8;id=289797;file:///Users/nargokul/workspace/sagemaker-python-sdk-staging/sagemaker-python-sdk-staging/src/sagemaker/session.py#8308\u001B\\\u001B[2m8308\u001B[0m\u001B]8;;\u001B\\\n",
       "\u001B[2;36m                    \u001B[0m         : MonkeyPatchWarning: Monkey-patching ssl after ssl has already been   \u001B[2m               \u001B[0m\n",
       "\u001B[2;36m                    \u001B[0m         imported may lead to errors, including RecursionError on Python \u001B[1;36m3.6\u001B[0m.   \u001B[2m               \u001B[0m\n",
       "\u001B[2;36m                    \u001B[0m         It may also silently lead to incorrect behaviour on Python \u001B[1;36m3.7\u001B[0m. Please \u001B[2m               \u001B[0m\n",
       "\u001B[2;36m                    \u001B[0m         monkey-patch earlier. See                                              \u001B[2m               \u001B[0m\n",
       "\u001B[2;36m                    \u001B[0m         \u001B[4;38;2;0;105;255mhttps://github.com/gevent/gevent/issues/1016.\u001B[0m Modules that had direct  \u001B[2m               \u001B[0m\n",
       "\u001B[2;36m                    \u001B[0m         imports \u001B[1m(\u001B[0mNOT patched\u001B[1m)\u001B[0m: \u001B[1m[\u001B[0m\u001B[38;2;0;135;0m'urllib3.util \u001B[0m                                 \u001B[2m               \u001B[0m\n",
       "\u001B[2;36m                    \u001B[0m         \u001B[1;38;2;0;135;0m(\u001B[0m\u001B[38;2;0;135;0m/opt/amazon/lib/python3.7/site-packages/urllib3/util/__init__.py\u001B[0m\u001B[1;38;2;0;135;0m)\u001B[0m\u001B[38;2;0;135;0m'\u001B[0m,   \u001B[2m               \u001B[0m\n",
       "\u001B[2;36m                    \u001B[0m         \u001B[38;2;0;135;0m'urllib3.util.ssl_ \u001B[0m                                                    \u001B[2m               \u001B[0m\n",
       "\u001B[2;36m                    \u001B[0m         \u001B[1;38;2;0;135;0m(\u001B[0m\u001B[38;2;0;135;0m/opt/amazon/lib/python3.7/site-packages/urllib3/util/ssl_.py\u001B[0m\u001B[1;38;2;0;135;0m)\u001B[0m\u001B[38;2;0;135;0m'\u001B[0m\u001B[1m]\u001B[0m.      \u001B[2m               \u001B[0m\n",
       "\u001B[2;36m                    \u001B[0m           \u001B[1;38;2;225;0;225mmonkey.patch_all\u001B[0m\u001B[1m(\u001B[0m\u001B[38;2;215;175;0msubprocess\u001B[0m=\u001B[3;38;2;0;135;0mTrue\u001B[0m\u001B[1m)\u001B[0m                                    \u001B[2m               \u001B[0m\n"
      ],
      "text/html": [
       "<pre style=\"white-space:pre;overflow-x:auto;line-height:normal;font-family:Menlo,'DejaVu Sans Mono',consolas,'Courier New',monospace\"><span style=\"color: #7fbfbf; text-decoration-color: #7fbfbf\">                    </span><span style=\"color: #0069ff; text-decoration-color: #0069ff; font-weight: bold\">INFO    </span> <span style=\"color: #e100e1; text-decoration-color: #e100e1\">/opt/amazon/lib/python3.7/site-packages/gunicorn/workers/ggevent.py</span>:<span style=\"color: #008080; text-decoration-color: #008080; font-weight: bold\">65</span> <a href=\"file:///Users/nargokul/workspace/sagemaker-python-sdk-staging/sagemaker-python-sdk-staging/src/sagemaker/session.py\" target=\"_blank\"><span style=\"color: #7f7f7f; text-decoration-color: #7f7f7f\">session.py</span></a><span style=\"color: #7f7f7f; text-decoration-color: #7f7f7f\">:</span><a href=\"file:///Users/nargokul/workspace/sagemaker-python-sdk-staging/sagemaker-python-sdk-staging/src/sagemaker/session.py#8308\" target=\"_blank\"><span style=\"color: #7f7f7f; text-decoration-color: #7f7f7f\">8308</span></a>\n",
       "<span style=\"color: #7fbfbf; text-decoration-color: #7fbfbf\">                    </span>         : MonkeyPatchWarning: Monkey-patching ssl after ssl has already been   <span style=\"color: #7f7f7f; text-decoration-color: #7f7f7f\">               </span>\n",
       "<span style=\"color: #7fbfbf; text-decoration-color: #7fbfbf\">                    </span>         imported may lead to errors, including RecursionError on Python <span style=\"color: #008080; text-decoration-color: #008080; font-weight: bold\">3.6</span>.   <span style=\"color: #7f7f7f; text-decoration-color: #7f7f7f\">               </span>\n",
       "<span style=\"color: #7fbfbf; text-decoration-color: #7fbfbf\">                    </span>         It may also silently lead to incorrect behaviour on Python <span style=\"color: #008080; text-decoration-color: #008080; font-weight: bold\">3.7</span>. Please <span style=\"color: #7f7f7f; text-decoration-color: #7f7f7f\">               </span>\n",
       "<span style=\"color: #7fbfbf; text-decoration-color: #7fbfbf\">                    </span>         monkey-patch earlier. See                                              <span style=\"color: #7f7f7f; text-decoration-color: #7f7f7f\">               </span>\n",
       "<span style=\"color: #7fbfbf; text-decoration-color: #7fbfbf\">                    </span>         <span style=\"color: #0069ff; text-decoration-color: #0069ff; text-decoration: underline\">https://github.com/gevent/gevent/issues/1016.</span> Modules that had direct  <span style=\"color: #7f7f7f; text-decoration-color: #7f7f7f\">               </span>\n",
       "<span style=\"color: #7fbfbf; text-decoration-color: #7fbfbf\">                    </span>         imports <span style=\"font-weight: bold\">(</span>NOT patched<span style=\"font-weight: bold\">)</span>: <span style=\"font-weight: bold\">[</span><span style=\"color: #008700; text-decoration-color: #008700\">'urllib3.util </span>                                 <span style=\"color: #7f7f7f; text-decoration-color: #7f7f7f\">               </span>\n",
       "<span style=\"color: #7fbfbf; text-decoration-color: #7fbfbf\">                    </span>         <span style=\"color: #008700; text-decoration-color: #008700; font-weight: bold\">(</span><span style=\"color: #008700; text-decoration-color: #008700\">/opt/amazon/lib/python3.7/site-packages/urllib3/util/__init__.py</span><span style=\"color: #008700; text-decoration-color: #008700; font-weight: bold\">)</span><span style=\"color: #008700; text-decoration-color: #008700\">'</span>,   <span style=\"color: #7f7f7f; text-decoration-color: #7f7f7f\">               </span>\n",
       "<span style=\"color: #7fbfbf; text-decoration-color: #7fbfbf\">                    </span>         <span style=\"color: #008700; text-decoration-color: #008700\">'urllib3.util.ssl_ </span>                                                    <span style=\"color: #7f7f7f; text-decoration-color: #7f7f7f\">               </span>\n",
       "<span style=\"color: #7fbfbf; text-decoration-color: #7fbfbf\">                    </span>         <span style=\"color: #008700; text-decoration-color: #008700; font-weight: bold\">(</span><span style=\"color: #008700; text-decoration-color: #008700\">/opt/amazon/lib/python3.7/site-packages/urllib3/util/ssl_.py</span><span style=\"color: #008700; text-decoration-color: #008700; font-weight: bold\">)</span><span style=\"color: #008700; text-decoration-color: #008700\">'</span><span style=\"font-weight: bold\">]</span>.      <span style=\"color: #7f7f7f; text-decoration-color: #7f7f7f\">               </span>\n",
       "<span style=\"color: #7fbfbf; text-decoration-color: #7fbfbf\">                    </span>           <span style=\"color: #e100e1; text-decoration-color: #e100e1; font-weight: bold\">monkey.patch_all</span><span style=\"font-weight: bold\">(</span><span style=\"color: #d7af00; text-decoration-color: #d7af00\">subprocess</span>=<span style=\"color: #008700; text-decoration-color: #008700; font-style: italic\">True</span><span style=\"font-weight: bold\">)</span>                                    <span style=\"color: #7f7f7f; text-decoration-color: #7f7f7f\">               </span>\n",
       "</pre>\n"
      ]
     },
     "metadata": {},
     "output_type": "display_data"
    },
    {
     "data": {
      "text/plain": [
       "\u001B[2;36m                   \u001B[0m\u001B[2;36m \u001B[0m\u001B[1;38;2;0;105;255mINFO    \u001B[0m \u001B[1m[\u001B[0m\u001B[1;36m2024\u001B[0m-\u001B[1;36m10\u001B[0m-30:20:15:17:INFO\u001B[1m]\u001B[0m Model loaded successfully for worker : \u001B[1;36m24\u001B[0m   \u001B]8;id=70291;file:///Users/nargokul/workspace/sagemaker-python-sdk-staging/sagemaker-python-sdk-staging/src/sagemaker/session.py\u001B\\\u001B[2msession.py\u001B[0m\u001B]8;;\u001B\\\u001B[2m:\u001B[0m\u001B]8;id=909473;file:///Users/nargokul/workspace/sagemaker-python-sdk-staging/sagemaker-python-sdk-staging/src/sagemaker/session.py#8308\u001B\\\u001B[2m8308\u001B[0m\u001B]8;;\u001B\\\n"
      ],
      "text/html": [
       "<pre style=\"white-space:pre;overflow-x:auto;line-height:normal;font-family:Menlo,'DejaVu Sans Mono',consolas,'Courier New',monospace\"><span style=\"color: #7fbfbf; text-decoration-color: #7fbfbf\">                    </span><span style=\"color: #0069ff; text-decoration-color: #0069ff; font-weight: bold\">INFO    </span> <span style=\"font-weight: bold\">[</span><span style=\"color: #008080; text-decoration-color: #008080; font-weight: bold\">2024</span>-<span style=\"color: #008080; text-decoration-color: #008080; font-weight: bold\">10</span>-30:20:15:17:INFO<span style=\"font-weight: bold\">]</span> Model loaded successfully for worker : <span style=\"color: #008080; text-decoration-color: #008080; font-weight: bold\">24</span>   <a href=\"file:///Users/nargokul/workspace/sagemaker-python-sdk-staging/sagemaker-python-sdk-staging/src/sagemaker/session.py\" target=\"_blank\"><span style=\"color: #7f7f7f; text-decoration-color: #7f7f7f\">session.py</span></a><span style=\"color: #7f7f7f; text-decoration-color: #7f7f7f\">:</span><a href=\"file:///Users/nargokul/workspace/sagemaker-python-sdk-staging/sagemaker-python-sdk-staging/src/sagemaker/session.py#8308\" target=\"_blank\"><span style=\"color: #7f7f7f; text-decoration-color: #7f7f7f\">8308</span></a>\n",
       "</pre>\n"
      ]
     },
     "metadata": {},
     "output_type": "display_data"
    },
    {
     "data": {
      "text/plain": [
       "\u001B[2;36m[10/30/24 13:15:59]\u001B[0m\u001B[2;36m \u001B[0m\u001B[1;38;2;0;105;255mINFO    \u001B[0m Created endpoint with name                                             \u001B]8;id=778192;file:///Users/nargokul/workspace/sagemaker-python-sdk-staging/sagemaker-python-sdk-staging/src/sagemaker/session.py\u001B\\\u001B[2msession.py\u001B[0m\u001B]8;;\u001B\\\u001B[2m:\u001B[0m\u001B]8;id=467032;file:///Users/nargokul/workspace/sagemaker-python-sdk-staging/sagemaker-python-sdk-staging/src/sagemaker/session.py#8294\u001B\\\u001B[2m8294\u001B[0m\u001B]8;;\u001B\\\n",
       "\u001B[2;36m                    \u001B[0m         model-name-f76fb1fa96fa11efb5372ad633a9-\u001B[1;36m2024\u001B[0m-10-30-20-12-54-372        \u001B[2m               \u001B[0m\n"
      ],
      "text/html": [
       "<pre style=\"white-space:pre;overflow-x:auto;line-height:normal;font-family:Menlo,'DejaVu Sans Mono',consolas,'Courier New',monospace\"><span style=\"color: #7fbfbf; text-decoration-color: #7fbfbf\">[10/30/24 13:15:59] </span><span style=\"color: #0069ff; text-decoration-color: #0069ff; font-weight: bold\">INFO    </span> Created endpoint with name                                             <a href=\"file:///Users/nargokul/workspace/sagemaker-python-sdk-staging/sagemaker-python-sdk-staging/src/sagemaker/session.py\" target=\"_blank\"><span style=\"color: #7f7f7f; text-decoration-color: #7f7f7f\">session.py</span></a><span style=\"color: #7f7f7f; text-decoration-color: #7f7f7f\">:</span><a href=\"file:///Users/nargokul/workspace/sagemaker-python-sdk-staging/sagemaker-python-sdk-staging/src/sagemaker/session.py#8294\" target=\"_blank\"><span style=\"color: #7f7f7f; text-decoration-color: #7f7f7f\">8294</span></a>\n",
       "<span style=\"color: #7fbfbf; text-decoration-color: #7fbfbf\">                    </span>         model-name-f76fb1fa96fa11efb5372ad633a9-<span style=\"color: #008080; text-decoration-color: #008080; font-weight: bold\">2024</span>-10-30-20-12-54-372        <span style=\"color: #7f7f7f; text-decoration-color: #7f7f7f\">               </span>\n",
       "</pre>\n"
      ]
     },
     "metadata": {},
     "output_type": "display_data"
    },
    {
     "name": "stderr",
     "output_type": "stream",
     "text": [
      "ModelBuilder: DEBUG:     ModelBuilder metrics emitted.\n"
     ]
    }
   ],
   "execution_count": 4
  },
  {
   "metadata": {},
   "cell_type": "markdown",
   "source": "#### Serverless Deployment",
   "id": "5104c00db40527fd"
  },
  {
   "metadata": {
    "ExecuteTime": {
     "end_time": "2024-10-30T20:18:15.929714Z",
     "start_time": "2024-10-30T20:16:00.806356Z"
    }
   },
   "cell_type": "code",
   "source": [
    "from sagemaker.serverless.serverless_inference_config import ServerlessInferenceConfig\n",
    "\n",
    "serverless_predictor = model_builder.deploy(\n",
    "    inference_config=ServerlessInferenceConfig())"
   ],
   "id": "9a5de6c58da465f9",
   "outputs": [
    {
     "name": "stderr",
     "output_type": "stream",
     "text": [
      "ModelBuilder: INFO:     ModelBuilder will collect telemetry to help us better understand our user's needs, diagnose issues, and deliver additional features. To opt out of telemetry, please disable via TelemetryOptOut in intelligent defaults. See https://sagemaker.readthedocs.io/en/stable/overview.html#configuring-and-using-defaults-with-the-sagemaker-python-sdk for more info.\n"
     ]
    },
    {
     "data": {
      "text/plain": [
       "\u001B[2;36m[10/30/24 13:16:00]\u001B[0m\u001B[2;36m \u001B[0m\u001B[1;38;2;0;105;255mINFO    \u001B[0m Creating model with name: model-name-f76fb1fa96fa11efb5372ad633a99cdc  \u001B]8;id=245422;file:///Users/nargokul/workspace/sagemaker-python-sdk-staging/sagemaker-python-sdk-staging/src/sagemaker/session.py\u001B\\\u001B[2msession.py\u001B[0m\u001B]8;;\u001B\\\u001B[2m:\u001B[0m\u001B]8;id=544458;file:///Users/nargokul/workspace/sagemaker-python-sdk-staging/sagemaker-python-sdk-staging/src/sagemaker/session.py#4025\u001B\\\u001B[2m4025\u001B[0m\u001B]8;;\u001B\\\n"
      ],
      "text/html": [
       "<pre style=\"white-space:pre;overflow-x:auto;line-height:normal;font-family:Menlo,'DejaVu Sans Mono',consolas,'Courier New',monospace\"><span style=\"color: #7fbfbf; text-decoration-color: #7fbfbf\">[10/30/24 13:16:00] </span><span style=\"color: #0069ff; text-decoration-color: #0069ff; font-weight: bold\">INFO    </span> Creating model with name: model-name-f76fb1fa96fa11efb5372ad633a99cdc  <a href=\"file:///Users/nargokul/workspace/sagemaker-python-sdk-staging/sagemaker-python-sdk-staging/src/sagemaker/session.py\" target=\"_blank\"><span style=\"color: #7f7f7f; text-decoration-color: #7f7f7f\">session.py</span></a><span style=\"color: #7f7f7f; text-decoration-color: #7f7f7f\">:</span><a href=\"file:///Users/nargokul/workspace/sagemaker-python-sdk-staging/sagemaker-python-sdk-staging/src/sagemaker/session.py#4025\" target=\"_blank\"><span style=\"color: #7f7f7f; text-decoration-color: #7f7f7f\">4025</span></a>\n",
       "</pre>\n"
      ]
     },
     "metadata": {},
     "output_type": "display_data"
    },
    {
     "data": {
      "text/plain": [
       "\u001B[2;36m[10/30/24 13:16:01]\u001B[0m\u001B[2;36m \u001B[0m\u001B[1;38;2;215;175;0mWARNING \u001B[0m Using already existing model:                                          \u001B]8;id=30512;file:///Users/nargokul/workspace/sagemaker-python-sdk-staging/sagemaker-python-sdk-staging/src/sagemaker/session.py\u001B\\\u001B[2msession.py\u001B[0m\u001B]8;;\u001B\\\u001B[2m:\u001B[0m\u001B]8;id=969586;file:///Users/nargokul/workspace/sagemaker-python-sdk-staging/sagemaker-python-sdk-staging/src/sagemaker/session.py#4036\u001B\\\u001B[2m4036\u001B[0m\u001B]8;;\u001B\\\n",
       "\u001B[2;36m                    \u001B[0m         model-name-f76fb1fa96fa11efb5372ad633a99cdc                            \u001B[2m               \u001B[0m\n"
      ],
      "text/html": [
       "<pre style=\"white-space:pre;overflow-x:auto;line-height:normal;font-family:Menlo,'DejaVu Sans Mono',consolas,'Courier New',monospace\"><span style=\"color: #7fbfbf; text-decoration-color: #7fbfbf\">[10/30/24 13:16:01] </span><span style=\"color: #d7af00; text-decoration-color: #d7af00; font-weight: bold\">WARNING </span> Using already existing model:                                          <a href=\"file:///Users/nargokul/workspace/sagemaker-python-sdk-staging/sagemaker-python-sdk-staging/src/sagemaker/session.py\" target=\"_blank\"><span style=\"color: #7f7f7f; text-decoration-color: #7f7f7f\">session.py</span></a><span style=\"color: #7f7f7f; text-decoration-color: #7f7f7f\">:</span><a href=\"file:///Users/nargokul/workspace/sagemaker-python-sdk-staging/sagemaker-python-sdk-staging/src/sagemaker/session.py#4036\" target=\"_blank\"><span style=\"color: #7f7f7f; text-decoration-color: #7f7f7f\">4036</span></a>\n",
       "<span style=\"color: #7fbfbf; text-decoration-color: #7fbfbf\">                    </span>         model-name-f76fb1fa96fa11efb5372ad633a99cdc                            <span style=\"color: #7f7f7f; text-decoration-color: #7f7f7f\">               </span>\n",
       "</pre>\n"
      ]
     },
     "metadata": {},
     "output_type": "display_data"
    },
    {
     "data": {
      "text/plain": [
       "\u001B[2;36m                   \u001B[0m\u001B[2;36m \u001B[0m\u001B[1;38;2;0;105;255mINFO    \u001B[0m Creating endpoint-config with name                                     \u001B]8;id=503479;file:///Users/nargokul/workspace/sagemaker-python-sdk-staging/sagemaker-python-sdk-staging/src/sagemaker/session.py\u001B\\\u001B[2msession.py\u001B[0m\u001B]8;;\u001B\\\u001B[2m:\u001B[0m\u001B]8;id=809762;file:///Users/nargokul/workspace/sagemaker-python-sdk-staging/sagemaker-python-sdk-staging/src/sagemaker/session.py#5817\u001B\\\u001B[2m5817\u001B[0m\u001B]8;;\u001B\\\n",
       "\u001B[2;36m                    \u001B[0m         model-name-f76fb1fa96fa11efb5372ad633a9-\u001B[1;36m2024\u001B[0m-10-30-20-16-01-492        \u001B[2m               \u001B[0m\n"
      ],
      "text/html": [
       "<pre style=\"white-space:pre;overflow-x:auto;line-height:normal;font-family:Menlo,'DejaVu Sans Mono',consolas,'Courier New',monospace\"><span style=\"color: #7fbfbf; text-decoration-color: #7fbfbf\">                    </span><span style=\"color: #0069ff; text-decoration-color: #0069ff; font-weight: bold\">INFO    </span> Creating endpoint-config with name                                     <a href=\"file:///Users/nargokul/workspace/sagemaker-python-sdk-staging/sagemaker-python-sdk-staging/src/sagemaker/session.py\" target=\"_blank\"><span style=\"color: #7f7f7f; text-decoration-color: #7f7f7f\">session.py</span></a><span style=\"color: #7f7f7f; text-decoration-color: #7f7f7f\">:</span><a href=\"file:///Users/nargokul/workspace/sagemaker-python-sdk-staging/sagemaker-python-sdk-staging/src/sagemaker/session.py#5817\" target=\"_blank\"><span style=\"color: #7f7f7f; text-decoration-color: #7f7f7f\">5817</span></a>\n",
       "<span style=\"color: #7fbfbf; text-decoration-color: #7fbfbf\">                    </span>         model-name-f76fb1fa96fa11efb5372ad633a9-<span style=\"color: #008080; text-decoration-color: #008080; font-weight: bold\">2024</span>-10-30-20-16-01-492        <span style=\"color: #7f7f7f; text-decoration-color: #7f7f7f\">               </span>\n",
       "</pre>\n"
      ]
     },
     "metadata": {},
     "output_type": "display_data"
    },
    {
     "data": {
      "text/plain": [
       "\u001B[2;36m[10/30/24 13:16:02]\u001B[0m\u001B[2;36m \u001B[0m\u001B[1;38;2;0;105;255mINFO    \u001B[0m Creating endpoint with name                                            \u001B]8;id=858959;file:///Users/nargokul/workspace/sagemaker-python-sdk-staging/sagemaker-python-sdk-staging/src/sagemaker/session.py\u001B\\\u001B[2msession.py\u001B[0m\u001B]8;;\u001B\\\u001B[2m:\u001B[0m\u001B]8;id=350075;file:///Users/nargokul/workspace/sagemaker-python-sdk-staging/sagemaker-python-sdk-staging/src/sagemaker/session.py#4639\u001B\\\u001B[2m4639\u001B[0m\u001B]8;;\u001B\\\n",
       "\u001B[2;36m                    \u001B[0m         model-name-f76fb1fa96fa11efb5372ad633a9-\u001B[1;36m2024\u001B[0m-10-30-20-16-01-492        \u001B[2m               \u001B[0m\n"
      ],
      "text/html": [
       "<pre style=\"white-space:pre;overflow-x:auto;line-height:normal;font-family:Menlo,'DejaVu Sans Mono',consolas,'Courier New',monospace\"><span style=\"color: #7fbfbf; text-decoration-color: #7fbfbf\">[10/30/24 13:16:02] </span><span style=\"color: #0069ff; text-decoration-color: #0069ff; font-weight: bold\">INFO    </span> Creating endpoint with name                                            <a href=\"file:///Users/nargokul/workspace/sagemaker-python-sdk-staging/sagemaker-python-sdk-staging/src/sagemaker/session.py\" target=\"_blank\"><span style=\"color: #7f7f7f; text-decoration-color: #7f7f7f\">session.py</span></a><span style=\"color: #7f7f7f; text-decoration-color: #7f7f7f\">:</span><a href=\"file:///Users/nargokul/workspace/sagemaker-python-sdk-staging/sagemaker-python-sdk-staging/src/sagemaker/session.py#4639\" target=\"_blank\"><span style=\"color: #7f7f7f; text-decoration-color: #7f7f7f\">4639</span></a>\n",
       "<span style=\"color: #7fbfbf; text-decoration-color: #7fbfbf\">                    </span>         model-name-f76fb1fa96fa11efb5372ad633a9-<span style=\"color: #008080; text-decoration-color: #008080; font-weight: bold\">2024</span>-10-30-20-16-01-492        <span style=\"color: #7f7f7f; text-decoration-color: #7f7f7f\">               </span>\n",
       "</pre>\n"
      ]
     },
     "metadata": {},
     "output_type": "display_data"
    },
    {
     "data": {
      "text/plain": [
       "\u001B[2;36m[10/30/24 13:18:02]\u001B[0m\u001B[2;36m \u001B[0m\u001B[1;38;2;0;105;255mINFO    \u001B[0m Arguments: serve                                                       \u001B]8;id=292965;file:///Users/nargokul/workspace/sagemaker-python-sdk-staging/sagemaker-python-sdk-staging/src/sagemaker/session.py\u001B\\\u001B[2msession.py\u001B[0m\u001B]8;;\u001B\\\u001B[2m:\u001B[0m\u001B]8;id=22365;file:///Users/nargokul/workspace/sagemaker-python-sdk-staging/sagemaker-python-sdk-staging/src/sagemaker/session.py#8308\u001B\\\u001B[2m8308\u001B[0m\u001B]8;;\u001B\\\n"
      ],
      "text/html": [
       "<pre style=\"white-space:pre;overflow-x:auto;line-height:normal;font-family:Menlo,'DejaVu Sans Mono',consolas,'Courier New',monospace\"><span style=\"color: #7fbfbf; text-decoration-color: #7fbfbf\">[10/30/24 13:18:02] </span><span style=\"color: #0069ff; text-decoration-color: #0069ff; font-weight: bold\">INFO    </span> Arguments: serve                                                       <a href=\"file:///Users/nargokul/workspace/sagemaker-python-sdk-staging/sagemaker-python-sdk-staging/src/sagemaker/session.py\" target=\"_blank\"><span style=\"color: #7f7f7f; text-decoration-color: #7f7f7f\">session.py</span></a><span style=\"color: #7f7f7f; text-decoration-color: #7f7f7f\">:</span><a href=\"file:///Users/nargokul/workspace/sagemaker-python-sdk-staging/sagemaker-python-sdk-staging/src/sagemaker/session.py#8308\" target=\"_blank\"><span style=\"color: #7f7f7f; text-decoration-color: #7f7f7f\">8308</span></a>\n",
       "</pre>\n"
      ]
     },
     "metadata": {},
     "output_type": "display_data"
    },
    {
     "data": {
      "text/plain": [
       "\u001B[2;36m                   \u001B[0m\u001B[2;36m \u001B[0m\u001B[1;38;2;0;105;255mINFO    \u001B[0m \u001B[1m[\u001B[0m\u001B[1;36m2024\u001B[0m-\u001B[1;36m10\u001B[0m-\u001B[1;36m30\u001B[0m 20:17:57 +\u001B[1;36m0000\u001B[0m\u001B[1m]\u001B[0m \u001B[1m[\u001B[0m\u001B[1;36m15\u001B[0m\u001B[1m]\u001B[0m \u001B[1m[\u001B[0mINFO\u001B[1m]\u001B[0m Starting gunicorn \u001B[1;36m19.9\u001B[0m.\u001B[1;36m0\u001B[0m       \u001B]8;id=58566;file:///Users/nargokul/workspace/sagemaker-python-sdk-staging/sagemaker-python-sdk-staging/src/sagemaker/session.py\u001B\\\u001B[2msession.py\u001B[0m\u001B]8;;\u001B\\\u001B[2m:\u001B[0m\u001B]8;id=799327;file:///Users/nargokul/workspace/sagemaker-python-sdk-staging/sagemaker-python-sdk-staging/src/sagemaker/session.py#8308\u001B\\\u001B[2m8308\u001B[0m\u001B]8;;\u001B\\\n"
      ],
      "text/html": [
       "<pre style=\"white-space:pre;overflow-x:auto;line-height:normal;font-family:Menlo,'DejaVu Sans Mono',consolas,'Courier New',monospace\"><span style=\"color: #7fbfbf; text-decoration-color: #7fbfbf\">                    </span><span style=\"color: #0069ff; text-decoration-color: #0069ff; font-weight: bold\">INFO    </span> <span style=\"font-weight: bold\">[</span><span style=\"color: #008080; text-decoration-color: #008080; font-weight: bold\">2024</span>-<span style=\"color: #008080; text-decoration-color: #008080; font-weight: bold\">10</span>-<span style=\"color: #008080; text-decoration-color: #008080; font-weight: bold\">30</span> 20:17:57 +<span style=\"color: #008080; text-decoration-color: #008080; font-weight: bold\">0000</span><span style=\"font-weight: bold\">]</span> <span style=\"font-weight: bold\">[</span><span style=\"color: #008080; text-decoration-color: #008080; font-weight: bold\">15</span><span style=\"font-weight: bold\">]</span> <span style=\"font-weight: bold\">[</span>INFO<span style=\"font-weight: bold\">]</span> Starting gunicorn <span style=\"color: #008080; text-decoration-color: #008080; font-weight: bold\">19.9</span>.<span style=\"color: #008080; text-decoration-color: #008080; font-weight: bold\">0</span>       <a href=\"file:///Users/nargokul/workspace/sagemaker-python-sdk-staging/sagemaker-python-sdk-staging/src/sagemaker/session.py\" target=\"_blank\"><span style=\"color: #7f7f7f; text-decoration-color: #7f7f7f\">session.py</span></a><span style=\"color: #7f7f7f; text-decoration-color: #7f7f7f\">:</span><a href=\"file:///Users/nargokul/workspace/sagemaker-python-sdk-staging/sagemaker-python-sdk-staging/src/sagemaker/session.py#8308\" target=\"_blank\"><span style=\"color: #7f7f7f; text-decoration-color: #7f7f7f\">8308</span></a>\n",
       "</pre>\n"
      ]
     },
     "metadata": {},
     "output_type": "display_data"
    },
    {
     "data": {
      "text/plain": [
       "\u001B[2;36m                   \u001B[0m\u001B[2;36m \u001B[0m\u001B[1;38;2;0;105;255mINFO    \u001B[0m \u001B[1m[\u001B[0m\u001B[1;36m2024\u001B[0m-\u001B[1;36m10\u001B[0m-\u001B[1;36m30\u001B[0m 20:17:57 +\u001B[1;36m0000\u001B[0m\u001B[1m]\u001B[0m \u001B[1m[\u001B[0m\u001B[1;36m15\u001B[0m\u001B[1m]\u001B[0m \u001B[1m[\u001B[0mINFO\u001B[1m]\u001B[0m Listening at:                  \u001B]8;id=648010;file:///Users/nargokul/workspace/sagemaker-python-sdk-staging/sagemaker-python-sdk-staging/src/sagemaker/session.py\u001B\\\u001B[2msession.py\u001B[0m\u001B]8;;\u001B\\\u001B[2m:\u001B[0m\u001B]8;id=18217;file:///Users/nargokul/workspace/sagemaker-python-sdk-staging/sagemaker-python-sdk-staging/src/sagemaker/session.py#8308\u001B\\\u001B[2m8308\u001B[0m\u001B]8;;\u001B\\\n",
       "\u001B[2;36m                    \u001B[0m         \u001B[4;38;2;0;105;255mhttp://0.0.0.0:8080\u001B[0m \u001B[1m(\u001B[0m\u001B[1;36m15\u001B[0m\u001B[1m)\u001B[0m                                               \u001B[2m               \u001B[0m\n"
      ],
      "text/html": [
       "<pre style=\"white-space:pre;overflow-x:auto;line-height:normal;font-family:Menlo,'DejaVu Sans Mono',consolas,'Courier New',monospace\"><span style=\"color: #7fbfbf; text-decoration-color: #7fbfbf\">                    </span><span style=\"color: #0069ff; text-decoration-color: #0069ff; font-weight: bold\">INFO    </span> <span style=\"font-weight: bold\">[</span><span style=\"color: #008080; text-decoration-color: #008080; font-weight: bold\">2024</span>-<span style=\"color: #008080; text-decoration-color: #008080; font-weight: bold\">10</span>-<span style=\"color: #008080; text-decoration-color: #008080; font-weight: bold\">30</span> 20:17:57 +<span style=\"color: #008080; text-decoration-color: #008080; font-weight: bold\">0000</span><span style=\"font-weight: bold\">]</span> <span style=\"font-weight: bold\">[</span><span style=\"color: #008080; text-decoration-color: #008080; font-weight: bold\">15</span><span style=\"font-weight: bold\">]</span> <span style=\"font-weight: bold\">[</span>INFO<span style=\"font-weight: bold\">]</span> Listening at:                  <a href=\"file:///Users/nargokul/workspace/sagemaker-python-sdk-staging/sagemaker-python-sdk-staging/src/sagemaker/session.py\" target=\"_blank\"><span style=\"color: #7f7f7f; text-decoration-color: #7f7f7f\">session.py</span></a><span style=\"color: #7f7f7f; text-decoration-color: #7f7f7f\">:</span><a href=\"file:///Users/nargokul/workspace/sagemaker-python-sdk-staging/sagemaker-python-sdk-staging/src/sagemaker/session.py#8308\" target=\"_blank\"><span style=\"color: #7f7f7f; text-decoration-color: #7f7f7f\">8308</span></a>\n",
       "<span style=\"color: #7fbfbf; text-decoration-color: #7fbfbf\">                    </span>         <span style=\"color: #0069ff; text-decoration-color: #0069ff; text-decoration: underline\">http://0.0.0.0:8080</span> <span style=\"font-weight: bold\">(</span><span style=\"color: #008080; text-decoration-color: #008080; font-weight: bold\">15</span><span style=\"font-weight: bold\">)</span>                                               <span style=\"color: #7f7f7f; text-decoration-color: #7f7f7f\">               </span>\n",
       "</pre>\n"
      ]
     },
     "metadata": {},
     "output_type": "display_data"
    },
    {
     "data": {
      "text/plain": [
       "\u001B[2;36m[10/30/24 13:18:03]\u001B[0m\u001B[2;36m \u001B[0m\u001B[1;38;2;0;105;255mINFO    \u001B[0m \u001B[1m[\u001B[0m\u001B[1;36m2024\u001B[0m-\u001B[1;36m10\u001B[0m-\u001B[1;36m30\u001B[0m 20:17:57 +\u001B[1;36m0000\u001B[0m\u001B[1m]\u001B[0m \u001B[1m[\u001B[0m\u001B[1;36m15\u001B[0m\u001B[1m]\u001B[0m \u001B[1m[\u001B[0mINFO\u001B[1m]\u001B[0m Using worker: gevent           \u001B]8;id=479134;file:///Users/nargokul/workspace/sagemaker-python-sdk-staging/sagemaker-python-sdk-staging/src/sagemaker/session.py\u001B\\\u001B[2msession.py\u001B[0m\u001B]8;;\u001B\\\u001B[2m:\u001B[0m\u001B]8;id=856148;file:///Users/nargokul/workspace/sagemaker-python-sdk-staging/sagemaker-python-sdk-staging/src/sagemaker/session.py#8308\u001B\\\u001B[2m8308\u001B[0m\u001B]8;;\u001B\\\n"
      ],
      "text/html": [
       "<pre style=\"white-space:pre;overflow-x:auto;line-height:normal;font-family:Menlo,'DejaVu Sans Mono',consolas,'Courier New',monospace\"><span style=\"color: #7fbfbf; text-decoration-color: #7fbfbf\">[10/30/24 13:18:03] </span><span style=\"color: #0069ff; text-decoration-color: #0069ff; font-weight: bold\">INFO    </span> <span style=\"font-weight: bold\">[</span><span style=\"color: #008080; text-decoration-color: #008080; font-weight: bold\">2024</span>-<span style=\"color: #008080; text-decoration-color: #008080; font-weight: bold\">10</span>-<span style=\"color: #008080; text-decoration-color: #008080; font-weight: bold\">30</span> 20:17:57 +<span style=\"color: #008080; text-decoration-color: #008080; font-weight: bold\">0000</span><span style=\"font-weight: bold\">]</span> <span style=\"font-weight: bold\">[</span><span style=\"color: #008080; text-decoration-color: #008080; font-weight: bold\">15</span><span style=\"font-weight: bold\">]</span> <span style=\"font-weight: bold\">[</span>INFO<span style=\"font-weight: bold\">]</span> Using worker: gevent           <a href=\"file:///Users/nargokul/workspace/sagemaker-python-sdk-staging/sagemaker-python-sdk-staging/src/sagemaker/session.py\" target=\"_blank\"><span style=\"color: #7f7f7f; text-decoration-color: #7f7f7f\">session.py</span></a><span style=\"color: #7f7f7f; text-decoration-color: #7f7f7f\">:</span><a href=\"file:///Users/nargokul/workspace/sagemaker-python-sdk-staging/sagemaker-python-sdk-staging/src/sagemaker/session.py#8308\" target=\"_blank\"><span style=\"color: #7f7f7f; text-decoration-color: #7f7f7f\">8308</span></a>\n",
       "</pre>\n"
      ]
     },
     "metadata": {},
     "output_type": "display_data"
    },
    {
     "data": {
      "text/plain": [
       "\u001B[2;36m                   \u001B[0m\u001B[2;36m \u001B[0m\u001B[1;38;2;0;105;255mINFO    \u001B[0m \u001B[1m[\u001B[0m\u001B[1;36m2024\u001B[0m-\u001B[1;36m10\u001B[0m-\u001B[1;36m30\u001B[0m 20:17:57 +\u001B[1;36m0000\u001B[0m\u001B[1m]\u001B[0m \u001B[1m[\u001B[0m\u001B[1;36m30\u001B[0m\u001B[1m]\u001B[0m \u001B[1m[\u001B[0mINFO\u001B[1m]\u001B[0m Booting worker with pid: \u001B[1;36m30\u001B[0m    \u001B]8;id=961257;file:///Users/nargokul/workspace/sagemaker-python-sdk-staging/sagemaker-python-sdk-staging/src/sagemaker/session.py\u001B\\\u001B[2msession.py\u001B[0m\u001B]8;;\u001B\\\u001B[2m:\u001B[0m\u001B]8;id=479478;file:///Users/nargokul/workspace/sagemaker-python-sdk-staging/sagemaker-python-sdk-staging/src/sagemaker/session.py#8308\u001B\\\u001B[2m8308\u001B[0m\u001B]8;;\u001B\\\n"
      ],
      "text/html": [
       "<pre style=\"white-space:pre;overflow-x:auto;line-height:normal;font-family:Menlo,'DejaVu Sans Mono',consolas,'Courier New',monospace\"><span style=\"color: #7fbfbf; text-decoration-color: #7fbfbf\">                    </span><span style=\"color: #0069ff; text-decoration-color: #0069ff; font-weight: bold\">INFO    </span> <span style=\"font-weight: bold\">[</span><span style=\"color: #008080; text-decoration-color: #008080; font-weight: bold\">2024</span>-<span style=\"color: #008080; text-decoration-color: #008080; font-weight: bold\">10</span>-<span style=\"color: #008080; text-decoration-color: #008080; font-weight: bold\">30</span> 20:17:57 +<span style=\"color: #008080; text-decoration-color: #008080; font-weight: bold\">0000</span><span style=\"font-weight: bold\">]</span> <span style=\"font-weight: bold\">[</span><span style=\"color: #008080; text-decoration-color: #008080; font-weight: bold\">30</span><span style=\"font-weight: bold\">]</span> <span style=\"font-weight: bold\">[</span>INFO<span style=\"font-weight: bold\">]</span> Booting worker with pid: <span style=\"color: #008080; text-decoration-color: #008080; font-weight: bold\">30</span>    <a href=\"file:///Users/nargokul/workspace/sagemaker-python-sdk-staging/sagemaker-python-sdk-staging/src/sagemaker/session.py\" target=\"_blank\"><span style=\"color: #7f7f7f; text-decoration-color: #7f7f7f\">session.py</span></a><span style=\"color: #7f7f7f; text-decoration-color: #7f7f7f\">:</span><a href=\"file:///Users/nargokul/workspace/sagemaker-python-sdk-staging/sagemaker-python-sdk-staging/src/sagemaker/session.py#8308\" target=\"_blank\"><span style=\"color: #7f7f7f; text-decoration-color: #7f7f7f\">8308</span></a>\n",
       "</pre>\n"
      ]
     },
     "metadata": {},
     "output_type": "display_data"
    },
    {
     "data": {
      "text/plain": [
       "\u001B[2;36m                   \u001B[0m\u001B[2;36m \u001B[0m\u001B[1;38;2;0;105;255mINFO    \u001B[0m \u001B[1m[\u001B[0m\u001B[1;36m2024\u001B[0m-\u001B[1;36m10\u001B[0m-\u001B[1;36m30\u001B[0m 20:17:57 +\u001B[1;36m0000\u001B[0m\u001B[1m]\u001B[0m \u001B[1m[\u001B[0m\u001B[1;36m31\u001B[0m\u001B[1m]\u001B[0m \u001B[1m[\u001B[0mINFO\u001B[1m]\u001B[0m Booting worker with pid: \u001B[1;36m31\u001B[0m    \u001B]8;id=445721;file:///Users/nargokul/workspace/sagemaker-python-sdk-staging/sagemaker-python-sdk-staging/src/sagemaker/session.py\u001B\\\u001B[2msession.py\u001B[0m\u001B]8;;\u001B\\\u001B[2m:\u001B[0m\u001B]8;id=120162;file:///Users/nargokul/workspace/sagemaker-python-sdk-staging/sagemaker-python-sdk-staging/src/sagemaker/session.py#8308\u001B\\\u001B[2m8308\u001B[0m\u001B]8;;\u001B\\\n"
      ],
      "text/html": [
       "<pre style=\"white-space:pre;overflow-x:auto;line-height:normal;font-family:Menlo,'DejaVu Sans Mono',consolas,'Courier New',monospace\"><span style=\"color: #7fbfbf; text-decoration-color: #7fbfbf\">                    </span><span style=\"color: #0069ff; text-decoration-color: #0069ff; font-weight: bold\">INFO    </span> <span style=\"font-weight: bold\">[</span><span style=\"color: #008080; text-decoration-color: #008080; font-weight: bold\">2024</span>-<span style=\"color: #008080; text-decoration-color: #008080; font-weight: bold\">10</span>-<span style=\"color: #008080; text-decoration-color: #008080; font-weight: bold\">30</span> 20:17:57 +<span style=\"color: #008080; text-decoration-color: #008080; font-weight: bold\">0000</span><span style=\"font-weight: bold\">]</span> <span style=\"font-weight: bold\">[</span><span style=\"color: #008080; text-decoration-color: #008080; font-weight: bold\">31</span><span style=\"font-weight: bold\">]</span> <span style=\"font-weight: bold\">[</span>INFO<span style=\"font-weight: bold\">]</span> Booting worker with pid: <span style=\"color: #008080; text-decoration-color: #008080; font-weight: bold\">31</span>    <a href=\"file:///Users/nargokul/workspace/sagemaker-python-sdk-staging/sagemaker-python-sdk-staging/src/sagemaker/session.py\" target=\"_blank\"><span style=\"color: #7f7f7f; text-decoration-color: #7f7f7f\">session.py</span></a><span style=\"color: #7f7f7f; text-decoration-color: #7f7f7f\">:</span><a href=\"file:///Users/nargokul/workspace/sagemaker-python-sdk-staging/sagemaker-python-sdk-staging/src/sagemaker/session.py#8308\" target=\"_blank\"><span style=\"color: #7f7f7f; text-decoration-color: #7f7f7f\">8308</span></a>\n",
       "</pre>\n"
      ]
     },
     "metadata": {},
     "output_type": "display_data"
    },
    {
     "data": {
      "text/plain": [
       "\u001B[2;36m                   \u001B[0m\u001B[2;36m \u001B[0m\u001B[1;38;2;0;105;255mINFO    \u001B[0m \u001B[38;2;225;0;225m/opt/amazon/lib/python3.7/site-packages/gunicorn/workers/\u001B[0m\u001B[38;2;225;0;225mggevent.py\u001B[0m:\u001B[1;36m65\u001B[0m \u001B]8;id=119512;file:///Users/nargokul/workspace/sagemaker-python-sdk-staging/sagemaker-python-sdk-staging/src/sagemaker/session.py\u001B\\\u001B[2msession.py\u001B[0m\u001B]8;;\u001B\\\u001B[2m:\u001B[0m\u001B]8;id=771628;file:///Users/nargokul/workspace/sagemaker-python-sdk-staging/sagemaker-python-sdk-staging/src/sagemaker/session.py#8308\u001B\\\u001B[2m8308\u001B[0m\u001B]8;;\u001B\\\n",
       "\u001B[2;36m                    \u001B[0m         : MonkeyPatchWarning: Monkey-patching ssl after ssl has already been   \u001B[2m               \u001B[0m\n",
       "\u001B[2;36m                    \u001B[0m         imported may lead to errors, including RecursionError on Python \u001B[1;36m3.6\u001B[0m.   \u001B[2m               \u001B[0m\n",
       "\u001B[2;36m                    \u001B[0m         It may also silently lead to incorrect behaviour on Python \u001B[1;36m3.7\u001B[0m. Please \u001B[2m               \u001B[0m\n",
       "\u001B[2;36m                    \u001B[0m         monkey-patch earlier. See                                              \u001B[2m               \u001B[0m\n",
       "\u001B[2;36m                    \u001B[0m         \u001B[4;38;2;0;105;255mhttps://github.com/gevent/gevent/issues/1016.\u001B[0m Modules that had direct  \u001B[2m               \u001B[0m\n",
       "\u001B[2;36m                    \u001B[0m         imports \u001B[1m(\u001B[0mNOT patched\u001B[1m)\u001B[0m: \u001B[1m[\u001B[0m\u001B[38;2;0;135;0m'urllib3.util \u001B[0m                                 \u001B[2m               \u001B[0m\n",
       "\u001B[2;36m                    \u001B[0m         \u001B[1;38;2;0;135;0m(\u001B[0m\u001B[38;2;0;135;0m/opt/amazon/lib/python3.7/site-packages/urllib3/util/__init__.py\u001B[0m\u001B[1;38;2;0;135;0m)\u001B[0m\u001B[38;2;0;135;0m'\u001B[0m,   \u001B[2m               \u001B[0m\n",
       "\u001B[2;36m                    \u001B[0m         \u001B[38;2;0;135;0m'urllib3.util.ssl_ \u001B[0m                                                    \u001B[2m               \u001B[0m\n",
       "\u001B[2;36m                    \u001B[0m         \u001B[1;38;2;0;135;0m(\u001B[0m\u001B[38;2;0;135;0m/opt/amazon/lib/python3.7/site-packages/urllib3/util/ssl_.py\u001B[0m\u001B[1;38;2;0;135;0m)\u001B[0m\u001B[38;2;0;135;0m'\u001B[0m\u001B[1m]\u001B[0m.      \u001B[2m               \u001B[0m\n"
      ],
      "text/html": [
       "<pre style=\"white-space:pre;overflow-x:auto;line-height:normal;font-family:Menlo,'DejaVu Sans Mono',consolas,'Courier New',monospace\"><span style=\"color: #7fbfbf; text-decoration-color: #7fbfbf\">                    </span><span style=\"color: #0069ff; text-decoration-color: #0069ff; font-weight: bold\">INFO    </span> <span style=\"color: #e100e1; text-decoration-color: #e100e1\">/opt/amazon/lib/python3.7/site-packages/gunicorn/workers/ggevent.py</span>:<span style=\"color: #008080; text-decoration-color: #008080; font-weight: bold\">65</span> <a href=\"file:///Users/nargokul/workspace/sagemaker-python-sdk-staging/sagemaker-python-sdk-staging/src/sagemaker/session.py\" target=\"_blank\"><span style=\"color: #7f7f7f; text-decoration-color: #7f7f7f\">session.py</span></a><span style=\"color: #7f7f7f; text-decoration-color: #7f7f7f\">:</span><a href=\"file:///Users/nargokul/workspace/sagemaker-python-sdk-staging/sagemaker-python-sdk-staging/src/sagemaker/session.py#8308\" target=\"_blank\"><span style=\"color: #7f7f7f; text-decoration-color: #7f7f7f\">8308</span></a>\n",
       "<span style=\"color: #7fbfbf; text-decoration-color: #7fbfbf\">                    </span>         : MonkeyPatchWarning: Monkey-patching ssl after ssl has already been   <span style=\"color: #7f7f7f; text-decoration-color: #7f7f7f\">               </span>\n",
       "<span style=\"color: #7fbfbf; text-decoration-color: #7fbfbf\">                    </span>         imported may lead to errors, including RecursionError on Python <span style=\"color: #008080; text-decoration-color: #008080; font-weight: bold\">3.6</span>.   <span style=\"color: #7f7f7f; text-decoration-color: #7f7f7f\">               </span>\n",
       "<span style=\"color: #7fbfbf; text-decoration-color: #7fbfbf\">                    </span>         It may also silently lead to incorrect behaviour on Python <span style=\"color: #008080; text-decoration-color: #008080; font-weight: bold\">3.7</span>. Please <span style=\"color: #7f7f7f; text-decoration-color: #7f7f7f\">               </span>\n",
       "<span style=\"color: #7fbfbf; text-decoration-color: #7fbfbf\">                    </span>         monkey-patch earlier. See                                              <span style=\"color: #7f7f7f; text-decoration-color: #7f7f7f\">               </span>\n",
       "<span style=\"color: #7fbfbf; text-decoration-color: #7fbfbf\">                    </span>         <span style=\"color: #0069ff; text-decoration-color: #0069ff; text-decoration: underline\">https://github.com/gevent/gevent/issues/1016.</span> Modules that had direct  <span style=\"color: #7f7f7f; text-decoration-color: #7f7f7f\">               </span>\n",
       "<span style=\"color: #7fbfbf; text-decoration-color: #7fbfbf\">                    </span>         imports <span style=\"font-weight: bold\">(</span>NOT patched<span style=\"font-weight: bold\">)</span>: <span style=\"font-weight: bold\">[</span><span style=\"color: #008700; text-decoration-color: #008700\">'urllib3.util </span>                                 <span style=\"color: #7f7f7f; text-decoration-color: #7f7f7f\">               </span>\n",
       "<span style=\"color: #7fbfbf; text-decoration-color: #7fbfbf\">                    </span>         <span style=\"color: #008700; text-decoration-color: #008700; font-weight: bold\">(</span><span style=\"color: #008700; text-decoration-color: #008700\">/opt/amazon/lib/python3.7/site-packages/urllib3/util/__init__.py</span><span style=\"color: #008700; text-decoration-color: #008700; font-weight: bold\">)</span><span style=\"color: #008700; text-decoration-color: #008700\">'</span>,   <span style=\"color: #7f7f7f; text-decoration-color: #7f7f7f\">               </span>\n",
       "<span style=\"color: #7fbfbf; text-decoration-color: #7fbfbf\">                    </span>         <span style=\"color: #008700; text-decoration-color: #008700\">'urllib3.util.ssl_ </span>                                                    <span style=\"color: #7f7f7f; text-decoration-color: #7f7f7f\">               </span>\n",
       "<span style=\"color: #7fbfbf; text-decoration-color: #7fbfbf\">                    </span>         <span style=\"color: #008700; text-decoration-color: #008700; font-weight: bold\">(</span><span style=\"color: #008700; text-decoration-color: #008700\">/opt/amazon/lib/python3.7/site-packages/urllib3/util/ssl_.py</span><span style=\"color: #008700; text-decoration-color: #008700; font-weight: bold\">)</span><span style=\"color: #008700; text-decoration-color: #008700\">'</span><span style=\"font-weight: bold\">]</span>.      <span style=\"color: #7f7f7f; text-decoration-color: #7f7f7f\">               </span>\n",
       "</pre>\n"
      ]
     },
     "metadata": {},
     "output_type": "display_data"
    },
    {
     "data": {
      "text/plain": [
       "\u001B[2;36m                   \u001B[0m\u001B[2;36m \u001B[0m\u001B[1;38;2;0;105;255mINFO    \u001B[0m   \u001B[1;38;2;225;0;225mmonkey.patch_all\u001B[0m\u001B[1m(\u001B[0m\u001B[38;2;215;175;0msubprocess\u001B[0m=\u001B[3;38;2;0;135;0mTrue\u001B[0m\u001B[1m)\u001B[0m                                    \u001B]8;id=188951;file:///Users/nargokul/workspace/sagemaker-python-sdk-staging/sagemaker-python-sdk-staging/src/sagemaker/session.py\u001B\\\u001B[2msession.py\u001B[0m\u001B]8;;\u001B\\\u001B[2m:\u001B[0m\u001B]8;id=466698;file:///Users/nargokul/workspace/sagemaker-python-sdk-staging/sagemaker-python-sdk-staging/src/sagemaker/session.py#8308\u001B\\\u001B[2m8308\u001B[0m\u001B]8;;\u001B\\\n"
      ],
      "text/html": [
       "<pre style=\"white-space:pre;overflow-x:auto;line-height:normal;font-family:Menlo,'DejaVu Sans Mono',consolas,'Courier New',monospace\"><span style=\"color: #7fbfbf; text-decoration-color: #7fbfbf\">                    </span><span style=\"color: #0069ff; text-decoration-color: #0069ff; font-weight: bold\">INFO    </span>   <span style=\"color: #e100e1; text-decoration-color: #e100e1; font-weight: bold\">monkey.patch_all</span><span style=\"font-weight: bold\">(</span><span style=\"color: #d7af00; text-decoration-color: #d7af00\">subprocess</span>=<span style=\"color: #008700; text-decoration-color: #008700; font-style: italic\">True</span><span style=\"font-weight: bold\">)</span>                                    <a href=\"file:///Users/nargokul/workspace/sagemaker-python-sdk-staging/sagemaker-python-sdk-staging/src/sagemaker/session.py\" target=\"_blank\"><span style=\"color: #7f7f7f; text-decoration-color: #7f7f7f\">session.py</span></a><span style=\"color: #7f7f7f; text-decoration-color: #7f7f7f\">:</span><a href=\"file:///Users/nargokul/workspace/sagemaker-python-sdk-staging/sagemaker-python-sdk-staging/src/sagemaker/session.py#8308\" target=\"_blank\"><span style=\"color: #7f7f7f; text-decoration-color: #7f7f7f\">8308</span></a>\n",
       "</pre>\n"
      ]
     },
     "metadata": {},
     "output_type": "display_data"
    },
    {
     "data": {
      "text/plain": [
       "\u001B[2;36m                   \u001B[0m\u001B[2;36m \u001B[0m\u001B[1;38;2;0;105;255mINFO    \u001B[0m \u001B[38;2;225;0;225m/opt/amazon/lib/python3.7/site-packages/gunicorn/workers/\u001B[0m\u001B[38;2;225;0;225mggevent.py\u001B[0m:\u001B[1;36m65\u001B[0m \u001B]8;id=461440;file:///Users/nargokul/workspace/sagemaker-python-sdk-staging/sagemaker-python-sdk-staging/src/sagemaker/session.py\u001B\\\u001B[2msession.py\u001B[0m\u001B]8;;\u001B\\\u001B[2m:\u001B[0m\u001B]8;id=156860;file:///Users/nargokul/workspace/sagemaker-python-sdk-staging/sagemaker-python-sdk-staging/src/sagemaker/session.py#8308\u001B\\\u001B[2m8308\u001B[0m\u001B]8;;\u001B\\\n",
       "\u001B[2;36m                    \u001B[0m         : MonkeyPatchWarning: Monkey-patching ssl after ssl has already been   \u001B[2m               \u001B[0m\n",
       "\u001B[2;36m                    \u001B[0m         imported may lead to errors, including RecursionError on Python \u001B[1;36m3.6\u001B[0m.   \u001B[2m               \u001B[0m\n",
       "\u001B[2;36m                    \u001B[0m         It may also silently lead to incorrect behaviour on Python \u001B[1;36m3.7\u001B[0m. Please \u001B[2m               \u001B[0m\n",
       "\u001B[2;36m                    \u001B[0m         monkey-patch earlier. See                                              \u001B[2m               \u001B[0m\n",
       "\u001B[2;36m                    \u001B[0m         \u001B[4;38;2;0;105;255mhttps://github.com/gevent/gevent/issues/1016.\u001B[0m Modules that had direct  \u001B[2m               \u001B[0m\n",
       "\u001B[2;36m                    \u001B[0m         imports \u001B[1m(\u001B[0mNOT patched\u001B[1m)\u001B[0m: \u001B[1m[\u001B[0m\u001B[38;2;0;135;0m'urllib3.util \u001B[0m                                 \u001B[2m               \u001B[0m\n",
       "\u001B[2;36m                    \u001B[0m         \u001B[1;38;2;0;135;0m(\u001B[0m\u001B[38;2;0;135;0m/opt/amazon/lib/python3.7/site-packages/urllib3/util/__init__.py\u001B[0m\u001B[1;38;2;0;135;0m)\u001B[0m\u001B[38;2;0;135;0m'\u001B[0m,   \u001B[2m               \u001B[0m\n",
       "\u001B[2;36m                    \u001B[0m         \u001B[38;2;0;135;0m'urllib3.util.ssl_ \u001B[0m                                                    \u001B[2m               \u001B[0m\n",
       "\u001B[2;36m                    \u001B[0m         \u001B[1;38;2;0;135;0m(\u001B[0m\u001B[38;2;0;135;0m/opt/amazon/lib/python3.7/site-packages/urllib3/util/ssl_.py\u001B[0m\u001B[1;38;2;0;135;0m)\u001B[0m\u001B[38;2;0;135;0m'\u001B[0m\u001B[1m]\u001B[0m.      \u001B[2m               \u001B[0m\n"
      ],
      "text/html": [
       "<pre style=\"white-space:pre;overflow-x:auto;line-height:normal;font-family:Menlo,'DejaVu Sans Mono',consolas,'Courier New',monospace\"><span style=\"color: #7fbfbf; text-decoration-color: #7fbfbf\">                    </span><span style=\"color: #0069ff; text-decoration-color: #0069ff; font-weight: bold\">INFO    </span> <span style=\"color: #e100e1; text-decoration-color: #e100e1\">/opt/amazon/lib/python3.7/site-packages/gunicorn/workers/ggevent.py</span>:<span style=\"color: #008080; text-decoration-color: #008080; font-weight: bold\">65</span> <a href=\"file:///Users/nargokul/workspace/sagemaker-python-sdk-staging/sagemaker-python-sdk-staging/src/sagemaker/session.py\" target=\"_blank\"><span style=\"color: #7f7f7f; text-decoration-color: #7f7f7f\">session.py</span></a><span style=\"color: #7f7f7f; text-decoration-color: #7f7f7f\">:</span><a href=\"file:///Users/nargokul/workspace/sagemaker-python-sdk-staging/sagemaker-python-sdk-staging/src/sagemaker/session.py#8308\" target=\"_blank\"><span style=\"color: #7f7f7f; text-decoration-color: #7f7f7f\">8308</span></a>\n",
       "<span style=\"color: #7fbfbf; text-decoration-color: #7fbfbf\">                    </span>         : MonkeyPatchWarning: Monkey-patching ssl after ssl has already been   <span style=\"color: #7f7f7f; text-decoration-color: #7f7f7f\">               </span>\n",
       "<span style=\"color: #7fbfbf; text-decoration-color: #7fbfbf\">                    </span>         imported may lead to errors, including RecursionError on Python <span style=\"color: #008080; text-decoration-color: #008080; font-weight: bold\">3.6</span>.   <span style=\"color: #7f7f7f; text-decoration-color: #7f7f7f\">               </span>\n",
       "<span style=\"color: #7fbfbf; text-decoration-color: #7fbfbf\">                    </span>         It may also silently lead to incorrect behaviour on Python <span style=\"color: #008080; text-decoration-color: #008080; font-weight: bold\">3.7</span>. Please <span style=\"color: #7f7f7f; text-decoration-color: #7f7f7f\">               </span>\n",
       "<span style=\"color: #7fbfbf; text-decoration-color: #7fbfbf\">                    </span>         monkey-patch earlier. See                                              <span style=\"color: #7f7f7f; text-decoration-color: #7f7f7f\">               </span>\n",
       "<span style=\"color: #7fbfbf; text-decoration-color: #7fbfbf\">                    </span>         <span style=\"color: #0069ff; text-decoration-color: #0069ff; text-decoration: underline\">https://github.com/gevent/gevent/issues/1016.</span> Modules that had direct  <span style=\"color: #7f7f7f; text-decoration-color: #7f7f7f\">               </span>\n",
       "<span style=\"color: #7fbfbf; text-decoration-color: #7fbfbf\">                    </span>         imports <span style=\"font-weight: bold\">(</span>NOT patched<span style=\"font-weight: bold\">)</span>: <span style=\"font-weight: bold\">[</span><span style=\"color: #008700; text-decoration-color: #008700\">'urllib3.util </span>                                 <span style=\"color: #7f7f7f; text-decoration-color: #7f7f7f\">               </span>\n",
       "<span style=\"color: #7fbfbf; text-decoration-color: #7fbfbf\">                    </span>         <span style=\"color: #008700; text-decoration-color: #008700; font-weight: bold\">(</span><span style=\"color: #008700; text-decoration-color: #008700\">/opt/amazon/lib/python3.7/site-packages/urllib3/util/__init__.py</span><span style=\"color: #008700; text-decoration-color: #008700; font-weight: bold\">)</span><span style=\"color: #008700; text-decoration-color: #008700\">'</span>,   <span style=\"color: #7f7f7f; text-decoration-color: #7f7f7f\">               </span>\n",
       "<span style=\"color: #7fbfbf; text-decoration-color: #7fbfbf\">                    </span>         <span style=\"color: #008700; text-decoration-color: #008700\">'urllib3.util.ssl_ </span>                                                    <span style=\"color: #7f7f7f; text-decoration-color: #7f7f7f\">               </span>\n",
       "<span style=\"color: #7fbfbf; text-decoration-color: #7fbfbf\">                    </span>         <span style=\"color: #008700; text-decoration-color: #008700; font-weight: bold\">(</span><span style=\"color: #008700; text-decoration-color: #008700\">/opt/amazon/lib/python3.7/site-packages/urllib3/util/ssl_.py</span><span style=\"color: #008700; text-decoration-color: #008700; font-weight: bold\">)</span><span style=\"color: #008700; text-decoration-color: #008700\">'</span><span style=\"font-weight: bold\">]</span>.      <span style=\"color: #7f7f7f; text-decoration-color: #7f7f7f\">               </span>\n",
       "</pre>\n"
      ]
     },
     "metadata": {},
     "output_type": "display_data"
    },
    {
     "data": {
      "text/plain": [
       "\u001B[2;36m                   \u001B[0m\u001B[2;36m \u001B[0m\u001B[1;38;2;0;105;255mINFO    \u001B[0m   \u001B[1;38;2;225;0;225mmonkey.patch_all\u001B[0m\u001B[1m(\u001B[0m\u001B[38;2;215;175;0msubprocess\u001B[0m=\u001B[3;38;2;0;135;0mTrue\u001B[0m\u001B[1m)\u001B[0m                                    \u001B]8;id=382247;file:///Users/nargokul/workspace/sagemaker-python-sdk-staging/sagemaker-python-sdk-staging/src/sagemaker/session.py\u001B\\\u001B[2msession.py\u001B[0m\u001B]8;;\u001B\\\u001B[2m:\u001B[0m\u001B]8;id=161965;file:///Users/nargokul/workspace/sagemaker-python-sdk-staging/sagemaker-python-sdk-staging/src/sagemaker/session.py#8308\u001B\\\u001B[2m8308\u001B[0m\u001B]8;;\u001B\\\n"
      ],
      "text/html": [
       "<pre style=\"white-space:pre;overflow-x:auto;line-height:normal;font-family:Menlo,'DejaVu Sans Mono',consolas,'Courier New',monospace\"><span style=\"color: #7fbfbf; text-decoration-color: #7fbfbf\">                    </span><span style=\"color: #0069ff; text-decoration-color: #0069ff; font-weight: bold\">INFO    </span>   <span style=\"color: #e100e1; text-decoration-color: #e100e1; font-weight: bold\">monkey.patch_all</span><span style=\"font-weight: bold\">(</span><span style=\"color: #d7af00; text-decoration-color: #d7af00\">subprocess</span>=<span style=\"color: #008700; text-decoration-color: #008700; font-style: italic\">True</span><span style=\"font-weight: bold\">)</span>                                    <a href=\"file:///Users/nargokul/workspace/sagemaker-python-sdk-staging/sagemaker-python-sdk-staging/src/sagemaker/session.py\" target=\"_blank\"><span style=\"color: #7f7f7f; text-decoration-color: #7f7f7f\">session.py</span></a><span style=\"color: #7f7f7f; text-decoration-color: #7f7f7f\">:</span><a href=\"file:///Users/nargokul/workspace/sagemaker-python-sdk-staging/sagemaker-python-sdk-staging/src/sagemaker/session.py#8308\" target=\"_blank\"><span style=\"color: #7f7f7f; text-decoration-color: #7f7f7f\">8308</span></a>\n",
       "</pre>\n"
      ]
     },
     "metadata": {},
     "output_type": "display_data"
    },
    {
     "data": {
      "text/plain": [
       "\u001B[2;36m                   \u001B[0m\u001B[2;36m \u001B[0m\u001B[1;38;2;0;105;255mINFO    \u001B[0m \u001B[1m[\u001B[0m\u001B[1;36m2024\u001B[0m-\u001B[1;36m10\u001B[0m-30:20:17:57:INFO\u001B[1m]\u001B[0m Model loaded successfully for worker : \u001B[1;36m31\u001B[0m   \u001B]8;id=415016;file:///Users/nargokul/workspace/sagemaker-python-sdk-staging/sagemaker-python-sdk-staging/src/sagemaker/session.py\u001B\\\u001B[2msession.py\u001B[0m\u001B]8;;\u001B\\\u001B[2m:\u001B[0m\u001B]8;id=24361;file:///Users/nargokul/workspace/sagemaker-python-sdk-staging/sagemaker-python-sdk-staging/src/sagemaker/session.py#8308\u001B\\\u001B[2m8308\u001B[0m\u001B]8;;\u001B\\\n"
      ],
      "text/html": [
       "<pre style=\"white-space:pre;overflow-x:auto;line-height:normal;font-family:Menlo,'DejaVu Sans Mono',consolas,'Courier New',monospace\"><span style=\"color: #7fbfbf; text-decoration-color: #7fbfbf\">                    </span><span style=\"color: #0069ff; text-decoration-color: #0069ff; font-weight: bold\">INFO    </span> <span style=\"font-weight: bold\">[</span><span style=\"color: #008080; text-decoration-color: #008080; font-weight: bold\">2024</span>-<span style=\"color: #008080; text-decoration-color: #008080; font-weight: bold\">10</span>-30:20:17:57:INFO<span style=\"font-weight: bold\">]</span> Model loaded successfully for worker : <span style=\"color: #008080; text-decoration-color: #008080; font-weight: bold\">31</span>   <a href=\"file:///Users/nargokul/workspace/sagemaker-python-sdk-staging/sagemaker-python-sdk-staging/src/sagemaker/session.py\" target=\"_blank\"><span style=\"color: #7f7f7f; text-decoration-color: #7f7f7f\">session.py</span></a><span style=\"color: #7f7f7f; text-decoration-color: #7f7f7f\">:</span><a href=\"file:///Users/nargokul/workspace/sagemaker-python-sdk-staging/sagemaker-python-sdk-staging/src/sagemaker/session.py#8308\" target=\"_blank\"><span style=\"color: #7f7f7f; text-decoration-color: #7f7f7f\">8308</span></a>\n",
       "</pre>\n"
      ]
     },
     "metadata": {},
     "output_type": "display_data"
    },
    {
     "data": {
      "text/plain": [
       "\u001B[2;36m                   \u001B[0m\u001B[2;36m \u001B[0m\u001B[1;38;2;0;105;255mINFO    \u001B[0m \u001B[1m[\u001B[0m\u001B[1;36m2024\u001B[0m-\u001B[1;36m10\u001B[0m-30:20:17:57:INFO\u001B[1m]\u001B[0m Model loaded successfully for worker : \u001B[1;36m30\u001B[0m   \u001B]8;id=927407;file:///Users/nargokul/workspace/sagemaker-python-sdk-staging/sagemaker-python-sdk-staging/src/sagemaker/session.py\u001B\\\u001B[2msession.py\u001B[0m\u001B]8;;\u001B\\\u001B[2m:\u001B[0m\u001B]8;id=387335;file:///Users/nargokul/workspace/sagemaker-python-sdk-staging/sagemaker-python-sdk-staging/src/sagemaker/session.py#8308\u001B\\\u001B[2m8308\u001B[0m\u001B]8;;\u001B\\\n"
      ],
      "text/html": [
       "<pre style=\"white-space:pre;overflow-x:auto;line-height:normal;font-family:Menlo,'DejaVu Sans Mono',consolas,'Courier New',monospace\"><span style=\"color: #7fbfbf; text-decoration-color: #7fbfbf\">                    </span><span style=\"color: #0069ff; text-decoration-color: #0069ff; font-weight: bold\">INFO    </span> <span style=\"font-weight: bold\">[</span><span style=\"color: #008080; text-decoration-color: #008080; font-weight: bold\">2024</span>-<span style=\"color: #008080; text-decoration-color: #008080; font-weight: bold\">10</span>-30:20:17:57:INFO<span style=\"font-weight: bold\">]</span> Model loaded successfully for worker : <span style=\"color: #008080; text-decoration-color: #008080; font-weight: bold\">30</span>   <a href=\"file:///Users/nargokul/workspace/sagemaker-python-sdk-staging/sagemaker-python-sdk-staging/src/sagemaker/session.py\" target=\"_blank\"><span style=\"color: #7f7f7f; text-decoration-color: #7f7f7f\">session.py</span></a><span style=\"color: #7f7f7f; text-decoration-color: #7f7f7f\">:</span><a href=\"file:///Users/nargokul/workspace/sagemaker-python-sdk-staging/sagemaker-python-sdk-staging/src/sagemaker/session.py#8308\" target=\"_blank\"><span style=\"color: #7f7f7f; text-decoration-color: #7f7f7f\">8308</span></a>\n",
       "</pre>\n"
      ]
     },
     "metadata": {},
     "output_type": "display_data"
    },
    {
     "data": {
      "text/plain": [
       "\u001B[2;36m[10/30/24 13:18:14]\u001B[0m\u001B[2;36m \u001B[0m\u001B[1;38;2;0;105;255mINFO    \u001B[0m Created endpoint with name                                             \u001B]8;id=549964;file:///Users/nargokul/workspace/sagemaker-python-sdk-staging/sagemaker-python-sdk-staging/src/sagemaker/session.py\u001B\\\u001B[2msession.py\u001B[0m\u001B]8;;\u001B\\\u001B[2m:\u001B[0m\u001B]8;id=34785;file:///Users/nargokul/workspace/sagemaker-python-sdk-staging/sagemaker-python-sdk-staging/src/sagemaker/session.py#8294\u001B\\\u001B[2m8294\u001B[0m\u001B]8;;\u001B\\\n",
       "\u001B[2;36m                    \u001B[0m         model-name-f76fb1fa96fa11efb5372ad633a9-\u001B[1;36m2024\u001B[0m-10-30-20-16-01-492        \u001B[2m               \u001B[0m\n"
      ],
      "text/html": [
       "<pre style=\"white-space:pre;overflow-x:auto;line-height:normal;font-family:Menlo,'DejaVu Sans Mono',consolas,'Courier New',monospace\"><span style=\"color: #7fbfbf; text-decoration-color: #7fbfbf\">[10/30/24 13:18:14] </span><span style=\"color: #0069ff; text-decoration-color: #0069ff; font-weight: bold\">INFO    </span> Created endpoint with name                                             <a href=\"file:///Users/nargokul/workspace/sagemaker-python-sdk-staging/sagemaker-python-sdk-staging/src/sagemaker/session.py\" target=\"_blank\"><span style=\"color: #7f7f7f; text-decoration-color: #7f7f7f\">session.py</span></a><span style=\"color: #7f7f7f; text-decoration-color: #7f7f7f\">:</span><a href=\"file:///Users/nargokul/workspace/sagemaker-python-sdk-staging/sagemaker-python-sdk-staging/src/sagemaker/session.py#8294\" target=\"_blank\"><span style=\"color: #7f7f7f; text-decoration-color: #7f7f7f\">8294</span></a>\n",
       "<span style=\"color: #7fbfbf; text-decoration-color: #7fbfbf\">                    </span>         model-name-f76fb1fa96fa11efb5372ad633a9-<span style=\"color: #008080; text-decoration-color: #008080; font-weight: bold\">2024</span>-10-30-20-16-01-492        <span style=\"color: #7f7f7f; text-decoration-color: #7f7f7f\">               </span>\n",
       "</pre>\n"
      ]
     },
     "metadata": {},
     "output_type": "display_data"
    },
    {
     "name": "stderr",
     "output_type": "stream",
     "text": [
      "ModelBuilder: DEBUG:     ModelBuilder metrics emitted.\n"
     ]
    }
   ],
   "execution_count": 5
  },
  {
   "metadata": {},
   "cell_type": "markdown",
   "source": "#### Async Deployment",
   "id": "6462fe2d8f85dba7"
  },
  {
   "metadata": {
    "ExecuteTime": {
     "end_time": "2024-10-30T20:21:27.809852Z",
     "start_time": "2024-10-30T20:18:15.955152Z"
    }
   },
   "cell_type": "code",
   "source": [
    "from sagemaker.s3_utils import s3_path_join\n",
    "from sagemaker.async_inference import AsyncInferenceConfig\n",
    "\n",
    "async_predictor = model_builder.deploy(\n",
    "    inference_config=AsyncInferenceConfig(\n",
    "        output_path=s3_path_join(\"s3://\", bucket, \"async_inference/output\")),\n",
    ")"
   ],
   "id": "271e8dcfb015d69a",
   "outputs": [
    {
     "name": "stderr",
     "output_type": "stream",
     "text": [
      "ModelBuilder: INFO:     ModelBuilder will collect telemetry to help us better understand our user's needs, diagnose issues, and deliver additional features. To opt out of telemetry, please disable via TelemetryOptOut in intelligent defaults. See https://sagemaker.readthedocs.io/en/stable/overview.html#configuring-and-using-defaults-with-the-sagemaker-python-sdk for more info.\n"
     ]
    },
    {
     "data": {
      "text/plain": [
       "\u001B[2;36m[10/30/24 13:18:15]\u001B[0m\u001B[2;36m \u001B[0m\u001B[1;38;2;0;105;255mINFO    \u001B[0m Creating model with name: model-name-f76fb1fa96fa11efb5372ad633a99cdc  \u001B]8;id=96650;file:///Users/nargokul/workspace/sagemaker-python-sdk-staging/sagemaker-python-sdk-staging/src/sagemaker/session.py\u001B\\\u001B[2msession.py\u001B[0m\u001B]8;;\u001B\\\u001B[2m:\u001B[0m\u001B]8;id=60711;file:///Users/nargokul/workspace/sagemaker-python-sdk-staging/sagemaker-python-sdk-staging/src/sagemaker/session.py#4025\u001B\\\u001B[2m4025\u001B[0m\u001B]8;;\u001B\\\n"
      ],
      "text/html": [
       "<pre style=\"white-space:pre;overflow-x:auto;line-height:normal;font-family:Menlo,'DejaVu Sans Mono',consolas,'Courier New',monospace\"><span style=\"color: #7fbfbf; text-decoration-color: #7fbfbf\">[10/30/24 13:18:15] </span><span style=\"color: #0069ff; text-decoration-color: #0069ff; font-weight: bold\">INFO    </span> Creating model with name: model-name-f76fb1fa96fa11efb5372ad633a99cdc  <a href=\"file:///Users/nargokul/workspace/sagemaker-python-sdk-staging/sagemaker-python-sdk-staging/src/sagemaker/session.py\" target=\"_blank\"><span style=\"color: #7f7f7f; text-decoration-color: #7f7f7f\">session.py</span></a><span style=\"color: #7f7f7f; text-decoration-color: #7f7f7f\">:</span><a href=\"file:///Users/nargokul/workspace/sagemaker-python-sdk-staging/sagemaker-python-sdk-staging/src/sagemaker/session.py#4025\" target=\"_blank\"><span style=\"color: #7f7f7f; text-decoration-color: #7f7f7f\">4025</span></a>\n",
       "</pre>\n"
      ]
     },
     "metadata": {},
     "output_type": "display_data"
    },
    {
     "data": {
      "text/plain": [
       "\u001B[2;36m[10/30/24 13:18:16]\u001B[0m\u001B[2;36m \u001B[0m\u001B[1;38;2;215;175;0mWARNING \u001B[0m Using already existing model:                                          \u001B]8;id=492060;file:///Users/nargokul/workspace/sagemaker-python-sdk-staging/sagemaker-python-sdk-staging/src/sagemaker/session.py\u001B\\\u001B[2msession.py\u001B[0m\u001B]8;;\u001B\\\u001B[2m:\u001B[0m\u001B]8;id=45096;file:///Users/nargokul/workspace/sagemaker-python-sdk-staging/sagemaker-python-sdk-staging/src/sagemaker/session.py#4036\u001B\\\u001B[2m4036\u001B[0m\u001B]8;;\u001B\\\n",
       "\u001B[2;36m                    \u001B[0m         model-name-f76fb1fa96fa11efb5372ad633a99cdc                            \u001B[2m               \u001B[0m\n"
      ],
      "text/html": [
       "<pre style=\"white-space:pre;overflow-x:auto;line-height:normal;font-family:Menlo,'DejaVu Sans Mono',consolas,'Courier New',monospace\"><span style=\"color: #7fbfbf; text-decoration-color: #7fbfbf\">[10/30/24 13:18:16] </span><span style=\"color: #d7af00; text-decoration-color: #d7af00; font-weight: bold\">WARNING </span> Using already existing model:                                          <a href=\"file:///Users/nargokul/workspace/sagemaker-python-sdk-staging/sagemaker-python-sdk-staging/src/sagemaker/session.py\" target=\"_blank\"><span style=\"color: #7f7f7f; text-decoration-color: #7f7f7f\">session.py</span></a><span style=\"color: #7f7f7f; text-decoration-color: #7f7f7f\">:</span><a href=\"file:///Users/nargokul/workspace/sagemaker-python-sdk-staging/sagemaker-python-sdk-staging/src/sagemaker/session.py#4036\" target=\"_blank\"><span style=\"color: #7f7f7f; text-decoration-color: #7f7f7f\">4036</span></a>\n",
       "<span style=\"color: #7fbfbf; text-decoration-color: #7fbfbf\">                    </span>         model-name-f76fb1fa96fa11efb5372ad633a99cdc                            <span style=\"color: #7f7f7f; text-decoration-color: #7f7f7f\">               </span>\n",
       "</pre>\n"
      ]
     },
     "metadata": {},
     "output_type": "display_data"
    },
    {
     "data": {
      "text/plain": [
       "\u001B[2;36m[10/30/24 13:18:19]\u001B[0m\u001B[2;36m \u001B[0m\u001B[1;38;2;0;105;255mINFO    \u001B[0m Creating endpoint-config with name                                     \u001B]8;id=21634;file:///Users/nargokul/workspace/sagemaker-python-sdk-staging/sagemaker-python-sdk-staging/src/sagemaker/session.py\u001B\\\u001B[2msession.py\u001B[0m\u001B]8;;\u001B\\\u001B[2m:\u001B[0m\u001B]8;id=59349;file:///Users/nargokul/workspace/sagemaker-python-sdk-staging/sagemaker-python-sdk-staging/src/sagemaker/session.py#5817\u001B\\\u001B[2m5817\u001B[0m\u001B]8;;\u001B\\\n",
       "\u001B[2;36m                    \u001B[0m         model-name-f76fb1fa96fa11efb5372ad633a9-\u001B[1;36m2024\u001B[0m-10-30-20-18-16-602        \u001B[2m               \u001B[0m\n"
      ],
      "text/html": [
       "<pre style=\"white-space:pre;overflow-x:auto;line-height:normal;font-family:Menlo,'DejaVu Sans Mono',consolas,'Courier New',monospace\"><span style=\"color: #7fbfbf; text-decoration-color: #7fbfbf\">[10/30/24 13:18:19] </span><span style=\"color: #0069ff; text-decoration-color: #0069ff; font-weight: bold\">INFO    </span> Creating endpoint-config with name                                     <a href=\"file:///Users/nargokul/workspace/sagemaker-python-sdk-staging/sagemaker-python-sdk-staging/src/sagemaker/session.py\" target=\"_blank\"><span style=\"color: #7f7f7f; text-decoration-color: #7f7f7f\">session.py</span></a><span style=\"color: #7f7f7f; text-decoration-color: #7f7f7f\">:</span><a href=\"file:///Users/nargokul/workspace/sagemaker-python-sdk-staging/sagemaker-python-sdk-staging/src/sagemaker/session.py#5817\" target=\"_blank\"><span style=\"color: #7f7f7f; text-decoration-color: #7f7f7f\">5817</span></a>\n",
       "<span style=\"color: #7fbfbf; text-decoration-color: #7fbfbf\">                    </span>         model-name-f76fb1fa96fa11efb5372ad633a9-<span style=\"color: #008080; text-decoration-color: #008080; font-weight: bold\">2024</span>-10-30-20-18-16-602        <span style=\"color: #7f7f7f; text-decoration-color: #7f7f7f\">               </span>\n",
       "</pre>\n"
      ]
     },
     "metadata": {},
     "output_type": "display_data"
    },
    {
     "data": {
      "text/plain": [
       "\u001B[2;36m[10/30/24 13:18:20]\u001B[0m\u001B[2;36m \u001B[0m\u001B[1;38;2;0;105;255mINFO    \u001B[0m Creating endpoint with name                                            \u001B]8;id=747862;file:///Users/nargokul/workspace/sagemaker-python-sdk-staging/sagemaker-python-sdk-staging/src/sagemaker/session.py\u001B\\\u001B[2msession.py\u001B[0m\u001B]8;;\u001B\\\u001B[2m:\u001B[0m\u001B]8;id=622744;file:///Users/nargokul/workspace/sagemaker-python-sdk-staging/sagemaker-python-sdk-staging/src/sagemaker/session.py#4639\u001B\\\u001B[2m4639\u001B[0m\u001B]8;;\u001B\\\n",
       "\u001B[2;36m                    \u001B[0m         model-name-f76fb1fa96fa11efb5372ad633a9-\u001B[1;36m2024\u001B[0m-10-30-20-18-16-602        \u001B[2m               \u001B[0m\n"
      ],
      "text/html": [
       "<pre style=\"white-space:pre;overflow-x:auto;line-height:normal;font-family:Menlo,'DejaVu Sans Mono',consolas,'Courier New',monospace\"><span style=\"color: #7fbfbf; text-decoration-color: #7fbfbf\">[10/30/24 13:18:20] </span><span style=\"color: #0069ff; text-decoration-color: #0069ff; font-weight: bold\">INFO    </span> Creating endpoint with name                                            <a href=\"file:///Users/nargokul/workspace/sagemaker-python-sdk-staging/sagemaker-python-sdk-staging/src/sagemaker/session.py\" target=\"_blank\"><span style=\"color: #7f7f7f; text-decoration-color: #7f7f7f\">session.py</span></a><span style=\"color: #7f7f7f; text-decoration-color: #7f7f7f\">:</span><a href=\"file:///Users/nargokul/workspace/sagemaker-python-sdk-staging/sagemaker-python-sdk-staging/src/sagemaker/session.py#4639\" target=\"_blank\"><span style=\"color: #7f7f7f; text-decoration-color: #7f7f7f\">4639</span></a>\n",
       "<span style=\"color: #7fbfbf; text-decoration-color: #7fbfbf\">                    </span>         model-name-f76fb1fa96fa11efb5372ad633a9-<span style=\"color: #008080; text-decoration-color: #008080; font-weight: bold\">2024</span>-10-30-20-18-16-602        <span style=\"color: #7f7f7f; text-decoration-color: #7f7f7f\">               </span>\n",
       "</pre>\n"
      ]
     },
     "metadata": {},
     "output_type": "display_data"
    },
    {
     "data": {
      "text/plain": [
       "\u001B[2;36m[10/30/24 13:21:04]\u001B[0m\u001B[2;36m \u001B[0m\u001B[1;38;2;0;105;255mINFO    \u001B[0m Arguments: serve                                                       \u001B]8;id=543297;file:///Users/nargokul/workspace/sagemaker-python-sdk-staging/sagemaker-python-sdk-staging/src/sagemaker/session.py\u001B\\\u001B[2msession.py\u001B[0m\u001B]8;;\u001B\\\u001B[2m:\u001B[0m\u001B]8;id=668264;file:///Users/nargokul/workspace/sagemaker-python-sdk-staging/sagemaker-python-sdk-staging/src/sagemaker/session.py#8308\u001B\\\u001B[2m8308\u001B[0m\u001B]8;;\u001B\\\n"
      ],
      "text/html": [
       "<pre style=\"white-space:pre;overflow-x:auto;line-height:normal;font-family:Menlo,'DejaVu Sans Mono',consolas,'Courier New',monospace\"><span style=\"color: #7fbfbf; text-decoration-color: #7fbfbf\">[10/30/24 13:21:04] </span><span style=\"color: #0069ff; text-decoration-color: #0069ff; font-weight: bold\">INFO    </span> Arguments: serve                                                       <a href=\"file:///Users/nargokul/workspace/sagemaker-python-sdk-staging/sagemaker-python-sdk-staging/src/sagemaker/session.py\" target=\"_blank\"><span style=\"color: #7f7f7f; text-decoration-color: #7f7f7f\">session.py</span></a><span style=\"color: #7f7f7f; text-decoration-color: #7f7f7f\">:</span><a href=\"file:///Users/nargokul/workspace/sagemaker-python-sdk-staging/sagemaker-python-sdk-staging/src/sagemaker/session.py#8308\" target=\"_blank\"><span style=\"color: #7f7f7f; text-decoration-color: #7f7f7f\">8308</span></a>\n",
       "</pre>\n"
      ]
     },
     "metadata": {},
     "output_type": "display_data"
    },
    {
     "data": {
      "text/plain": [
       "\u001B[2;36m                   \u001B[0m\u001B[2;36m \u001B[0m\u001B[1;38;2;0;105;255mINFO    \u001B[0m \u001B[1m[\u001B[0m\u001B[1;36m2024\u001B[0m-\u001B[1;36m10\u001B[0m-\u001B[1;36m30\u001B[0m 20:20:51 +\u001B[1;36m0000\u001B[0m\u001B[1m]\u001B[0m \u001B[1m[\u001B[0m\u001B[1;36m1\u001B[0m\u001B[1m]\u001B[0m \u001B[1m[\u001B[0mINFO\u001B[1m]\u001B[0m Starting gunicorn \u001B[1;36m19.9\u001B[0m.\u001B[1;36m0\u001B[0m        \u001B]8;id=652057;file:///Users/nargokul/workspace/sagemaker-python-sdk-staging/sagemaker-python-sdk-staging/src/sagemaker/session.py\u001B\\\u001B[2msession.py\u001B[0m\u001B]8;;\u001B\\\u001B[2m:\u001B[0m\u001B]8;id=107097;file:///Users/nargokul/workspace/sagemaker-python-sdk-staging/sagemaker-python-sdk-staging/src/sagemaker/session.py#8308\u001B\\\u001B[2m8308\u001B[0m\u001B]8;;\u001B\\\n"
      ],
      "text/html": [
       "<pre style=\"white-space:pre;overflow-x:auto;line-height:normal;font-family:Menlo,'DejaVu Sans Mono',consolas,'Courier New',monospace\"><span style=\"color: #7fbfbf; text-decoration-color: #7fbfbf\">                    </span><span style=\"color: #0069ff; text-decoration-color: #0069ff; font-weight: bold\">INFO    </span> <span style=\"font-weight: bold\">[</span><span style=\"color: #008080; text-decoration-color: #008080; font-weight: bold\">2024</span>-<span style=\"color: #008080; text-decoration-color: #008080; font-weight: bold\">10</span>-<span style=\"color: #008080; text-decoration-color: #008080; font-weight: bold\">30</span> 20:20:51 +<span style=\"color: #008080; text-decoration-color: #008080; font-weight: bold\">0000</span><span style=\"font-weight: bold\">]</span> <span style=\"font-weight: bold\">[</span><span style=\"color: #008080; text-decoration-color: #008080; font-weight: bold\">1</span><span style=\"font-weight: bold\">]</span> <span style=\"font-weight: bold\">[</span>INFO<span style=\"font-weight: bold\">]</span> Starting gunicorn <span style=\"color: #008080; text-decoration-color: #008080; font-weight: bold\">19.9</span>.<span style=\"color: #008080; text-decoration-color: #008080; font-weight: bold\">0</span>        <a href=\"file:///Users/nargokul/workspace/sagemaker-python-sdk-staging/sagemaker-python-sdk-staging/src/sagemaker/session.py\" target=\"_blank\"><span style=\"color: #7f7f7f; text-decoration-color: #7f7f7f\">session.py</span></a><span style=\"color: #7f7f7f; text-decoration-color: #7f7f7f\">:</span><a href=\"file:///Users/nargokul/workspace/sagemaker-python-sdk-staging/sagemaker-python-sdk-staging/src/sagemaker/session.py#8308\" target=\"_blank\"><span style=\"color: #7f7f7f; text-decoration-color: #7f7f7f\">8308</span></a>\n",
       "</pre>\n"
      ]
     },
     "metadata": {},
     "output_type": "display_data"
    },
    {
     "data": {
      "text/plain": [
       "\u001B[2;36m                   \u001B[0m\u001B[2;36m \u001B[0m\u001B[1;38;2;0;105;255mINFO    \u001B[0m \u001B[1m[\u001B[0m\u001B[1;36m2024\u001B[0m-\u001B[1;36m10\u001B[0m-\u001B[1;36m30\u001B[0m 20:20:51 +\u001B[1;36m0000\u001B[0m\u001B[1m]\u001B[0m \u001B[1m[\u001B[0m\u001B[1;36m1\u001B[0m\u001B[1m]\u001B[0m \u001B[1m[\u001B[0mINFO\u001B[1m]\u001B[0m Listening at:                   \u001B]8;id=775956;file:///Users/nargokul/workspace/sagemaker-python-sdk-staging/sagemaker-python-sdk-staging/src/sagemaker/session.py\u001B\\\u001B[2msession.py\u001B[0m\u001B]8;;\u001B\\\u001B[2m:\u001B[0m\u001B]8;id=797582;file:///Users/nargokul/workspace/sagemaker-python-sdk-staging/sagemaker-python-sdk-staging/src/sagemaker/session.py#8308\u001B\\\u001B[2m8308\u001B[0m\u001B]8;;\u001B\\\n",
       "\u001B[2;36m                    \u001B[0m         \u001B[4;38;2;0;105;255mhttp://0.0.0.0:8080\u001B[0m \u001B[1m(\u001B[0m\u001B[1;36m1\u001B[0m\u001B[1m)\u001B[0m                                                \u001B[2m               \u001B[0m\n"
      ],
      "text/html": [
       "<pre style=\"white-space:pre;overflow-x:auto;line-height:normal;font-family:Menlo,'DejaVu Sans Mono',consolas,'Courier New',monospace\"><span style=\"color: #7fbfbf; text-decoration-color: #7fbfbf\">                    </span><span style=\"color: #0069ff; text-decoration-color: #0069ff; font-weight: bold\">INFO    </span> <span style=\"font-weight: bold\">[</span><span style=\"color: #008080; text-decoration-color: #008080; font-weight: bold\">2024</span>-<span style=\"color: #008080; text-decoration-color: #008080; font-weight: bold\">10</span>-<span style=\"color: #008080; text-decoration-color: #008080; font-weight: bold\">30</span> 20:20:51 +<span style=\"color: #008080; text-decoration-color: #008080; font-weight: bold\">0000</span><span style=\"font-weight: bold\">]</span> <span style=\"font-weight: bold\">[</span><span style=\"color: #008080; text-decoration-color: #008080; font-weight: bold\">1</span><span style=\"font-weight: bold\">]</span> <span style=\"font-weight: bold\">[</span>INFO<span style=\"font-weight: bold\">]</span> Listening at:                   <a href=\"file:///Users/nargokul/workspace/sagemaker-python-sdk-staging/sagemaker-python-sdk-staging/src/sagemaker/session.py\" target=\"_blank\"><span style=\"color: #7f7f7f; text-decoration-color: #7f7f7f\">session.py</span></a><span style=\"color: #7f7f7f; text-decoration-color: #7f7f7f\">:</span><a href=\"file:///Users/nargokul/workspace/sagemaker-python-sdk-staging/sagemaker-python-sdk-staging/src/sagemaker/session.py#8308\" target=\"_blank\"><span style=\"color: #7f7f7f; text-decoration-color: #7f7f7f\">8308</span></a>\n",
       "<span style=\"color: #7fbfbf; text-decoration-color: #7fbfbf\">                    </span>         <span style=\"color: #0069ff; text-decoration-color: #0069ff; text-decoration: underline\">http://0.0.0.0:8080</span> <span style=\"font-weight: bold\">(</span><span style=\"color: #008080; text-decoration-color: #008080; font-weight: bold\">1</span><span style=\"font-weight: bold\">)</span>                                                <span style=\"color: #7f7f7f; text-decoration-color: #7f7f7f\">               </span>\n",
       "</pre>\n"
      ]
     },
     "metadata": {},
     "output_type": "display_data"
    },
    {
     "data": {
      "text/plain": [
       "\u001B[2;36m                   \u001B[0m\u001B[2;36m \u001B[0m\u001B[1;38;2;0;105;255mINFO    \u001B[0m \u001B[1m[\u001B[0m\u001B[1;36m2024\u001B[0m-\u001B[1;36m10\u001B[0m-\u001B[1;36m30\u001B[0m 20:20:51 +\u001B[1;36m0000\u001B[0m\u001B[1m]\u001B[0m \u001B[1m[\u001B[0m\u001B[1;36m1\u001B[0m\u001B[1m]\u001B[0m \u001B[1m[\u001B[0mINFO\u001B[1m]\u001B[0m Using worker: gevent            \u001B]8;id=240430;file:///Users/nargokul/workspace/sagemaker-python-sdk-staging/sagemaker-python-sdk-staging/src/sagemaker/session.py\u001B\\\u001B[2msession.py\u001B[0m\u001B]8;;\u001B\\\u001B[2m:\u001B[0m\u001B]8;id=74815;file:///Users/nargokul/workspace/sagemaker-python-sdk-staging/sagemaker-python-sdk-staging/src/sagemaker/session.py#8308\u001B\\\u001B[2m8308\u001B[0m\u001B]8;;\u001B\\\n"
      ],
      "text/html": [
       "<pre style=\"white-space:pre;overflow-x:auto;line-height:normal;font-family:Menlo,'DejaVu Sans Mono',consolas,'Courier New',monospace\"><span style=\"color: #7fbfbf; text-decoration-color: #7fbfbf\">                    </span><span style=\"color: #0069ff; text-decoration-color: #0069ff; font-weight: bold\">INFO    </span> <span style=\"font-weight: bold\">[</span><span style=\"color: #008080; text-decoration-color: #008080; font-weight: bold\">2024</span>-<span style=\"color: #008080; text-decoration-color: #008080; font-weight: bold\">10</span>-<span style=\"color: #008080; text-decoration-color: #008080; font-weight: bold\">30</span> 20:20:51 +<span style=\"color: #008080; text-decoration-color: #008080; font-weight: bold\">0000</span><span style=\"font-weight: bold\">]</span> <span style=\"font-weight: bold\">[</span><span style=\"color: #008080; text-decoration-color: #008080; font-weight: bold\">1</span><span style=\"font-weight: bold\">]</span> <span style=\"font-weight: bold\">[</span>INFO<span style=\"font-weight: bold\">]</span> Using worker: gevent            <a href=\"file:///Users/nargokul/workspace/sagemaker-python-sdk-staging/sagemaker-python-sdk-staging/src/sagemaker/session.py\" target=\"_blank\"><span style=\"color: #7f7f7f; text-decoration-color: #7f7f7f\">session.py</span></a><span style=\"color: #7f7f7f; text-decoration-color: #7f7f7f\">:</span><a href=\"file:///Users/nargokul/workspace/sagemaker-python-sdk-staging/sagemaker-python-sdk-staging/src/sagemaker/session.py#8308\" target=\"_blank\"><span style=\"color: #7f7f7f; text-decoration-color: #7f7f7f\">8308</span></a>\n",
       "</pre>\n"
      ]
     },
     "metadata": {},
     "output_type": "display_data"
    },
    {
     "data": {
      "text/plain": [
       "\u001B[2;36m                   \u001B[0m\u001B[2;36m \u001B[0m\u001B[1;38;2;0;105;255mINFO    \u001B[0m \u001B[1m[\u001B[0m\u001B[1;36m2024\u001B[0m-\u001B[1;36m10\u001B[0m-\u001B[1;36m30\u001B[0m 20:20:51 +\u001B[1;36m0000\u001B[0m\u001B[1m]\u001B[0m \u001B[1m[\u001B[0m\u001B[1;36m21\u001B[0m\u001B[1m]\u001B[0m \u001B[1m[\u001B[0mINFO\u001B[1m]\u001B[0m Booting worker with pid: \u001B[1;36m21\u001B[0m    \u001B]8;id=145896;file:///Users/nargokul/workspace/sagemaker-python-sdk-staging/sagemaker-python-sdk-staging/src/sagemaker/session.py\u001B\\\u001B[2msession.py\u001B[0m\u001B]8;;\u001B\\\u001B[2m:\u001B[0m\u001B]8;id=403100;file:///Users/nargokul/workspace/sagemaker-python-sdk-staging/sagemaker-python-sdk-staging/src/sagemaker/session.py#8308\u001B\\\u001B[2m8308\u001B[0m\u001B]8;;\u001B\\\n"
      ],
      "text/html": [
       "<pre style=\"white-space:pre;overflow-x:auto;line-height:normal;font-family:Menlo,'DejaVu Sans Mono',consolas,'Courier New',monospace\"><span style=\"color: #7fbfbf; text-decoration-color: #7fbfbf\">                    </span><span style=\"color: #0069ff; text-decoration-color: #0069ff; font-weight: bold\">INFO    </span> <span style=\"font-weight: bold\">[</span><span style=\"color: #008080; text-decoration-color: #008080; font-weight: bold\">2024</span>-<span style=\"color: #008080; text-decoration-color: #008080; font-weight: bold\">10</span>-<span style=\"color: #008080; text-decoration-color: #008080; font-weight: bold\">30</span> 20:20:51 +<span style=\"color: #008080; text-decoration-color: #008080; font-weight: bold\">0000</span><span style=\"font-weight: bold\">]</span> <span style=\"font-weight: bold\">[</span><span style=\"color: #008080; text-decoration-color: #008080; font-weight: bold\">21</span><span style=\"font-weight: bold\">]</span> <span style=\"font-weight: bold\">[</span>INFO<span style=\"font-weight: bold\">]</span> Booting worker with pid: <span style=\"color: #008080; text-decoration-color: #008080; font-weight: bold\">21</span>    <a href=\"file:///Users/nargokul/workspace/sagemaker-python-sdk-staging/sagemaker-python-sdk-staging/src/sagemaker/session.py\" target=\"_blank\"><span style=\"color: #7f7f7f; text-decoration-color: #7f7f7f\">session.py</span></a><span style=\"color: #7f7f7f; text-decoration-color: #7f7f7f\">:</span><a href=\"file:///Users/nargokul/workspace/sagemaker-python-sdk-staging/sagemaker-python-sdk-staging/src/sagemaker/session.py#8308\" target=\"_blank\"><span style=\"color: #7f7f7f; text-decoration-color: #7f7f7f\">8308</span></a>\n",
       "</pre>\n"
      ]
     },
     "metadata": {},
     "output_type": "display_data"
    },
    {
     "data": {
      "text/plain": [
       "\u001B[2;36m                   \u001B[0m\u001B[2;36m \u001B[0m\u001B[1;38;2;0;105;255mINFO    \u001B[0m \u001B[38;2;225;0;225m/opt/amazon/lib/python3.7/site-packages/gunicorn/workers/\u001B[0m\u001B[38;2;225;0;225mggevent.py\u001B[0m:\u001B[1;36m65\u001B[0m \u001B]8;id=823558;file:///Users/nargokul/workspace/sagemaker-python-sdk-staging/sagemaker-python-sdk-staging/src/sagemaker/session.py\u001B\\\u001B[2msession.py\u001B[0m\u001B]8;;\u001B\\\u001B[2m:\u001B[0m\u001B]8;id=712577;file:///Users/nargokul/workspace/sagemaker-python-sdk-staging/sagemaker-python-sdk-staging/src/sagemaker/session.py#8308\u001B\\\u001B[2m8308\u001B[0m\u001B]8;;\u001B\\\n",
       "\u001B[2;36m                    \u001B[0m         : MonkeyPatchWarning: Monkey-patching ssl after ssl has already been   \u001B[2m               \u001B[0m\n",
       "\u001B[2;36m                    \u001B[0m         imported may lead to errors, including RecursionError on Python \u001B[1;36m3.6\u001B[0m.   \u001B[2m               \u001B[0m\n",
       "\u001B[2;36m                    \u001B[0m         It may also silently lead to incorrect behaviour on Python \u001B[1;36m3.7\u001B[0m. Please \u001B[2m               \u001B[0m\n",
       "\u001B[2;36m                    \u001B[0m         monkey-patch earlier. See                                              \u001B[2m               \u001B[0m\n",
       "\u001B[2;36m                    \u001B[0m         \u001B[4;38;2;0;105;255mhttps://github.com/gevent/gevent/issues/1016.\u001B[0m Modules that had direct  \u001B[2m               \u001B[0m\n",
       "\u001B[2;36m                    \u001B[0m         imports \u001B[1m(\u001B[0mNOT patched\u001B[1m)\u001B[0m: \u001B[1m[\u001B[0m\u001B[38;2;0;135;0m'urllib3.util \u001B[0m                                 \u001B[2m               \u001B[0m\n",
       "\u001B[2;36m                    \u001B[0m         \u001B[1;38;2;0;135;0m(\u001B[0m\u001B[38;2;0;135;0m/opt/amazon/lib/python3.7/site-packages/urllib3/util/__init__.py\u001B[0m\u001B[1;38;2;0;135;0m)\u001B[0m\u001B[38;2;0;135;0m'\u001B[0m,   \u001B[2m               \u001B[0m\n",
       "\u001B[2;36m                    \u001B[0m         \u001B[38;2;0;135;0m'urllib3.util.ssl_ \u001B[0m                                                    \u001B[2m               \u001B[0m\n",
       "\u001B[2;36m                    \u001B[0m         \u001B[1;38;2;0;135;0m(\u001B[0m\u001B[38;2;0;135;0m/opt/amazon/lib/python3.7/site-packages/urllib3/util/ssl_.py\u001B[0m\u001B[1;38;2;0;135;0m)\u001B[0m\u001B[38;2;0;135;0m'\u001B[0m\u001B[1m]\u001B[0m.      \u001B[2m               \u001B[0m\n",
       "\u001B[2;36m                    \u001B[0m           \u001B[1;38;2;225;0;225mmonkey.patch_all\u001B[0m\u001B[1m(\u001B[0m\u001B[38;2;215;175;0msubprocess\u001B[0m=\u001B[3;38;2;0;135;0mTrue\u001B[0m\u001B[1m)\u001B[0m                                    \u001B[2m               \u001B[0m\n"
      ],
      "text/html": [
       "<pre style=\"white-space:pre;overflow-x:auto;line-height:normal;font-family:Menlo,'DejaVu Sans Mono',consolas,'Courier New',monospace\"><span style=\"color: #7fbfbf; text-decoration-color: #7fbfbf\">                    </span><span style=\"color: #0069ff; text-decoration-color: #0069ff; font-weight: bold\">INFO    </span> <span style=\"color: #e100e1; text-decoration-color: #e100e1\">/opt/amazon/lib/python3.7/site-packages/gunicorn/workers/ggevent.py</span>:<span style=\"color: #008080; text-decoration-color: #008080; font-weight: bold\">65</span> <a href=\"file:///Users/nargokul/workspace/sagemaker-python-sdk-staging/sagemaker-python-sdk-staging/src/sagemaker/session.py\" target=\"_blank\"><span style=\"color: #7f7f7f; text-decoration-color: #7f7f7f\">session.py</span></a><span style=\"color: #7f7f7f; text-decoration-color: #7f7f7f\">:</span><a href=\"file:///Users/nargokul/workspace/sagemaker-python-sdk-staging/sagemaker-python-sdk-staging/src/sagemaker/session.py#8308\" target=\"_blank\"><span style=\"color: #7f7f7f; text-decoration-color: #7f7f7f\">8308</span></a>\n",
       "<span style=\"color: #7fbfbf; text-decoration-color: #7fbfbf\">                    </span>         : MonkeyPatchWarning: Monkey-patching ssl after ssl has already been   <span style=\"color: #7f7f7f; text-decoration-color: #7f7f7f\">               </span>\n",
       "<span style=\"color: #7fbfbf; text-decoration-color: #7fbfbf\">                    </span>         imported may lead to errors, including RecursionError on Python <span style=\"color: #008080; text-decoration-color: #008080; font-weight: bold\">3.6</span>.   <span style=\"color: #7f7f7f; text-decoration-color: #7f7f7f\">               </span>\n",
       "<span style=\"color: #7fbfbf; text-decoration-color: #7fbfbf\">                    </span>         It may also silently lead to incorrect behaviour on Python <span style=\"color: #008080; text-decoration-color: #008080; font-weight: bold\">3.7</span>. Please <span style=\"color: #7f7f7f; text-decoration-color: #7f7f7f\">               </span>\n",
       "<span style=\"color: #7fbfbf; text-decoration-color: #7fbfbf\">                    </span>         monkey-patch earlier. See                                              <span style=\"color: #7f7f7f; text-decoration-color: #7f7f7f\">               </span>\n",
       "<span style=\"color: #7fbfbf; text-decoration-color: #7fbfbf\">                    </span>         <span style=\"color: #0069ff; text-decoration-color: #0069ff; text-decoration: underline\">https://github.com/gevent/gevent/issues/1016.</span> Modules that had direct  <span style=\"color: #7f7f7f; text-decoration-color: #7f7f7f\">               </span>\n",
       "<span style=\"color: #7fbfbf; text-decoration-color: #7fbfbf\">                    </span>         imports <span style=\"font-weight: bold\">(</span>NOT patched<span style=\"font-weight: bold\">)</span>: <span style=\"font-weight: bold\">[</span><span style=\"color: #008700; text-decoration-color: #008700\">'urllib3.util </span>                                 <span style=\"color: #7f7f7f; text-decoration-color: #7f7f7f\">               </span>\n",
       "<span style=\"color: #7fbfbf; text-decoration-color: #7fbfbf\">                    </span>         <span style=\"color: #008700; text-decoration-color: #008700; font-weight: bold\">(</span><span style=\"color: #008700; text-decoration-color: #008700\">/opt/amazon/lib/python3.7/site-packages/urllib3/util/__init__.py</span><span style=\"color: #008700; text-decoration-color: #008700; font-weight: bold\">)</span><span style=\"color: #008700; text-decoration-color: #008700\">'</span>,   <span style=\"color: #7f7f7f; text-decoration-color: #7f7f7f\">               </span>\n",
       "<span style=\"color: #7fbfbf; text-decoration-color: #7fbfbf\">                    </span>         <span style=\"color: #008700; text-decoration-color: #008700\">'urllib3.util.ssl_ </span>                                                    <span style=\"color: #7f7f7f; text-decoration-color: #7f7f7f\">               </span>\n",
       "<span style=\"color: #7fbfbf; text-decoration-color: #7fbfbf\">                    </span>         <span style=\"color: #008700; text-decoration-color: #008700; font-weight: bold\">(</span><span style=\"color: #008700; text-decoration-color: #008700\">/opt/amazon/lib/python3.7/site-packages/urllib3/util/ssl_.py</span><span style=\"color: #008700; text-decoration-color: #008700; font-weight: bold\">)</span><span style=\"color: #008700; text-decoration-color: #008700\">'</span><span style=\"font-weight: bold\">]</span>.      <span style=\"color: #7f7f7f; text-decoration-color: #7f7f7f\">               </span>\n",
       "<span style=\"color: #7fbfbf; text-decoration-color: #7fbfbf\">                    </span>           <span style=\"color: #e100e1; text-decoration-color: #e100e1; font-weight: bold\">monkey.patch_all</span><span style=\"font-weight: bold\">(</span><span style=\"color: #d7af00; text-decoration-color: #d7af00\">subprocess</span>=<span style=\"color: #008700; text-decoration-color: #008700; font-style: italic\">True</span><span style=\"font-weight: bold\">)</span>                                    <span style=\"color: #7f7f7f; text-decoration-color: #7f7f7f\">               </span>\n",
       "</pre>\n"
      ]
     },
     "metadata": {},
     "output_type": "display_data"
    },
    {
     "data": {
      "text/plain": [
       "\u001B[2;36m                   \u001B[0m\u001B[2;36m \u001B[0m\u001B[1;38;2;0;105;255mINFO    \u001B[0m \u001B[1m[\u001B[0m\u001B[1;36m2024\u001B[0m-\u001B[1;36m10\u001B[0m-30:20:20:51:INFO\u001B[1m]\u001B[0m Model loaded successfully for worker : \u001B[1;36m21\u001B[0m   \u001B]8;id=821756;file:///Users/nargokul/workspace/sagemaker-python-sdk-staging/sagemaker-python-sdk-staging/src/sagemaker/session.py\u001B\\\u001B[2msession.py\u001B[0m\u001B]8;;\u001B\\\u001B[2m:\u001B[0m\u001B]8;id=618499;file:///Users/nargokul/workspace/sagemaker-python-sdk-staging/sagemaker-python-sdk-staging/src/sagemaker/session.py#8308\u001B\\\u001B[2m8308\u001B[0m\u001B]8;;\u001B\\\n"
      ],
      "text/html": [
       "<pre style=\"white-space:pre;overflow-x:auto;line-height:normal;font-family:Menlo,'DejaVu Sans Mono',consolas,'Courier New',monospace\"><span style=\"color: #7fbfbf; text-decoration-color: #7fbfbf\">                    </span><span style=\"color: #0069ff; text-decoration-color: #0069ff; font-weight: bold\">INFO    </span> <span style=\"font-weight: bold\">[</span><span style=\"color: #008080; text-decoration-color: #008080; font-weight: bold\">2024</span>-<span style=\"color: #008080; text-decoration-color: #008080; font-weight: bold\">10</span>-30:20:20:51:INFO<span style=\"font-weight: bold\">]</span> Model loaded successfully for worker : <span style=\"color: #008080; text-decoration-color: #008080; font-weight: bold\">21</span>   <a href=\"file:///Users/nargokul/workspace/sagemaker-python-sdk-staging/sagemaker-python-sdk-staging/src/sagemaker/session.py\" target=\"_blank\"><span style=\"color: #7f7f7f; text-decoration-color: #7f7f7f\">session.py</span></a><span style=\"color: #7f7f7f; text-decoration-color: #7f7f7f\">:</span><a href=\"file:///Users/nargokul/workspace/sagemaker-python-sdk-staging/sagemaker-python-sdk-staging/src/sagemaker/session.py#8308\" target=\"_blank\"><span style=\"color: #7f7f7f; text-decoration-color: #7f7f7f\">8308</span></a>\n",
       "</pre>\n"
      ]
     },
     "metadata": {},
     "output_type": "display_data"
    },
    {
     "data": {
      "text/plain": [
       "\u001B[2;36m                   \u001B[0m\u001B[2;36m \u001B[0m\u001B[1;38;2;0;105;255mINFO    \u001B[0m \u001B[1m[\u001B[0m\u001B[1;36m2024\u001B[0m-\u001B[1;36m10\u001B[0m-\u001B[1;36m30\u001B[0m 20:20:51 +\u001B[1;36m0000\u001B[0m\u001B[1m]\u001B[0m \u001B[1m[\u001B[0m\u001B[1;36m22\u001B[0m\u001B[1m]\u001B[0m \u001B[1m[\u001B[0mINFO\u001B[1m]\u001B[0m Booting worker with pid: \u001B[1;36m22\u001B[0m    \u001B]8;id=839918;file:///Users/nargokul/workspace/sagemaker-python-sdk-staging/sagemaker-python-sdk-staging/src/sagemaker/session.py\u001B\\\u001B[2msession.py\u001B[0m\u001B]8;;\u001B\\\u001B[2m:\u001B[0m\u001B]8;id=464935;file:///Users/nargokul/workspace/sagemaker-python-sdk-staging/sagemaker-python-sdk-staging/src/sagemaker/session.py#8308\u001B\\\u001B[2m8308\u001B[0m\u001B]8;;\u001B\\\n"
      ],
      "text/html": [
       "<pre style=\"white-space:pre;overflow-x:auto;line-height:normal;font-family:Menlo,'DejaVu Sans Mono',consolas,'Courier New',monospace\"><span style=\"color: #7fbfbf; text-decoration-color: #7fbfbf\">                    </span><span style=\"color: #0069ff; text-decoration-color: #0069ff; font-weight: bold\">INFO    </span> <span style=\"font-weight: bold\">[</span><span style=\"color: #008080; text-decoration-color: #008080; font-weight: bold\">2024</span>-<span style=\"color: #008080; text-decoration-color: #008080; font-weight: bold\">10</span>-<span style=\"color: #008080; text-decoration-color: #008080; font-weight: bold\">30</span> 20:20:51 +<span style=\"color: #008080; text-decoration-color: #008080; font-weight: bold\">0000</span><span style=\"font-weight: bold\">]</span> <span style=\"font-weight: bold\">[</span><span style=\"color: #008080; text-decoration-color: #008080; font-weight: bold\">22</span><span style=\"font-weight: bold\">]</span> <span style=\"font-weight: bold\">[</span>INFO<span style=\"font-weight: bold\">]</span> Booting worker with pid: <span style=\"color: #008080; text-decoration-color: #008080; font-weight: bold\">22</span>    <a href=\"file:///Users/nargokul/workspace/sagemaker-python-sdk-staging/sagemaker-python-sdk-staging/src/sagemaker/session.py\" target=\"_blank\"><span style=\"color: #7f7f7f; text-decoration-color: #7f7f7f\">session.py</span></a><span style=\"color: #7f7f7f; text-decoration-color: #7f7f7f\">:</span><a href=\"file:///Users/nargokul/workspace/sagemaker-python-sdk-staging/sagemaker-python-sdk-staging/src/sagemaker/session.py#8308\" target=\"_blank\"><span style=\"color: #7f7f7f; text-decoration-color: #7f7f7f\">8308</span></a>\n",
       "</pre>\n"
      ]
     },
     "metadata": {},
     "output_type": "display_data"
    },
    {
     "data": {
      "text/plain": [
       "\u001B[2;36m                   \u001B[0m\u001B[2;36m \u001B[0m\u001B[1;38;2;0;105;255mINFO    \u001B[0m \u001B[38;2;225;0;225m/opt/amazon/lib/python3.7/site-packages/gunicorn/workers/\u001B[0m\u001B[38;2;225;0;225mggevent.py\u001B[0m:\u001B[1;36m65\u001B[0m \u001B]8;id=401368;file:///Users/nargokul/workspace/sagemaker-python-sdk-staging/sagemaker-python-sdk-staging/src/sagemaker/session.py\u001B\\\u001B[2msession.py\u001B[0m\u001B]8;;\u001B\\\u001B[2m:\u001B[0m\u001B]8;id=530734;file:///Users/nargokul/workspace/sagemaker-python-sdk-staging/sagemaker-python-sdk-staging/src/sagemaker/session.py#8308\u001B\\\u001B[2m8308\u001B[0m\u001B]8;;\u001B\\\n",
       "\u001B[2;36m                    \u001B[0m         : MonkeyPatchWarning: Monkey-patching ssl after ssl has already been   \u001B[2m               \u001B[0m\n",
       "\u001B[2;36m                    \u001B[0m         imported may lead to errors, including RecursionError on Python \u001B[1;36m3.6\u001B[0m.   \u001B[2m               \u001B[0m\n",
       "\u001B[2;36m                    \u001B[0m         It may also silently lead to incorrect behaviour on Python \u001B[1;36m3.7\u001B[0m. Please \u001B[2m               \u001B[0m\n",
       "\u001B[2;36m                    \u001B[0m         monkey-patch earlier. See                                              \u001B[2m               \u001B[0m\n",
       "\u001B[2;36m                    \u001B[0m         \u001B[4;38;2;0;105;255mhttps://github.com/gevent/gevent/issues/1016.\u001B[0m Modules that had direct  \u001B[2m               \u001B[0m\n",
       "\u001B[2;36m                    \u001B[0m         imports \u001B[1m(\u001B[0mNOT patched\u001B[1m)\u001B[0m: \u001B[1m[\u001B[0m\u001B[38;2;0;135;0m'urllib3.util \u001B[0m                                 \u001B[2m               \u001B[0m\n",
       "\u001B[2;36m                    \u001B[0m         \u001B[1;38;2;0;135;0m(\u001B[0m\u001B[38;2;0;135;0m/opt/amazon/lib/python3.7/site-packages/urllib3/util/__init__.py\u001B[0m\u001B[1;38;2;0;135;0m)\u001B[0m\u001B[38;2;0;135;0m'\u001B[0m,   \u001B[2m               \u001B[0m\n",
       "\u001B[2;36m                    \u001B[0m         \u001B[38;2;0;135;0m'urllib3.util.ssl_ \u001B[0m                                                    \u001B[2m               \u001B[0m\n",
       "\u001B[2;36m                    \u001B[0m         \u001B[1;38;2;0;135;0m(\u001B[0m\u001B[38;2;0;135;0m/opt/amazon/lib/python3.7/site-packages/urllib3/util/ssl_.py\u001B[0m\u001B[1;38;2;0;135;0m)\u001B[0m\u001B[38;2;0;135;0m'\u001B[0m\u001B[1m]\u001B[0m.      \u001B[2m               \u001B[0m\n",
       "\u001B[2;36m                    \u001B[0m           \u001B[1;38;2;225;0;225mmonkey.patch_all\u001B[0m\u001B[1m(\u001B[0m\u001B[38;2;215;175;0msubprocess\u001B[0m=\u001B[3;38;2;0;135;0mTrue\u001B[0m\u001B[1m)\u001B[0m                                    \u001B[2m               \u001B[0m\n"
      ],
      "text/html": [
       "<pre style=\"white-space:pre;overflow-x:auto;line-height:normal;font-family:Menlo,'DejaVu Sans Mono',consolas,'Courier New',monospace\"><span style=\"color: #7fbfbf; text-decoration-color: #7fbfbf\">                    </span><span style=\"color: #0069ff; text-decoration-color: #0069ff; font-weight: bold\">INFO    </span> <span style=\"color: #e100e1; text-decoration-color: #e100e1\">/opt/amazon/lib/python3.7/site-packages/gunicorn/workers/ggevent.py</span>:<span style=\"color: #008080; text-decoration-color: #008080; font-weight: bold\">65</span> <a href=\"file:///Users/nargokul/workspace/sagemaker-python-sdk-staging/sagemaker-python-sdk-staging/src/sagemaker/session.py\" target=\"_blank\"><span style=\"color: #7f7f7f; text-decoration-color: #7f7f7f\">session.py</span></a><span style=\"color: #7f7f7f; text-decoration-color: #7f7f7f\">:</span><a href=\"file:///Users/nargokul/workspace/sagemaker-python-sdk-staging/sagemaker-python-sdk-staging/src/sagemaker/session.py#8308\" target=\"_blank\"><span style=\"color: #7f7f7f; text-decoration-color: #7f7f7f\">8308</span></a>\n",
       "<span style=\"color: #7fbfbf; text-decoration-color: #7fbfbf\">                    </span>         : MonkeyPatchWarning: Monkey-patching ssl after ssl has already been   <span style=\"color: #7f7f7f; text-decoration-color: #7f7f7f\">               </span>\n",
       "<span style=\"color: #7fbfbf; text-decoration-color: #7fbfbf\">                    </span>         imported may lead to errors, including RecursionError on Python <span style=\"color: #008080; text-decoration-color: #008080; font-weight: bold\">3.6</span>.   <span style=\"color: #7f7f7f; text-decoration-color: #7f7f7f\">               </span>\n",
       "<span style=\"color: #7fbfbf; text-decoration-color: #7fbfbf\">                    </span>         It may also silently lead to incorrect behaviour on Python <span style=\"color: #008080; text-decoration-color: #008080; font-weight: bold\">3.7</span>. Please <span style=\"color: #7f7f7f; text-decoration-color: #7f7f7f\">               </span>\n",
       "<span style=\"color: #7fbfbf; text-decoration-color: #7fbfbf\">                    </span>         monkey-patch earlier. See                                              <span style=\"color: #7f7f7f; text-decoration-color: #7f7f7f\">               </span>\n",
       "<span style=\"color: #7fbfbf; text-decoration-color: #7fbfbf\">                    </span>         <span style=\"color: #0069ff; text-decoration-color: #0069ff; text-decoration: underline\">https://github.com/gevent/gevent/issues/1016.</span> Modules that had direct  <span style=\"color: #7f7f7f; text-decoration-color: #7f7f7f\">               </span>\n",
       "<span style=\"color: #7fbfbf; text-decoration-color: #7fbfbf\">                    </span>         imports <span style=\"font-weight: bold\">(</span>NOT patched<span style=\"font-weight: bold\">)</span>: <span style=\"font-weight: bold\">[</span><span style=\"color: #008700; text-decoration-color: #008700\">'urllib3.util </span>                                 <span style=\"color: #7f7f7f; text-decoration-color: #7f7f7f\">               </span>\n",
       "<span style=\"color: #7fbfbf; text-decoration-color: #7fbfbf\">                    </span>         <span style=\"color: #008700; text-decoration-color: #008700; font-weight: bold\">(</span><span style=\"color: #008700; text-decoration-color: #008700\">/opt/amazon/lib/python3.7/site-packages/urllib3/util/__init__.py</span><span style=\"color: #008700; text-decoration-color: #008700; font-weight: bold\">)</span><span style=\"color: #008700; text-decoration-color: #008700\">'</span>,   <span style=\"color: #7f7f7f; text-decoration-color: #7f7f7f\">               </span>\n",
       "<span style=\"color: #7fbfbf; text-decoration-color: #7fbfbf\">                    </span>         <span style=\"color: #008700; text-decoration-color: #008700\">'urllib3.util.ssl_ </span>                                                    <span style=\"color: #7f7f7f; text-decoration-color: #7f7f7f\">               </span>\n",
       "<span style=\"color: #7fbfbf; text-decoration-color: #7fbfbf\">                    </span>         <span style=\"color: #008700; text-decoration-color: #008700; font-weight: bold\">(</span><span style=\"color: #008700; text-decoration-color: #008700\">/opt/amazon/lib/python3.7/site-packages/urllib3/util/ssl_.py</span><span style=\"color: #008700; text-decoration-color: #008700; font-weight: bold\">)</span><span style=\"color: #008700; text-decoration-color: #008700\">'</span><span style=\"font-weight: bold\">]</span>.      <span style=\"color: #7f7f7f; text-decoration-color: #7f7f7f\">               </span>\n",
       "<span style=\"color: #7fbfbf; text-decoration-color: #7fbfbf\">                    </span>           <span style=\"color: #e100e1; text-decoration-color: #e100e1; font-weight: bold\">monkey.patch_all</span><span style=\"font-weight: bold\">(</span><span style=\"color: #d7af00; text-decoration-color: #d7af00\">subprocess</span>=<span style=\"color: #008700; text-decoration-color: #008700; font-style: italic\">True</span><span style=\"font-weight: bold\">)</span>                                    <span style=\"color: #7f7f7f; text-decoration-color: #7f7f7f\">               </span>\n",
       "</pre>\n"
      ]
     },
     "metadata": {},
     "output_type": "display_data"
    },
    {
     "data": {
      "text/plain": [
       "\u001B[2;36m                   \u001B[0m\u001B[2;36m \u001B[0m\u001B[1;38;2;0;105;255mINFO    \u001B[0m \u001B[1m[\u001B[0m\u001B[1;36m2024\u001B[0m-\u001B[1;36m10\u001B[0m-30:20:20:51:INFO\u001B[1m]\u001B[0m Model loaded successfully for worker : \u001B[1;36m22\u001B[0m   \u001B]8;id=539268;file:///Users/nargokul/workspace/sagemaker-python-sdk-staging/sagemaker-python-sdk-staging/src/sagemaker/session.py\u001B\\\u001B[2msession.py\u001B[0m\u001B]8;;\u001B\\\u001B[2m:\u001B[0m\u001B]8;id=580181;file:///Users/nargokul/workspace/sagemaker-python-sdk-staging/sagemaker-python-sdk-staging/src/sagemaker/session.py#8308\u001B\\\u001B[2m8308\u001B[0m\u001B]8;;\u001B\\\n"
      ],
      "text/html": [
       "<pre style=\"white-space:pre;overflow-x:auto;line-height:normal;font-family:Menlo,'DejaVu Sans Mono',consolas,'Courier New',monospace\"><span style=\"color: #7fbfbf; text-decoration-color: #7fbfbf\">                    </span><span style=\"color: #0069ff; text-decoration-color: #0069ff; font-weight: bold\">INFO    </span> <span style=\"font-weight: bold\">[</span><span style=\"color: #008080; text-decoration-color: #008080; font-weight: bold\">2024</span>-<span style=\"color: #008080; text-decoration-color: #008080; font-weight: bold\">10</span>-30:20:20:51:INFO<span style=\"font-weight: bold\">]</span> Model loaded successfully for worker : <span style=\"color: #008080; text-decoration-color: #008080; font-weight: bold\">22</span>   <a href=\"file:///Users/nargokul/workspace/sagemaker-python-sdk-staging/sagemaker-python-sdk-staging/src/sagemaker/session.py\" target=\"_blank\"><span style=\"color: #7f7f7f; text-decoration-color: #7f7f7f\">session.py</span></a><span style=\"color: #7f7f7f; text-decoration-color: #7f7f7f\">:</span><a href=\"file:///Users/nargokul/workspace/sagemaker-python-sdk-staging/sagemaker-python-sdk-staging/src/sagemaker/session.py#8308\" target=\"_blank\"><span style=\"color: #7f7f7f; text-decoration-color: #7f7f7f\">8308</span></a>\n",
       "</pre>\n"
      ]
     },
     "metadata": {},
     "output_type": "display_data"
    },
    {
     "data": {
      "text/plain": [
       "\u001B[2;36m                   \u001B[0m\u001B[2;36m \u001B[0m\u001B[1;38;2;0;105;255mINFO    \u001B[0m \u001B[1m[\u001B[0m\u001B[1;36m2024\u001B[0m-\u001B[1;36m10\u001B[0m-\u001B[1;36m30\u001B[0m 20:20:51 +\u001B[1;36m0000\u001B[0m\u001B[1m]\u001B[0m \u001B[1m[\u001B[0m\u001B[1;36m23\u001B[0m\u001B[1m]\u001B[0m \u001B[1m[\u001B[0mINFO\u001B[1m]\u001B[0m Booting worker with pid: \u001B[1;36m23\u001B[0m    \u001B]8;id=927105;file:///Users/nargokul/workspace/sagemaker-python-sdk-staging/sagemaker-python-sdk-staging/src/sagemaker/session.py\u001B\\\u001B[2msession.py\u001B[0m\u001B]8;;\u001B\\\u001B[2m:\u001B[0m\u001B]8;id=974327;file:///Users/nargokul/workspace/sagemaker-python-sdk-staging/sagemaker-python-sdk-staging/src/sagemaker/session.py#8308\u001B\\\u001B[2m8308\u001B[0m\u001B]8;;\u001B\\\n"
      ],
      "text/html": [
       "<pre style=\"white-space:pre;overflow-x:auto;line-height:normal;font-family:Menlo,'DejaVu Sans Mono',consolas,'Courier New',monospace\"><span style=\"color: #7fbfbf; text-decoration-color: #7fbfbf\">                    </span><span style=\"color: #0069ff; text-decoration-color: #0069ff; font-weight: bold\">INFO    </span> <span style=\"font-weight: bold\">[</span><span style=\"color: #008080; text-decoration-color: #008080; font-weight: bold\">2024</span>-<span style=\"color: #008080; text-decoration-color: #008080; font-weight: bold\">10</span>-<span style=\"color: #008080; text-decoration-color: #008080; font-weight: bold\">30</span> 20:20:51 +<span style=\"color: #008080; text-decoration-color: #008080; font-weight: bold\">0000</span><span style=\"font-weight: bold\">]</span> <span style=\"font-weight: bold\">[</span><span style=\"color: #008080; text-decoration-color: #008080; font-weight: bold\">23</span><span style=\"font-weight: bold\">]</span> <span style=\"font-weight: bold\">[</span>INFO<span style=\"font-weight: bold\">]</span> Booting worker with pid: <span style=\"color: #008080; text-decoration-color: #008080; font-weight: bold\">23</span>    <a href=\"file:///Users/nargokul/workspace/sagemaker-python-sdk-staging/sagemaker-python-sdk-staging/src/sagemaker/session.py\" target=\"_blank\"><span style=\"color: #7f7f7f; text-decoration-color: #7f7f7f\">session.py</span></a><span style=\"color: #7f7f7f; text-decoration-color: #7f7f7f\">:</span><a href=\"file:///Users/nargokul/workspace/sagemaker-python-sdk-staging/sagemaker-python-sdk-staging/src/sagemaker/session.py#8308\" target=\"_blank\"><span style=\"color: #7f7f7f; text-decoration-color: #7f7f7f\">8308</span></a>\n",
       "</pre>\n"
      ]
     },
     "metadata": {},
     "output_type": "display_data"
    },
    {
     "data": {
      "text/plain": [
       "\u001B[2;36m                   \u001B[0m\u001B[2;36m \u001B[0m\u001B[1;38;2;0;105;255mINFO    \u001B[0m \u001B[38;2;225;0;225m/opt/amazon/lib/python3.7/site-packages/gunicorn/workers/\u001B[0m\u001B[38;2;225;0;225mggevent.py\u001B[0m:\u001B[1;36m65\u001B[0m \u001B]8;id=206226;file:///Users/nargokul/workspace/sagemaker-python-sdk-staging/sagemaker-python-sdk-staging/src/sagemaker/session.py\u001B\\\u001B[2msession.py\u001B[0m\u001B]8;;\u001B\\\u001B[2m:\u001B[0m\u001B]8;id=154863;file:///Users/nargokul/workspace/sagemaker-python-sdk-staging/sagemaker-python-sdk-staging/src/sagemaker/session.py#8308\u001B\\\u001B[2m8308\u001B[0m\u001B]8;;\u001B\\\n",
       "\u001B[2;36m                    \u001B[0m         : MonkeyPatchWarning: Monkey-patching ssl after ssl has already been   \u001B[2m               \u001B[0m\n",
       "\u001B[2;36m                    \u001B[0m         imported may lead to errors, including RecursionError on Python \u001B[1;36m3.6\u001B[0m.   \u001B[2m               \u001B[0m\n",
       "\u001B[2;36m                    \u001B[0m         It may also silently lead to incorrect behaviour on Python \u001B[1;36m3.7\u001B[0m. Please \u001B[2m               \u001B[0m\n",
       "\u001B[2;36m                    \u001B[0m         monkey-patch earlier. See                                              \u001B[2m               \u001B[0m\n",
       "\u001B[2;36m                    \u001B[0m         \u001B[4;38;2;0;105;255mhttps://github.com/gevent/gevent/issues/1016.\u001B[0m Modules that had direct  \u001B[2m               \u001B[0m\n",
       "\u001B[2;36m                    \u001B[0m         imports \u001B[1m(\u001B[0mNOT patched\u001B[1m)\u001B[0m: \u001B[1m[\u001B[0m\u001B[38;2;0;135;0m'urllib3.util \u001B[0m                                 \u001B[2m               \u001B[0m\n",
       "\u001B[2;36m                    \u001B[0m         \u001B[1;38;2;0;135;0m(\u001B[0m\u001B[38;2;0;135;0m/opt/amazon/lib/python3.7/site-packages/urllib3/util/__init__.py\u001B[0m\u001B[1;38;2;0;135;0m)\u001B[0m\u001B[38;2;0;135;0m'\u001B[0m,   \u001B[2m               \u001B[0m\n",
       "\u001B[2;36m                    \u001B[0m         \u001B[38;2;0;135;0m'urllib3.util.ssl_ \u001B[0m                                                    \u001B[2m               \u001B[0m\n",
       "\u001B[2;36m                    \u001B[0m         \u001B[1;38;2;0;135;0m(\u001B[0m\u001B[38;2;0;135;0m/opt/amazon/lib/python3.7/site-packages/urllib3/util/ssl_.py\u001B[0m\u001B[1;38;2;0;135;0m)\u001B[0m\u001B[38;2;0;135;0m'\u001B[0m\u001B[1m]\u001B[0m.      \u001B[2m               \u001B[0m\n",
       "\u001B[2;36m                    \u001B[0m           \u001B[1;38;2;225;0;225mmonkey.patch_all\u001B[0m\u001B[1m(\u001B[0m\u001B[38;2;215;175;0msubprocess\u001B[0m=\u001B[3;38;2;0;135;0mTrue\u001B[0m\u001B[1m)\u001B[0m                                    \u001B[2m               \u001B[0m\n"
      ],
      "text/html": [
       "<pre style=\"white-space:pre;overflow-x:auto;line-height:normal;font-family:Menlo,'DejaVu Sans Mono',consolas,'Courier New',monospace\"><span style=\"color: #7fbfbf; text-decoration-color: #7fbfbf\">                    </span><span style=\"color: #0069ff; text-decoration-color: #0069ff; font-weight: bold\">INFO    </span> <span style=\"color: #e100e1; text-decoration-color: #e100e1\">/opt/amazon/lib/python3.7/site-packages/gunicorn/workers/ggevent.py</span>:<span style=\"color: #008080; text-decoration-color: #008080; font-weight: bold\">65</span> <a href=\"file:///Users/nargokul/workspace/sagemaker-python-sdk-staging/sagemaker-python-sdk-staging/src/sagemaker/session.py\" target=\"_blank\"><span style=\"color: #7f7f7f; text-decoration-color: #7f7f7f\">session.py</span></a><span style=\"color: #7f7f7f; text-decoration-color: #7f7f7f\">:</span><a href=\"file:///Users/nargokul/workspace/sagemaker-python-sdk-staging/sagemaker-python-sdk-staging/src/sagemaker/session.py#8308\" target=\"_blank\"><span style=\"color: #7f7f7f; text-decoration-color: #7f7f7f\">8308</span></a>\n",
       "<span style=\"color: #7fbfbf; text-decoration-color: #7fbfbf\">                    </span>         : MonkeyPatchWarning: Monkey-patching ssl after ssl has already been   <span style=\"color: #7f7f7f; text-decoration-color: #7f7f7f\">               </span>\n",
       "<span style=\"color: #7fbfbf; text-decoration-color: #7fbfbf\">                    </span>         imported may lead to errors, including RecursionError on Python <span style=\"color: #008080; text-decoration-color: #008080; font-weight: bold\">3.6</span>.   <span style=\"color: #7f7f7f; text-decoration-color: #7f7f7f\">               </span>\n",
       "<span style=\"color: #7fbfbf; text-decoration-color: #7fbfbf\">                    </span>         It may also silently lead to incorrect behaviour on Python <span style=\"color: #008080; text-decoration-color: #008080; font-weight: bold\">3.7</span>. Please <span style=\"color: #7f7f7f; text-decoration-color: #7f7f7f\">               </span>\n",
       "<span style=\"color: #7fbfbf; text-decoration-color: #7fbfbf\">                    </span>         monkey-patch earlier. See                                              <span style=\"color: #7f7f7f; text-decoration-color: #7f7f7f\">               </span>\n",
       "<span style=\"color: #7fbfbf; text-decoration-color: #7fbfbf\">                    </span>         <span style=\"color: #0069ff; text-decoration-color: #0069ff; text-decoration: underline\">https://github.com/gevent/gevent/issues/1016.</span> Modules that had direct  <span style=\"color: #7f7f7f; text-decoration-color: #7f7f7f\">               </span>\n",
       "<span style=\"color: #7fbfbf; text-decoration-color: #7fbfbf\">                    </span>         imports <span style=\"font-weight: bold\">(</span>NOT patched<span style=\"font-weight: bold\">)</span>: <span style=\"font-weight: bold\">[</span><span style=\"color: #008700; text-decoration-color: #008700\">'urllib3.util </span>                                 <span style=\"color: #7f7f7f; text-decoration-color: #7f7f7f\">               </span>\n",
       "<span style=\"color: #7fbfbf; text-decoration-color: #7fbfbf\">                    </span>         <span style=\"color: #008700; text-decoration-color: #008700; font-weight: bold\">(</span><span style=\"color: #008700; text-decoration-color: #008700\">/opt/amazon/lib/python3.7/site-packages/urllib3/util/__init__.py</span><span style=\"color: #008700; text-decoration-color: #008700; font-weight: bold\">)</span><span style=\"color: #008700; text-decoration-color: #008700\">'</span>,   <span style=\"color: #7f7f7f; text-decoration-color: #7f7f7f\">               </span>\n",
       "<span style=\"color: #7fbfbf; text-decoration-color: #7fbfbf\">                    </span>         <span style=\"color: #008700; text-decoration-color: #008700\">'urllib3.util.ssl_ </span>                                                    <span style=\"color: #7f7f7f; text-decoration-color: #7f7f7f\">               </span>\n",
       "<span style=\"color: #7fbfbf; text-decoration-color: #7fbfbf\">                    </span>         <span style=\"color: #008700; text-decoration-color: #008700; font-weight: bold\">(</span><span style=\"color: #008700; text-decoration-color: #008700\">/opt/amazon/lib/python3.7/site-packages/urllib3/util/ssl_.py</span><span style=\"color: #008700; text-decoration-color: #008700; font-weight: bold\">)</span><span style=\"color: #008700; text-decoration-color: #008700\">'</span><span style=\"font-weight: bold\">]</span>.      <span style=\"color: #7f7f7f; text-decoration-color: #7f7f7f\">               </span>\n",
       "<span style=\"color: #7fbfbf; text-decoration-color: #7fbfbf\">                    </span>           <span style=\"color: #e100e1; text-decoration-color: #e100e1; font-weight: bold\">monkey.patch_all</span><span style=\"font-weight: bold\">(</span><span style=\"color: #d7af00; text-decoration-color: #d7af00\">subprocess</span>=<span style=\"color: #008700; text-decoration-color: #008700; font-style: italic\">True</span><span style=\"font-weight: bold\">)</span>                                    <span style=\"color: #7f7f7f; text-decoration-color: #7f7f7f\">               </span>\n",
       "</pre>\n"
      ]
     },
     "metadata": {},
     "output_type": "display_data"
    },
    {
     "data": {
      "text/plain": [
       "\u001B[2;36m                   \u001B[0m\u001B[2;36m \u001B[0m\u001B[1;38;2;0;105;255mINFO    \u001B[0m \u001B[1m[\u001B[0m\u001B[1;36m2024\u001B[0m-\u001B[1;36m10\u001B[0m-30:20:20:51:INFO\u001B[1m]\u001B[0m Model loaded successfully for worker : \u001B[1;36m23\u001B[0m   \u001B]8;id=892101;file:///Users/nargokul/workspace/sagemaker-python-sdk-staging/sagemaker-python-sdk-staging/src/sagemaker/session.py\u001B\\\u001B[2msession.py\u001B[0m\u001B]8;;\u001B\\\u001B[2m:\u001B[0m\u001B]8;id=519664;file:///Users/nargokul/workspace/sagemaker-python-sdk-staging/sagemaker-python-sdk-staging/src/sagemaker/session.py#8308\u001B\\\u001B[2m8308\u001B[0m\u001B]8;;\u001B\\\n"
      ],
      "text/html": [
       "<pre style=\"white-space:pre;overflow-x:auto;line-height:normal;font-family:Menlo,'DejaVu Sans Mono',consolas,'Courier New',monospace\"><span style=\"color: #7fbfbf; text-decoration-color: #7fbfbf\">                    </span><span style=\"color: #0069ff; text-decoration-color: #0069ff; font-weight: bold\">INFO    </span> <span style=\"font-weight: bold\">[</span><span style=\"color: #008080; text-decoration-color: #008080; font-weight: bold\">2024</span>-<span style=\"color: #008080; text-decoration-color: #008080; font-weight: bold\">10</span>-30:20:20:51:INFO<span style=\"font-weight: bold\">]</span> Model loaded successfully for worker : <span style=\"color: #008080; text-decoration-color: #008080; font-weight: bold\">23</span>   <a href=\"file:///Users/nargokul/workspace/sagemaker-python-sdk-staging/sagemaker-python-sdk-staging/src/sagemaker/session.py\" target=\"_blank\"><span style=\"color: #7f7f7f; text-decoration-color: #7f7f7f\">session.py</span></a><span style=\"color: #7f7f7f; text-decoration-color: #7f7f7f\">:</span><a href=\"file:///Users/nargokul/workspace/sagemaker-python-sdk-staging/sagemaker-python-sdk-staging/src/sagemaker/session.py#8308\" target=\"_blank\"><span style=\"color: #7f7f7f; text-decoration-color: #7f7f7f\">8308</span></a>\n",
       "</pre>\n"
      ]
     },
     "metadata": {},
     "output_type": "display_data"
    },
    {
     "data": {
      "text/plain": [
       "\u001B[2;36m                   \u001B[0m\u001B[2;36m \u001B[0m\u001B[1;38;2;0;105;255mINFO    \u001B[0m \u001B[1m[\u001B[0m\u001B[1;36m2024\u001B[0m-\u001B[1;36m10\u001B[0m-\u001B[1;36m30\u001B[0m 20:20:51 +\u001B[1;36m0000\u001B[0m\u001B[1m]\u001B[0m \u001B[1m[\u001B[0m\u001B[1;36m24\u001B[0m\u001B[1m]\u001B[0m \u001B[1m[\u001B[0mINFO\u001B[1m]\u001B[0m Booting worker with pid: \u001B[1;36m24\u001B[0m    \u001B]8;id=564172;file:///Users/nargokul/workspace/sagemaker-python-sdk-staging/sagemaker-python-sdk-staging/src/sagemaker/session.py\u001B\\\u001B[2msession.py\u001B[0m\u001B]8;;\u001B\\\u001B[2m:\u001B[0m\u001B]8;id=217009;file:///Users/nargokul/workspace/sagemaker-python-sdk-staging/sagemaker-python-sdk-staging/src/sagemaker/session.py#8308\u001B\\\u001B[2m8308\u001B[0m\u001B]8;;\u001B\\\n"
      ],
      "text/html": [
       "<pre style=\"white-space:pre;overflow-x:auto;line-height:normal;font-family:Menlo,'DejaVu Sans Mono',consolas,'Courier New',monospace\"><span style=\"color: #7fbfbf; text-decoration-color: #7fbfbf\">                    </span><span style=\"color: #0069ff; text-decoration-color: #0069ff; font-weight: bold\">INFO    </span> <span style=\"font-weight: bold\">[</span><span style=\"color: #008080; text-decoration-color: #008080; font-weight: bold\">2024</span>-<span style=\"color: #008080; text-decoration-color: #008080; font-weight: bold\">10</span>-<span style=\"color: #008080; text-decoration-color: #008080; font-weight: bold\">30</span> 20:20:51 +<span style=\"color: #008080; text-decoration-color: #008080; font-weight: bold\">0000</span><span style=\"font-weight: bold\">]</span> <span style=\"font-weight: bold\">[</span><span style=\"color: #008080; text-decoration-color: #008080; font-weight: bold\">24</span><span style=\"font-weight: bold\">]</span> <span style=\"font-weight: bold\">[</span>INFO<span style=\"font-weight: bold\">]</span> Booting worker with pid: <span style=\"color: #008080; text-decoration-color: #008080; font-weight: bold\">24</span>    <a href=\"file:///Users/nargokul/workspace/sagemaker-python-sdk-staging/sagemaker-python-sdk-staging/src/sagemaker/session.py\" target=\"_blank\"><span style=\"color: #7f7f7f; text-decoration-color: #7f7f7f\">session.py</span></a><span style=\"color: #7f7f7f; text-decoration-color: #7f7f7f\">:</span><a href=\"file:///Users/nargokul/workspace/sagemaker-python-sdk-staging/sagemaker-python-sdk-staging/src/sagemaker/session.py#8308\" target=\"_blank\"><span style=\"color: #7f7f7f; text-decoration-color: #7f7f7f\">8308</span></a>\n",
       "</pre>\n"
      ]
     },
     "metadata": {},
     "output_type": "display_data"
    },
    {
     "data": {
      "text/plain": [
       "\u001B[2;36m                   \u001B[0m\u001B[2;36m \u001B[0m\u001B[1;38;2;0;105;255mINFO    \u001B[0m \u001B[38;2;225;0;225m/opt/amazon/lib/python3.7/site-packages/gunicorn/workers/\u001B[0m\u001B[38;2;225;0;225mggevent.py\u001B[0m:\u001B[1;36m65\u001B[0m \u001B]8;id=669354;file:///Users/nargokul/workspace/sagemaker-python-sdk-staging/sagemaker-python-sdk-staging/src/sagemaker/session.py\u001B\\\u001B[2msession.py\u001B[0m\u001B]8;;\u001B\\\u001B[2m:\u001B[0m\u001B]8;id=873117;file:///Users/nargokul/workspace/sagemaker-python-sdk-staging/sagemaker-python-sdk-staging/src/sagemaker/session.py#8308\u001B\\\u001B[2m8308\u001B[0m\u001B]8;;\u001B\\\n",
       "\u001B[2;36m                    \u001B[0m         : MonkeyPatchWarning: Monkey-patching ssl after ssl has already been   \u001B[2m               \u001B[0m\n",
       "\u001B[2;36m                    \u001B[0m         imported may lead to errors, including RecursionError on Python \u001B[1;36m3.6\u001B[0m.   \u001B[2m               \u001B[0m\n",
       "\u001B[2;36m                    \u001B[0m         It may also silently lead to incorrect behaviour on Python \u001B[1;36m3.7\u001B[0m. Please \u001B[2m               \u001B[0m\n",
       "\u001B[2;36m                    \u001B[0m         monkey-patch earlier. See                                              \u001B[2m               \u001B[0m\n",
       "\u001B[2;36m                    \u001B[0m         \u001B[4;38;2;0;105;255mhttps://github.com/gevent/gevent/issues/1016.\u001B[0m Modules that had direct  \u001B[2m               \u001B[0m\n",
       "\u001B[2;36m                    \u001B[0m         imports \u001B[1m(\u001B[0mNOT patched\u001B[1m)\u001B[0m: \u001B[1m[\u001B[0m\u001B[38;2;0;135;0m'urllib3.util \u001B[0m                                 \u001B[2m               \u001B[0m\n",
       "\u001B[2;36m                    \u001B[0m         \u001B[1;38;2;0;135;0m(\u001B[0m\u001B[38;2;0;135;0m/opt/amazon/lib/python3.7/site-packages/urllib3/util/__init__.py\u001B[0m\u001B[1;38;2;0;135;0m)\u001B[0m\u001B[38;2;0;135;0m'\u001B[0m,   \u001B[2m               \u001B[0m\n",
       "\u001B[2;36m                    \u001B[0m         \u001B[38;2;0;135;0m'urllib3.util.ssl_ \u001B[0m                                                    \u001B[2m               \u001B[0m\n",
       "\u001B[2;36m                    \u001B[0m         \u001B[1;38;2;0;135;0m(\u001B[0m\u001B[38;2;0;135;0m/opt/amazon/lib/python3.7/site-packages/urllib3/util/ssl_.py\u001B[0m\u001B[1;38;2;0;135;0m)\u001B[0m\u001B[38;2;0;135;0m'\u001B[0m\u001B[1m]\u001B[0m.      \u001B[2m               \u001B[0m\n",
       "\u001B[2;36m                    \u001B[0m           \u001B[1;38;2;225;0;225mmonkey.patch_all\u001B[0m\u001B[1m(\u001B[0m\u001B[38;2;215;175;0msubprocess\u001B[0m=\u001B[3;38;2;0;135;0mTrue\u001B[0m\u001B[1m)\u001B[0m                                    \u001B[2m               \u001B[0m\n"
      ],
      "text/html": [
       "<pre style=\"white-space:pre;overflow-x:auto;line-height:normal;font-family:Menlo,'DejaVu Sans Mono',consolas,'Courier New',monospace\"><span style=\"color: #7fbfbf; text-decoration-color: #7fbfbf\">                    </span><span style=\"color: #0069ff; text-decoration-color: #0069ff; font-weight: bold\">INFO    </span> <span style=\"color: #e100e1; text-decoration-color: #e100e1\">/opt/amazon/lib/python3.7/site-packages/gunicorn/workers/ggevent.py</span>:<span style=\"color: #008080; text-decoration-color: #008080; font-weight: bold\">65</span> <a href=\"file:///Users/nargokul/workspace/sagemaker-python-sdk-staging/sagemaker-python-sdk-staging/src/sagemaker/session.py\" target=\"_blank\"><span style=\"color: #7f7f7f; text-decoration-color: #7f7f7f\">session.py</span></a><span style=\"color: #7f7f7f; text-decoration-color: #7f7f7f\">:</span><a href=\"file:///Users/nargokul/workspace/sagemaker-python-sdk-staging/sagemaker-python-sdk-staging/src/sagemaker/session.py#8308\" target=\"_blank\"><span style=\"color: #7f7f7f; text-decoration-color: #7f7f7f\">8308</span></a>\n",
       "<span style=\"color: #7fbfbf; text-decoration-color: #7fbfbf\">                    </span>         : MonkeyPatchWarning: Monkey-patching ssl after ssl has already been   <span style=\"color: #7f7f7f; text-decoration-color: #7f7f7f\">               </span>\n",
       "<span style=\"color: #7fbfbf; text-decoration-color: #7fbfbf\">                    </span>         imported may lead to errors, including RecursionError on Python <span style=\"color: #008080; text-decoration-color: #008080; font-weight: bold\">3.6</span>.   <span style=\"color: #7f7f7f; text-decoration-color: #7f7f7f\">               </span>\n",
       "<span style=\"color: #7fbfbf; text-decoration-color: #7fbfbf\">                    </span>         It may also silently lead to incorrect behaviour on Python <span style=\"color: #008080; text-decoration-color: #008080; font-weight: bold\">3.7</span>. Please <span style=\"color: #7f7f7f; text-decoration-color: #7f7f7f\">               </span>\n",
       "<span style=\"color: #7fbfbf; text-decoration-color: #7fbfbf\">                    </span>         monkey-patch earlier. See                                              <span style=\"color: #7f7f7f; text-decoration-color: #7f7f7f\">               </span>\n",
       "<span style=\"color: #7fbfbf; text-decoration-color: #7fbfbf\">                    </span>         <span style=\"color: #0069ff; text-decoration-color: #0069ff; text-decoration: underline\">https://github.com/gevent/gevent/issues/1016.</span> Modules that had direct  <span style=\"color: #7f7f7f; text-decoration-color: #7f7f7f\">               </span>\n",
       "<span style=\"color: #7fbfbf; text-decoration-color: #7fbfbf\">                    </span>         imports <span style=\"font-weight: bold\">(</span>NOT patched<span style=\"font-weight: bold\">)</span>: <span style=\"font-weight: bold\">[</span><span style=\"color: #008700; text-decoration-color: #008700\">'urllib3.util </span>                                 <span style=\"color: #7f7f7f; text-decoration-color: #7f7f7f\">               </span>\n",
       "<span style=\"color: #7fbfbf; text-decoration-color: #7fbfbf\">                    </span>         <span style=\"color: #008700; text-decoration-color: #008700; font-weight: bold\">(</span><span style=\"color: #008700; text-decoration-color: #008700\">/opt/amazon/lib/python3.7/site-packages/urllib3/util/__init__.py</span><span style=\"color: #008700; text-decoration-color: #008700; font-weight: bold\">)</span><span style=\"color: #008700; text-decoration-color: #008700\">'</span>,   <span style=\"color: #7f7f7f; text-decoration-color: #7f7f7f\">               </span>\n",
       "<span style=\"color: #7fbfbf; text-decoration-color: #7fbfbf\">                    </span>         <span style=\"color: #008700; text-decoration-color: #008700\">'urllib3.util.ssl_ </span>                                                    <span style=\"color: #7f7f7f; text-decoration-color: #7f7f7f\">               </span>\n",
       "<span style=\"color: #7fbfbf; text-decoration-color: #7fbfbf\">                    </span>         <span style=\"color: #008700; text-decoration-color: #008700; font-weight: bold\">(</span><span style=\"color: #008700; text-decoration-color: #008700\">/opt/amazon/lib/python3.7/site-packages/urllib3/util/ssl_.py</span><span style=\"color: #008700; text-decoration-color: #008700; font-weight: bold\">)</span><span style=\"color: #008700; text-decoration-color: #008700\">'</span><span style=\"font-weight: bold\">]</span>.      <span style=\"color: #7f7f7f; text-decoration-color: #7f7f7f\">               </span>\n",
       "<span style=\"color: #7fbfbf; text-decoration-color: #7fbfbf\">                    </span>           <span style=\"color: #e100e1; text-decoration-color: #e100e1; font-weight: bold\">monkey.patch_all</span><span style=\"font-weight: bold\">(</span><span style=\"color: #d7af00; text-decoration-color: #d7af00\">subprocess</span>=<span style=\"color: #008700; text-decoration-color: #008700; font-style: italic\">True</span><span style=\"font-weight: bold\">)</span>                                    <span style=\"color: #7f7f7f; text-decoration-color: #7f7f7f\">               </span>\n",
       "</pre>\n"
      ]
     },
     "metadata": {},
     "output_type": "display_data"
    },
    {
     "data": {
      "text/plain": [
       "\u001B[2;36m                   \u001B[0m\u001B[2;36m \u001B[0m\u001B[1;38;2;0;105;255mINFO    \u001B[0m \u001B[1m[\u001B[0m\u001B[1;36m2024\u001B[0m-\u001B[1;36m10\u001B[0m-30:20:20:51:INFO\u001B[1m]\u001B[0m Model loaded successfully for worker : \u001B[1;36m24\u001B[0m   \u001B]8;id=901867;file:///Users/nargokul/workspace/sagemaker-python-sdk-staging/sagemaker-python-sdk-staging/src/sagemaker/session.py\u001B\\\u001B[2msession.py\u001B[0m\u001B]8;;\u001B\\\u001B[2m:\u001B[0m\u001B]8;id=827841;file:///Users/nargokul/workspace/sagemaker-python-sdk-staging/sagemaker-python-sdk-staging/src/sagemaker/session.py#8308\u001B\\\u001B[2m8308\u001B[0m\u001B]8;;\u001B\\\n"
      ],
      "text/html": [
       "<pre style=\"white-space:pre;overflow-x:auto;line-height:normal;font-family:Menlo,'DejaVu Sans Mono',consolas,'Courier New',monospace\"><span style=\"color: #7fbfbf; text-decoration-color: #7fbfbf\">                    </span><span style=\"color: #0069ff; text-decoration-color: #0069ff; font-weight: bold\">INFO    </span> <span style=\"font-weight: bold\">[</span><span style=\"color: #008080; text-decoration-color: #008080; font-weight: bold\">2024</span>-<span style=\"color: #008080; text-decoration-color: #008080; font-weight: bold\">10</span>-30:20:20:51:INFO<span style=\"font-weight: bold\">]</span> Model loaded successfully for worker : <span style=\"color: #008080; text-decoration-color: #008080; font-weight: bold\">24</span>   <a href=\"file:///Users/nargokul/workspace/sagemaker-python-sdk-staging/sagemaker-python-sdk-staging/src/sagemaker/session.py\" target=\"_blank\"><span style=\"color: #7f7f7f; text-decoration-color: #7f7f7f\">session.py</span></a><span style=\"color: #7f7f7f; text-decoration-color: #7f7f7f\">:</span><a href=\"file:///Users/nargokul/workspace/sagemaker-python-sdk-staging/sagemaker-python-sdk-staging/src/sagemaker/session.py#8308\" target=\"_blank\"><span style=\"color: #7f7f7f; text-decoration-color: #7f7f7f\">8308</span></a>\n",
       "</pre>\n"
      ]
     },
     "metadata": {},
     "output_type": "display_data"
    },
    {
     "data": {
      "text/plain": [
       "\u001B[2;36m[10/30/24 13:21:26]\u001B[0m\u001B[2;36m \u001B[0m\u001B[1;38;2;0;105;255mINFO    \u001B[0m Created endpoint with name                                             \u001B]8;id=56717;file:///Users/nargokul/workspace/sagemaker-python-sdk-staging/sagemaker-python-sdk-staging/src/sagemaker/session.py\u001B\\\u001B[2msession.py\u001B[0m\u001B]8;;\u001B\\\u001B[2m:\u001B[0m\u001B]8;id=391476;file:///Users/nargokul/workspace/sagemaker-python-sdk-staging/sagemaker-python-sdk-staging/src/sagemaker/session.py#8294\u001B\\\u001B[2m8294\u001B[0m\u001B]8;;\u001B\\\n",
       "\u001B[2;36m                    \u001B[0m         model-name-f76fb1fa96fa11efb5372ad633a9-\u001B[1;36m2024\u001B[0m-10-30-20-18-16-602        \u001B[2m               \u001B[0m\n"
      ],
      "text/html": [
       "<pre style=\"white-space:pre;overflow-x:auto;line-height:normal;font-family:Menlo,'DejaVu Sans Mono',consolas,'Courier New',monospace\"><span style=\"color: #7fbfbf; text-decoration-color: #7fbfbf\">[10/30/24 13:21:26] </span><span style=\"color: #0069ff; text-decoration-color: #0069ff; font-weight: bold\">INFO    </span> Created endpoint with name                                             <a href=\"file:///Users/nargokul/workspace/sagemaker-python-sdk-staging/sagemaker-python-sdk-staging/src/sagemaker/session.py\" target=\"_blank\"><span style=\"color: #7f7f7f; text-decoration-color: #7f7f7f\">session.py</span></a><span style=\"color: #7f7f7f; text-decoration-color: #7f7f7f\">:</span><a href=\"file:///Users/nargokul/workspace/sagemaker-python-sdk-staging/sagemaker-python-sdk-staging/src/sagemaker/session.py#8294\" target=\"_blank\"><span style=\"color: #7f7f7f; text-decoration-color: #7f7f7f\">8294</span></a>\n",
       "<span style=\"color: #7fbfbf; text-decoration-color: #7fbfbf\">                    </span>         model-name-f76fb1fa96fa11efb5372ad633a9-<span style=\"color: #008080; text-decoration-color: #008080; font-weight: bold\">2024</span>-10-30-20-18-16-602        <span style=\"color: #7f7f7f; text-decoration-color: #7f7f7f\">               </span>\n",
       "</pre>\n"
      ]
     },
     "metadata": {},
     "output_type": "display_data"
    },
    {
     "name": "stderr",
     "output_type": "stream",
     "text": [
      "ModelBuilder: DEBUG:     ModelBuilder metrics emitted.\n"
     ]
    }
   ],
   "execution_count": 6
  },
  {
   "metadata": {},
   "cell_type": "markdown",
   "source": "#### Batch Deployment",
   "id": "f8458db5bfb1a0c5"
  },
  {
   "metadata": {},
   "cell_type": "code",
   "source": [
    "from sagemaker.s3_utils import s3_path_join\n",
    "\n",
    "\n",
    "batch_predictor = model_builder.deploy(\n",
    "    initial_instance_count=1,\n",
    "    inference_config=BatchTransformInferenceConfig(\n",
    "        instance_count=1,\n",
    "        instance_type='ml.m5.large',\n",
    "        output_path=s3_path_join(\"s3://\", bucket, \"async_inference/output\"),\n",
    "    )\n",
    ")"
   ],
   "id": "5a80ccf640a5dca9",
   "outputs": [],
   "execution_count": null
  },
  {
   "metadata": {},
   "cell_type": "markdown",
   "source": [
    "#### MultiModel Deployment\n",
    "\n",
    "Similar syntax applies for Multi-Container Endpoint as well"
   ],
   "id": "d97c14830180dd4"
  },
  {
   "metadata": {
    "jupyter": {
     "is_executing": true
    },
    "ExecuteTime": {
     "start_time": "2024-10-30T20:30:57.436543Z"
    }
   },
   "cell_type": "code",
   "source": [
    "from sagemaker.compute_resource_requirements import ResourceRequirements\n",
    "\n",
    "multi_model_predictor = model_builder.deploy(\n",
    "    inference_config = ResourceRequirements(\n",
    "        requests={\n",
    "            \"num_cpus\": 0.5,\n",
    "            \"memory\": 512,\n",
    "            \"copies\": 2,\n",
    "        },\n",
    "        limits={},\n",
    "    ),\n",
    "    initial_instance_count=1)"
   ],
   "id": "9788d4f7fab3b7ca",
   "outputs": [
    {
     "name": "stderr",
     "output_type": "stream",
     "text": [
      "ModelBuilder: INFO:     ModelBuilder will collect telemetry to help us better understand our user's needs, diagnose issues, and deliver additional features. To opt out of telemetry, please disable via TelemetryOptOut in intelligent defaults. See https://sagemaker.readthedocs.io/en/stable/overview.html#configuring-and-using-defaults-with-the-sagemaker-python-sdk for more info.\n"
     ]
    },
    {
     "data": {
      "text/plain": [
       "\u001B[2;36m[10/30/24 13:30:58]\u001B[0m\u001B[2;36m \u001B[0m\u001B[1;38;2;0;105;255mINFO    \u001B[0m Creating endpoint-config with name                                     \u001B]8;id=987242;file:///Users/nargokul/workspace/sagemaker-python-sdk-staging/sagemaker-python-sdk-staging/src/sagemaker/session.py\u001B\\\u001B[2msession.py\u001B[0m\u001B]8;;\u001B\\\u001B[2m:\u001B[0m\u001B]8;id=233313;file:///Users/nargokul/workspace/sagemaker-python-sdk-staging/sagemaker-python-sdk-staging/src/sagemaker/session.py#5817\u001B\\\u001B[2m5817\u001B[0m\u001B]8;;\u001B\\\n",
       "\u001B[2;36m                    \u001B[0m         model-name-f76fb1fa96fa11efb5372ad633a9-\u001B[1;36m2024\u001B[0m-10-30-20-30-57-438        \u001B[2m               \u001B[0m\n"
      ],
      "text/html": [
       "<pre style=\"white-space:pre;overflow-x:auto;line-height:normal;font-family:Menlo,'DejaVu Sans Mono',consolas,'Courier New',monospace\"><span style=\"color: #7fbfbf; text-decoration-color: #7fbfbf\">[10/30/24 13:30:58] </span><span style=\"color: #0069ff; text-decoration-color: #0069ff; font-weight: bold\">INFO    </span> Creating endpoint-config with name                                     <a href=\"file:///Users/nargokul/workspace/sagemaker-python-sdk-staging/sagemaker-python-sdk-staging/src/sagemaker/session.py\" target=\"_blank\"><span style=\"color: #7f7f7f; text-decoration-color: #7f7f7f\">session.py</span></a><span style=\"color: #7f7f7f; text-decoration-color: #7f7f7f\">:</span><a href=\"file:///Users/nargokul/workspace/sagemaker-python-sdk-staging/sagemaker-python-sdk-staging/src/sagemaker/session.py#5817\" target=\"_blank\"><span style=\"color: #7f7f7f; text-decoration-color: #7f7f7f\">5817</span></a>\n",
       "<span style=\"color: #7fbfbf; text-decoration-color: #7fbfbf\">                    </span>         model-name-f76fb1fa96fa11efb5372ad633a9-<span style=\"color: #008080; text-decoration-color: #008080; font-weight: bold\">2024</span>-10-30-20-30-57-438        <span style=\"color: #7f7f7f; text-decoration-color: #7f7f7f\">               </span>\n",
       "</pre>\n"
      ]
     },
     "metadata": {},
     "output_type": "display_data"
    },
    {
     "data": {
      "text/plain": [
       "\u001B[2;36m                   \u001B[0m\u001B[2;36m \u001B[0m\u001B[1;38;2;0;105;255mINFO    \u001B[0m Creating endpoint with name                                            \u001B]8;id=10549;file:///Users/nargokul/workspace/sagemaker-python-sdk-staging/sagemaker-python-sdk-staging/src/sagemaker/session.py\u001B\\\u001B[2msession.py\u001B[0m\u001B]8;;\u001B\\\u001B[2m:\u001B[0m\u001B]8;id=757746;file:///Users/nargokul/workspace/sagemaker-python-sdk-staging/sagemaker-python-sdk-staging/src/sagemaker/session.py#4639\u001B\\\u001B[2m4639\u001B[0m\u001B]8;;\u001B\\\n",
       "\u001B[2;36m                    \u001B[0m         model-name-f76fb1fa96fa11efb5372ad633a9-\u001B[1;36m2024\u001B[0m-10-30-20-30-57-438        \u001B[2m               \u001B[0m\n"
      ],
      "text/html": [
       "<pre style=\"white-space:pre;overflow-x:auto;line-height:normal;font-family:Menlo,'DejaVu Sans Mono',consolas,'Courier New',monospace\"><span style=\"color: #7fbfbf; text-decoration-color: #7fbfbf\">                    </span><span style=\"color: #0069ff; text-decoration-color: #0069ff; font-weight: bold\">INFO    </span> Creating endpoint with name                                            <a href=\"file:///Users/nargokul/workspace/sagemaker-python-sdk-staging/sagemaker-python-sdk-staging/src/sagemaker/session.py\" target=\"_blank\"><span style=\"color: #7f7f7f; text-decoration-color: #7f7f7f\">session.py</span></a><span style=\"color: #7f7f7f; text-decoration-color: #7f7f7f\">:</span><a href=\"file:///Users/nargokul/workspace/sagemaker-python-sdk-staging/sagemaker-python-sdk-staging/src/sagemaker/session.py#4639\" target=\"_blank\"><span style=\"color: #7f7f7f; text-decoration-color: #7f7f7f\">4639</span></a>\n",
       "<span style=\"color: #7fbfbf; text-decoration-color: #7fbfbf\">                    </span>         model-name-f76fb1fa96fa11efb5372ad633a9-<span style=\"color: #008080; text-decoration-color: #008080; font-weight: bold\">2024</span>-10-30-20-30-57-438        <span style=\"color: #7f7f7f; text-decoration-color: #7f7f7f\">               </span>\n",
       "</pre>\n"
      ]
     },
     "metadata": {},
     "output_type": "display_data"
    }
   ],
   "execution_count": null
  },
  {
   "metadata": {},
   "cell_type": "code",
   "outputs": [],
   "execution_count": null,
   "source": "",
   "id": "724aec7045fd80f1"
  }
 ],
 "metadata": {
  "kernelspec": {
   "display_name": "Python 3",
   "language": "python",
   "name": "python3"
  },
  "language_info": {
   "codemirror_mode": {
    "name": "ipython",
    "version": 2
   },
   "file_extension": ".py",
   "mimetype": "text/x-python",
   "name": "python",
   "nbconvert_exporter": "python",
   "pygments_lexer": "ipython2",
   "version": "2.7.6"
  }
 },
 "nbformat": 4,
 "nbformat_minor": 5
}
